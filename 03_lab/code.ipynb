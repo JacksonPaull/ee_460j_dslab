{
 "cells": [
  {
   "cell_type": "markdown",
   "metadata": {},
   "source": [
    "# Problem 1 - Josh\n",
    "\n",
    "Read Shannon’s 1948 paper ’A Mathematical Theory of Communication’.  \n",
    "Focus on pages 1-19 (up to Part II), the remaining part is more relevant for communication.\n",
    "https://people.math.harvard.edu/~ctm/home/text/others/shannon/entropy/entropy.pdf\n",
    "\n",
    "*Q: Summarize what you learned briefly (e.g. half a page).*"
   ]
  },
  {
   "cell_type": "markdown",
   "metadata": {},
   "source": [
    "\\<Summary\\>"
   ]
  },
  {
   "cell_type": "markdown",
   "metadata": {},
   "source": [
    "# Problem 2 - Jackson  \n",
    "\n",
    "ICML is a top research conference in Machine learning. Scrape all the pdfs of all ICML 2017 papers from http://proceedings.mlr.press/v70/.\n",
    "1. What are the top 10 common words in the ICML papers?\n",
    "2. Let Zbe a randomly selected word in a randomly selected ICML paper. Estimate the entropy\n",
    "of Z.\n",
    "3. Synthesize a random paragraph using the marginal distribution over words.\n",
    "4. (Extra credit) Synthesize a random paragraph using an n-gram model on words. Synthesize\n",
    "a random paragraph using any model you want. Top five synthesized text paragraphs win\n",
    "bonus (+30 points)."
   ]
  },
  {
   "cell_type": "code",
   "execution_count": null,
   "metadata": {},
   "outputs": [],
   "source": [
    "# Scraper\n",
    "import requests\n",
    "import logging\n",
    "import os\n",
    "from bs4 import BeautifulSoup as bs\n",
    "\n",
    "def scrape(dump_folder, source):\n",
    "    #Create folder to dump into\n",
    "    if not os.path.isdir(dump_folder):\n",
    "        os.mkdir(dump_folder)\n",
    "\n",
    "    #Set up logging\n",
    "    f = open(f'{dump_folder}log.txt', 'w') #Open the file if its not already opened\n",
    "    f.close()\n",
    "    logging.basicConfig(level=logging.INFO, filename=f'{dump_folder}log.txt')\n",
    "    \n",
    "    #Get list of links\n",
    "    html = requests.get(source)\n",
    "    soup = bs(html.content, 'html.parser')\n",
    "    links = soup.findAll('a')\n",
    "\n",
    "    #Scrape all PDFs\n",
    "    names = []\n",
    "    for l in links:\n",
    "        if l.decode_contents() == 'Download PDF' or l.decode_contents() == 'Supplementary PDF':\n",
    "            src = l.get('href').replace('ı', 'i') # Fix small error in one of the scraped links\n",
    "            fname = src[src.rindex('/')+1:]\n",
    "            if fname in names:\n",
    "                logging.CRITICAL(f'OVERWRITING FILE WITH NAME {fname}')\n",
    "            names.append(fname)\n",
    "            logging.info(f'Scraping pdf from {src} into {fname}')\n",
    "\n",
    "            pdf = requests.get(src)\n",
    "            with open(f'{dump_folder}{fname}', 'wb') as f:\n",
    "                f.write(pdf.content)"
   ]
  },
  {
   "cell_type": "code",
   "execution_count": 12,
   "metadata": {},
   "outputs": [],
   "source": [
    "import fitz\n",
    "import pandas as pd\n",
    "import numpy as np\n",
    "from tqdm import tqdm\n",
    "\n",
    "def parse_pdf(fp):\n",
    "    df = pd.DataFrame(columns=['word', 'prev'])\n",
    "    pdf = fitz.open(fp)\n",
    "    for page in pdf:\n",
    "        _blocks = pdf[0].get_text_blocks()\n",
    "        blocks = []\n",
    "        for b in _blocks:\n",
    "            if b[-1] != 1:\n",
    "                blocks.append(b)\n",
    "\n",
    "        #Create 2D array of words by block\n",
    "        data = [x[4].replace('. ', ' . ').split() +['\\end'] for x in blocks]\n",
    "        mlen = max([len(d) for d in data])\n",
    "        data = [d + ['' for i in range(mlen - len(d) + 1)] for d in data]\n",
    "\n",
    "        #Create array of previous words by block\n",
    "        words = np.array(data)\n",
    "        prev = np.roll(words, 1, axis=1)\n",
    "        prev[:, 0] = '\\start'\n",
    "\n",
    "        words = words.flatten()\n",
    "        prev = prev.flatten()\n",
    "\n",
    "        df = pd.concat(df, pd.DataFrame(data = np.column_stack([words, prev]), columns=['word', 'prev']))\n",
    "\n",
    "    return df\n",
    "\n",
    "\n",
    "def parse_pdfs(dump_folder):\n",
    "    df = pd.DataFrame(columns=['word', 'prev', 'count'])\n",
    "\n",
    "    for fp in tqdm(os.listdir(dump_folder)):\n",
    "        if not fp.endswith('pdf'):\n",
    "            continue #Only process PDFs\n",
    "\n",
    "        df = parse_pdf(dump_folder+fp, df)\n",
    "    \n",
    "    return df\n",
    "        "
   ]
  },
  {
   "cell_type": "code",
   "execution_count": 13,
   "metadata": {},
   "outputs": [
    {
     "ename": "TypeError",
     "evalue": "parse_pdf() got an unexpected keyword argument 'dump_folder'",
     "output_type": "error",
     "traceback": [
      "\u001b[1;31m---------------------------------------------------------------------------\u001b[0m",
      "\u001b[1;31mTypeError\u001b[0m                                 Traceback (most recent call last)",
      "\u001b[1;32m~\\AppData\\Local\\Temp\\ipykernel_16184\\496646553.py\u001b[0m in \u001b[0;36m<module>\u001b[1;34m\u001b[0m\n\u001b[1;32m----> 1\u001b[1;33m \u001b[0mout\u001b[0m \u001b[1;33m=\u001b[0m \u001b[0mparse_pdf\u001b[0m\u001b[1;33m(\u001b[0m\u001b[0mdump_folder\u001b[0m\u001b[1;33m=\u001b[0m\u001b[1;34m'./scraped/achab17a-supp.pdf'\u001b[0m\u001b[1;33m)\u001b[0m\u001b[1;33m\u001b[0m\u001b[1;33m\u001b[0m\u001b[0m\n\u001b[0m",
      "\u001b[1;31mTypeError\u001b[0m: parse_pdf() got an unexpected keyword argument 'dump_folder'"
     ]
    }
   ],
   "source": [
    "out = parse_pdf('./scraped/achab17a-supp.pdf')"
   ]
  },
  {
   "cell_type": "code",
   "execution_count": null,
   "metadata": {},
   "outputs": [],
   "source": [
    "#Text Synthesizing\n",
    "\n",
    "#Choose the highest probability word at each step until it chooses \\end"
   ]
  },
  {
   "cell_type": "code",
   "execution_count": null,
   "metadata": {},
   "outputs": [],
   "source": [
    "def problem2(source='http://proceedings.mlr.press/v70/', \n",
    "                dump_folder = './scraped/'):\n",
    "    \n",
    "    # Part 1 - Scrape PDFs (if not already done)\n",
    "    if dump_folder[-1] != '/':\n",
    "        dump_folder += '/'\n",
    "    files = os.listdir(dump_folder)\n",
    "    if len(files) < 10:\n",
    "        #Probably haven't scraped\n",
    "        scrape(dump_folder, source)\n",
    "\n",
    "    # Part 2 - Load and process PDFs\n",
    "    df = parse_pdfs(dump_folder)\n",
    "\n",
    "\n",
    "    # Part 3 - Synthesize Text"
   ]
  },
  {
   "cell_type": "markdown",
   "metadata": {},
   "source": [
    "# Problem 3 - Jhanvi\n",
    "\n",
    "Continue building your toolbox on Kaggle. Work on submissions for the same competition\n",
    "https://www.kaggle.com/c/house-prices-advanced-regression-techniques/\n",
    "1. What is the best Kaggle forum post that you found? Briefly describe what you learned from\n",
    "it.\n",
    "2. What is the best public leader board (LB) score you can achieve? Describe your approach.\n",
    "3. Submit a model that is definitely overfitting and a model that is definitely underfitting.\n",
    "\n",
    "\n",
    "Overfitting means that your training error is much smaller compared to your test error (and LB score).   \n",
    "Underfitting means that your model is too simple and even the training error is very large (and so will the test error).  \n",
    "You can experiment with depth of decision trees in random forests or XGBoost classifiers as the metric of complexity for your models, or any other family of models you want."
   ]
  },
  {
   "cell_type": "markdown",
   "metadata": {},
   "source": []
  }
 ],
 "metadata": {
  "kernelspec": {
   "display_name": "Python 3.7.4 32-bit",
   "language": "python",
   "name": "python3"
  },
  "language_info": {
   "codemirror_mode": {
    "name": "ipython",
    "version": 3
   },
   "file_extension": ".py",
   "mimetype": "text/x-python",
   "name": "python",
   "nbconvert_exporter": "python",
   "pygments_lexer": "ipython3",
   "version": "3.7.4"
  },
  "orig_nbformat": 4,
  "vscode": {
   "interpreter": {
    "hash": "98d37f7209dd3d8d9e41e6cf12ce2f5225a545382f822ec0af106014a0846ccf"
   }
  }
 },
 "nbformat": 4,
 "nbformat_minor": 2
}
