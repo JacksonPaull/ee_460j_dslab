{
 "cells": [
  {
   "cell_type": "markdown",
   "metadata": {},
   "source": [
    "# Problem 1 - Josh\n",
    "\n",
    "Read Shannon’s 1948 paper ’A Mathematical Theory of Communication’.  \n",
    "Focus on pages 1-19 (up to Part II), the remaining part is more relevant for communication.\n",
    "https://people.math.harvard.edu/~ctm/home/text/others/shannon/entropy/entropy.pdf\n",
    "\n",
    "*Q: Summarize what you learned briefly (e.g. half a page).*"
   ]
  },
  {
   "cell_type": "markdown",
   "metadata": {},
   "source": [
    "After reading Shannon’s 1948 paper ‘A Mathematical Theory of Communication I learned a\n",
    "great deal about communication and the math that goes along with it. One topic I learned was\n",
    "the different types of information sources that exist to produce a message to be communicated.\n",
    "For example, there exist messages that contain two or more functions of time which are\n",
    "apparent in “three-dimensional” sound transmission. Another information source that is notable\n",
    "is messages that contain several functions of several variables such as in color television in\n",
    "which the message contains three functions defined in a three-dimensional continuum. With all\n",
    "of these messages needing to be sent over a channel, the capacity of a channel becomes\n",
    "useful in knowing how much a particular channel can transmit. \n",
    "Using the equation\n",
    "\n",
    "$$C = \\lim_{T \\to \\inf}\\frac{logN(T)}{T}$$\n",
    ", one can get the capacity of a specific channel. Another fact I learned\n",
    "about messages is that some message sequences possess restrictions on what can be sent in\n",
    "what order. More specifically, only a certain set of symbols can be transmitted and once this\n",
    "symbol is sent, the state changes to a new state depending on the old state and the particular\n",
    "symbol that has been transmitted. An example of this is the telegraph case where there are two\n",
    "states that depend on whether a space was the last symbol transmitted. If the space condition\n",
    "is satisfied, only a dot can be sent next and the state always changes. Otherwise, any symbol\n",
    "can be transmitted and the current state will only change if a space is sent, else it stays the\n",
    "same. One last thing I learned that I found particularly interesting was that messages are\n",
    "encoded based on the likelihood of a certain symbol in a given sequence. For example in\n",
    "English, the letter E occurs much more likely than the letter Q. By knowing these trends, we can\n",
    "use a Markov Chain to represent the probability of each letter in a message sequence. Using\n",
    "this information, we are able to decide the proper way to encode the message for transmission."
   ]
  },
  {
   "cell_type": "markdown",
   "metadata": {},
   "source": [
    "# Problem 2 - Jackson  \n",
    "\n",
    "ICML is a top research conference in Machine learning. Scrape all the pdfs of all ICML 2017 papers from http://proceedings.mlr.press/v70/.\n",
    "1. What are the top 10 common words in the ICML papers?\n",
    "2. Let Zbe a randomly selected word in a randomly selected ICML paper. Estimate the entropy\n",
    "of Z.\n",
    "3. Synthesize a random paragraph using the marginal distribution over words.\n",
    "4. (Extra credit) Synthesize a random paragraph using an n-gram model on words. Synthesize\n",
    "a random paragraph using any model you want. Top five synthesized text paragraphs win\n",
    "bonus (+30 points)."
   ]
  },
  {
   "cell_type": "code",
   "execution_count": 145,
   "metadata": {},
   "outputs": [],
   "source": [
    "# Scraper\n",
    "from bs4 import BeautifulSoup as bs\n",
    "from tqdm import tqdm\n",
    "from random import random\n",
    "import pandas as pd\n",
    "import numpy as np\n",
    "import requests\n",
    "import logging\n",
    "import fitz\n",
    "import os\n",
    "\n",
    "def scrape(dump_folder, source):\n",
    "    if dump_folder[-1] != '/':\n",
    "        dump_folder += '/'\n",
    "    #Create folder to dump into\n",
    "    if not os.path.isdir(dump_folder):\n",
    "        os.mkdir(dump_folder)\n",
    "\n",
    "    #Set up logging\n",
    "    f = open(f'{dump_folder}log.txt', 'w') #Open the file if its not already opened\n",
    "    f.close()\n",
    "    logging.basicConfig(level=logging.INFO, filename=f'{dump_folder}log.txt')\n",
    "    \n",
    "    #Get list of links\n",
    "    html = requests.get(source)\n",
    "    soup = bs(html.content, 'html.parser')\n",
    "    links = soup.findAll('a')\n",
    "\n",
    "    #Scrape all PDFs\n",
    "    names = []\n",
    "    for l in links:\n",
    "        if l.decode_contents() == 'Download PDF' or l.decode_contents() == 'Supplementary PDF':\n",
    "            src = l.get('href').replace('ı', 'i') # Fix small error in one of the scraped links\n",
    "            fname = src[src.rindex('/')+1:]\n",
    "            if fname in names:\n",
    "                logging.CRITICAL(f'OVERWRITING FILE WITH NAME {fname}')\n",
    "            names.append(fname)\n",
    "            logging.info(f'Scraping pdf from {src} into {fname}')\n",
    "\n",
    "            pdf = requests.get(src)\n",
    "            with open(f'{dump_folder}{fname}', 'wb') as f:\n",
    "                f.write(pdf.content)\n",
    "\n",
    "def parse_pdf(fp):\n",
    "    df = pd.DataFrame(columns=['word', 'prev'])\n",
    "    pdf = fitz.open(fp)\n",
    "    for page in pdf:\n",
    "        _blocks = pdf[0].get_text_blocks()\n",
    "        blocks = []\n",
    "        for b in _blocks:\n",
    "            if b[-1] != 1:\n",
    "                blocks.append(b)\n",
    "\n",
    "        #Create 2D array of words by block\n",
    "        data = [x[4].replace('. ', ' . ').split() +['\\end'] for x in blocks]\n",
    "        if data == []:\n",
    "            continue\n",
    "        mlen = max([len(d) for d in data])\n",
    "        data = [d + ['' for i in range(mlen - len(d) + 1)] for d in data]\n",
    "\n",
    "        #Create array of previous words by block\n",
    "        words = np.array(data)\n",
    "        prev = np.roll(words, 1, axis=1)\n",
    "        prev[:, 0] = '\\start'\n",
    "\n",
    "        words = words.flatten()\n",
    "        prev = prev.flatten()\n",
    "\n",
    "        df = pd.concat([df, pd.DataFrame(data = np.column_stack([words, prev]), columns=['word', 'prev'])])\n",
    "\n",
    "    return df.drop(df[(df['word']=='') | (df['prev']=='')].index)\n",
    "\n",
    "\n",
    "def parse_pdfs(dump_folder):\n",
    "    df = pd.DataFrame(columns=['word', 'prev'])\n",
    "    for fp in tqdm(os.listdir(dump_folder)):\n",
    "        if not fp.endswith('pdf'):\n",
    "            continue #Only process PDFs\n",
    "        df = pd.concat([df, parse_pdf(dump_folder+fp)])\n",
    "\n",
    "    df['count'] = 1\n",
    "    df = pd.pivot_table(df, values='count', index=['prev', 'word'], aggfunc=np.sum)\n",
    "    df = df.reset_index(level=1)\n",
    "    df = df[(df.index.str.match(r'^[\\\\a-zA-Z\\.]+$')) & (df['word'].str.match(r'^[\\\\a-zA-Z\\.]+$'))]\n",
    "    df['total'] = df.groupby(by='prev').transform('sum')['count'].astype(int)\n",
    "    df['percent'] = df['count'] / df['total']\n",
    "    df['cumsum'] = df.groupby(by='prev').transform('cumsum')['percent'].astype(float)\n",
    "\n",
    "    return df\n",
    "\n",
    "def predict(df, prev_word):\n",
    "    \"\"\"\n",
    "    Given a previous word, and a marginal distribution dataframe, predict the word that follows it\n",
    "    \"\"\"\n",
    "    p = random()\n",
    "    words = df.loc[prev_word]\n",
    "    if type(words) == pd.Series:\n",
    "        return words['word']\n",
    "    words = words[words['cumsum'] > p]\n",
    "    return words.iloc[0]['word']\n",
    "    \n",
    "\n",
    "    \n",
    "\n",
    "def synthesize_text(use_stored_data= True, df_fp='./distir.csv', save=True, source='http://proceedings.mlr.press/v70/', dump_folder = './scraped/', scrape_data=True):\n",
    "    \"\"\"If stored data exists, use it\n",
    "    Otherwise scrape and process\n",
    "    \n",
    "\n",
    "    Then iteratively predict what word comes next\"\"\"\n",
    "\n",
    "    # Scrape if necessary\n",
    "    if not (use_stored_data and os.path.exists(df_fp)):\n",
    "        if scrape_data:\n",
    "            print('Scraping...', end='')\n",
    "            scrape(dump_folder, source)\n",
    "            print('Done!')\n",
    "        df = parse_pdfs(dump_folder)\n",
    "        \n",
    "        #Save if wanted\n",
    "        if save:\n",
    "            df.to_csv(df_fp)\n",
    "    else:\n",
    "        df = pd.read_csv(df_fp, index_col=0)\n",
    "\n",
    "    # Iteratively Synthesize Text\n",
    "    words = ['\\start']\n",
    "    while words[-1] != '\\end':\n",
    "        words += [predict(df, words[-1])]\n",
    "        \n",
    "    return (' '.join(words[1:-1])).replace(' . ', '. ')\n",
    "\n",
    "def top_words(df, n=10):\n",
    "    return list(df.groupby(by='word')['count'].sum().sort_values(ascending=False).head(n).index)\n",
    "\n",
    "def entropy(_df, word=None):\n",
    "    if word is None:\n",
    "        word = _df['word'].sample(1).values[0]\n",
    "\n",
    "    df = _df[_df['word'] == word]\n",
    "\n",
    "    return word, -1 * (np.sum(df['percent'] * np.log(df['percent'])/np.log(2)))"
   ]
  },
  {
   "cell_type": "code",
   "execution_count": 115,
   "metadata": {},
   "outputs": [
    {
     "data": {
      "text/plain": [
       "['the', 'of', '.', 'a', 'to', '\\\\end', 'is', 'and', 'in', 'that']"
      ]
     },
     "execution_count": 115,
     "metadata": {},
     "output_type": "execute_result"
    }
   ],
   "source": [
    "#top 10 words\n",
    "df = pd.read_csv('./distir.csv')\n",
    "top_words(df, 10)"
   ]
  },
  {
   "cell_type": "code",
   "execution_count": 152,
   "metadata": {},
   "outputs": [
    {
     "data": {
      "text/plain": [
       "('implement', 0.1260897249795341)"
      ]
     },
     "execution_count": 152,
     "metadata": {},
     "output_type": "execute_result"
    }
   ],
   "source": [
    "entropy(df)"
   ]
  },
  {
   "cell_type": "code",
   "execution_count": 155,
   "metadata": {},
   "outputs": [
    {
     "data": {
      "text/plain": [
       "'Z is still not have too sensitive to quadratically in the learnable embeddings separately by a good prediction As its evolution over binary vectors. These include the amount of the system. Exact solutions to the full history and useful and was naturally generate sparse generalized WNN by combining the neural architectures despite its performance of Thm. We note that leads to estimate the feasible region P. . Fix a typical case of the c.d.f. Correspondence'"
      ]
     },
     "execution_count": 155,
     "metadata": {},
     "output_type": "execute_result"
    }
   ],
   "source": [
    "synthesize_text()"
   ]
  },
  {
   "cell_type": "markdown",
   "metadata": {},
   "source": [
    "# Takeaways and synthesized text\n",
    "\n",
    "> C \\\\\\\\ S is the input perturbation of about individuals\n",
    "\n",
    "> Z is still not have too sensitive to quadratically in the learnable embeddings separately by a good prediction As its evolution over binary vectors. These include the amount of the system. Exact solutions to the full history and useful and was naturally generate sparse generalized WNN by combining the neural architectures despite its performance of Thm. We note that leads to estimate the feasible region P. . Fix a typical case of the c.d.f. Correspondence\n",
    "\n",
    "Above are examples of text that was produced using only the marginal distribution of words seen in the scraped PDFs, however it is not a very good approximation of human sentences.\n",
    "This is due to the fact that words are not constructed in the context of the previously seen word, but rather all words in the sentence and paragraph prior to it.\n",
    "\n",
    "An n-gram model takes the same concept but expands to be trained on the context of the n-previous words, with a higher n leading to much better text generation.\n",
    "This still has its limitations however, as even a very large corpus does not have enough data to fully capture the range of possible human speech, so recurrent neural networks trained on tokenized text is a better next step.\n"
   ]
  },
  {
   "cell_type": "markdown",
   "metadata": {
    "collapsed": false,
    "pycharm": {
     "name": "#%% md\n"
    }
   },
   "source": [
    "# Problem 3 - Jhanvi\n",
    "Continue building your toolbox on Kaggle. Work on submissions for the same competition\n",
    "https://www.kaggle.com/c/house-prices-advanced-regression-techniques/\n",
    "1. What is the best Kaggle forum post that you found? Briefly describe what you learned from\n",
    "it.\n",
    "2. What is the best public leader board (LB) score you can achieve? Describe your approach.\n",
    "3. Submit a model that is definitely overfitting and a model that is definitely underfitting.\n",
    "Overfitting means that your training error is much smaller compared to your test error (and\n",
    "LB score). Underfitting means that your model is too simple and even the training error is\n",
    "very large (and so will the test error). You can experiment with depth of decision trees in\n",
    "random forests or XGBoost classifiers as the metric of complexity for your models, or any\n",
    "other family of models you want.\n",
    "\n",
    "Question 1: A forum post I found insightful was \"Top 3% housing: 8 Insights, 4 Learnings and 2 Questions (after 50+ hours)\". It detailed the importance of feature engineering and data cleaning prior to running models. It also talked through the benefit of blended models with different weights versus stacked models. Another forum post that was beneficial in understanding how to approach data was Comprehensive data exploration with Python. A Detailed Regression Guide with Python highlighted the different statistical and probabilities formulas that inform why and how models work. A non-Kaggle post that explained different ways to use XGBoost was from TowardsDataScience.\n",
    "\n",
    "Question 2: The best public leaderboard score I got was 0.12078. This was achieved using an equally weighted blended model using Lasso and XGBoost. The optimal parameters for the Lasso model were calculated through the built-in cross-validation function, while a GridSearch was used for tuning the XGBoost hyper-parameters.\n",
    "\n",
    "Question 3: To submit overfit and underfit models, I tweaked the alpha parameter of the ridge regression model. By first plotting the rmse and corresponding alphas, I identified alpha values that were not well suited to the data - below 10 to overfit and include too much rigidity in the model and much above 10 to underfit.\n"
   ]
  },
  {
   "cell_type": "markdown",
   "metadata": {
    "collapsed": false,
    "pycharm": {
     "name": "#%% md\n"
    }
   },
   "source": [
    "Note: The main tuning parameter for the Ridge model is alpha - a regularization parameter that measures how flexible our model is. The higher the regularization the less prone our model will be to overfit. However it will also lose flexibility and might not capture all of the signal in the data."
   ]
  },
  {
   "cell_type": "code",
   "execution_count": null,
   "metadata": {
    "collapsed": false,
    "pycharm": {
     "name": "#%%\n"
    }
   },
   "outputs": [
    {
     "name": "stdout",
     "output_type": "stream",
     "text": [
      "The best rsme for the ridge regression is 0.1273373466867076\n"
     ]
    },
    {
     "data": {
      "image/png": "[encoded data removed]",
      "text/plain": [
       "<Figure size 800x1000 with 1 Axes>"
      ]
     },
     "metadata": {},
     "output_type": "display_data"
    }
   ],
   "source": [
    "# Imports\n",
    "import pandas as pd\n",
    "import matplotlib as mpl\n",
    "import matplotlib.pyplot as plt\n",
    "import numpy as np\n",
    "from scipy.stats import skew\n",
    "import warnings\n",
    "warnings.filterwarnings('ignore')\n",
    "%matplotlib inline\n",
    "\n",
    "train = pd.read_csv(\"/Users/jhanvig/datalab/files/train.csv\")\n",
    "test = pd.read_csv(\"/Users/jhanvig/datalab/files/test.csv\")\n",
    "\n",
    "all_data = pd.concat((train.loc[:,'MSSubClass':'SaleCondition'],\n",
    "                      test.loc[:,'MSSubClass':'SaleCondition']))\n",
    "\n",
    "# Since data, specifically SalePrice is skewed, we need to make it normal as models require normal distributions ideally\n",
    "train[\"SalePrice\"] = np.log1p(train[\"SalePrice\"])\n",
    "\n",
    "#log transform skewed numeric features:\n",
    "numeric_feats = all_data.dtypes[all_data.dtypes != \"object\"].index\n",
    "\n",
    "skewed_feats = train[numeric_feats].apply(lambda x: skew(x.dropna())) #compute skewness\n",
    "skewed_feats = skewed_feats[skewed_feats > 0.75]\n",
    "skewed_feats = skewed_feats.index\n",
    "\n",
    "all_data[skewed_feats] = np.log1p(all_data[skewed_feats])\n",
    "all_data = pd.get_dummies(all_data)\n",
    "#filling NA's with the mean of the column:\n",
    "all_data = all_data.fillna(all_data.mean())\n",
    "\n",
    "# putting data in matrix form\n",
    "X_train = all_data[:train.shape[0]]\n",
    "X_test = all_data[train.shape[0]:]\n",
    "y = train.SalePrice\n",
    "\n",
    "from sklearn.linear_model import Ridge, RidgeCV, ElasticNet, LassoCV, LassoLarsCV\n",
    "from sklearn.model_selection import cross_val_score\n",
    "\n",
    "# The RMSE (training error) calculator function\n",
    "def rmse_cv(model):\n",
    "    rmse= np.sqrt(-cross_val_score(model, X_train, y, scoring=\"neg_mean_squared_error\", cv = 5))\n",
    "    return(rmse)\n",
    "\n",
    "#Ridge\n",
    "alphas = [0.05, 0.1, 0.3, 1, 3, 5, 10, 15, 30, 50, 75]\n",
    "cv_ridge = [rmse_cv(Ridge(alpha = alpha)).mean()\n",
    "            for alpha in alphas]\n",
    "cv_ridge = pd.Series(cv_ridge, index = alphas)\n",
    "cv_ridge.plot(title = \"Validation - Just Do It\")\n",
    "plt.xlabel(\"alpha\")\n",
    "plt.ylabel(\"rmse\")\n",
    "\n",
    "\n",
    "print(\"The best rsme for the ridge regression is {}\".format(cv_ridge.min()))\n",
    "model_ridge = Ridge(alpha=1)\n",
    "model_ridge.fit(X_train, y)\n",
    "# To overfit would be to choose too small an alpha, to underfit would be to choose too high an alpha >> consider these changes for ridge, lasso, and xgboost models\n",
    "\n",
    "# Lasso\n",
    "model_lasso = LassoCV(alphas = [1, 0.1, 0.001, 0.0005]).fit(X_train, y)\n",
    "print(\"The best rsme for the lasso regression is {}\".format(rmse_cv(model_lasso).mean()))\n",
    "\n",
    "coef = pd.Series(model_lasso.coef_, index = X_train.columns)\n",
    "print(\"Lasso picked \" + str(sum(coef != 0)) + \" variables and eliminated the other \" +  str(sum(coef == 0)) + \" variables\")\n",
    "\n",
    "##### perhaps bootstrap here\n",
    "\n",
    "imp_coef = pd.concat([coef.sort_values().head(10),\n",
    "                     coef.sort_values().tail(10)])\n",
    "mpl.rcParams['figure.figsize'] = (8.0, 10.0)\n",
    "imp_coef.plot(kind = \"barh\")\n",
    "plt.title(\"Coefficients in the Lasso Model\")\n",
    "\n",
    "print(\"Fitting 5 folds for each of 54 candidates, totalling 270 fits \\n Best parameters: {'colsample_bytree': 0.3, 'learning_rate': 0.05, 'max_depth': 3, 'n_estimators': 1000} \\n Lowest RMSE:  0.12009122458887428\")\n",
    "\n",
    "# XgBoost\n",
    "import xgboost as xgb\n",
    "dtrain = xgb.DMatrix(X_train, label = y)\n",
    "dtest = xgb.DMatrix(X_test)\n",
    "\n",
    "model_xgb = xgb.XGBRegressor(n_estimators=1000, max_depth=3, learning_rate=0.05, colsample_bytree=0.3) #the params were tuned using GridSearch\n",
    "model_xgb.fit(X_train, y)\n",
    "\n",
    "## Using GridSearch to optimize XGBoost hyperparameters; time intensive\n",
    "# from sklearn.model_selection import GridSearchCV\n",
    "#\n",
    "# params = { 'max_depth': [3,6,10],\n",
    "#            'learning_rate': [0.01, 0.05, 0.1],\n",
    "#            'n_estimators': [100, 500, 1000],\n",
    "#            'colsample_bytree': [0.3, 0.7]}\n",
    "# xgbr = xgb.XGBRegressor(seed = 20)\n",
    "# clf = GridSearchCV(estimator=xgbr,\n",
    "#                    param_grid=params,\n",
    "#                    scoring='neg_mean_squared_error',\n",
    "#                    verbose=1)\n",
    "# clf.fit(X_train, y)\n",
    "# print(\"Best parameters:\", clf.best_params_)\n",
    "# print(\"Lowest RMSE: \", (-clf.best_score_)**(1/2.0))\n",
    "\n",
    "\n",
    "# Blending\n",
    "xgb_preds = np.expm1(model_xgb.predict(X_test))\n",
    "lasso_preds = np.expm1(model_lasso.predict(X_test))\n",
    "predictions = pd.DataFrame({\"xgb\":xgb_preds, \"lasso\":lasso_preds})\n",
    "predictions.plot(x = \"xgb\", y = \"lasso\", kind = \"scatter\")\n",
    "preds = 0.5*lasso_preds + 0.5*xgb_preds # best public leaderboard score\n",
    "solution = pd.DataFrame({\"id\":test.Id, \"SalePrice\":preds})\n",
    "solution.to_csv(\"blended.csv\", index = False)\n",
    "\n",
    "# Over and underfitting for a Ridge Regression model\n",
    "preds_overfit = np.expm1(model_ridge.predict(X_test))\n",
    "solution_overfit = pd.DataFrame({\"id\":test.Id, \"SalePrice\":preds_overfit})\n",
    "solution_overfit.to_csv(\"overfit.csv\", index = False)\n",
    "\n",
    "model_ridge_underfit = Ridge(alpha=40)\n",
    "model_ridge_underfit.fit(X_train, y)\n",
    "\n",
    "preds_underfit = np.expm1(model_ridge_underfit.predict(X_test))\n",
    "solution_underfit = pd.DataFrame({\"id\":test.Id, \"SalePrice\":preds_underfit})\n",
    "solution_underfit.to_csv(\"underfit.csv\", index = False)"
   ]
  }
 ],
 "metadata": {
  "kernelspec": {
   "display_name": "Python 3.7.4 32-bit",
   "language": "python",
   "name": "python3"
  },
  "language_info": {
   "codemirror_mode": {
    "name": "ipython",
    "version": 3
   },
   "file_extension": ".py",
   "mimetype": "text/x-python",
   "name": "python",
   "nbconvert_exporter": "python",
   "pygments_lexer": "ipython3",
   "version": "3.7.4"
  },
  "orig_nbformat": 4,
  "vscode": {
   "interpreter": {
    "hash": "98d37f7209dd3d8d9e41e6cf12ce2f5225a545382f822ec0af106014a0846ccf"
   }
  }
 },
 "nbformat": 4,
 "nbformat_minor": 2
}
