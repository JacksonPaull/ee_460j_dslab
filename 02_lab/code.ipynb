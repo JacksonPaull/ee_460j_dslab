{
 "cells": [
  {
   "cell_type": "markdown",
   "metadata": {},
   "source": [
    "# Problem 1: Covariance - Josh\n",
    "- When given a data matrix, an easy way to tell if any two columns are correlated is to look at a scatter plot of each column against each other column.  \n",
    "For a warm up, do this:  \n",
    "Look at the data in DF1 in Lab2 Data.zip.  \n",
    "Which columns are (pairwise) correlated?  \n",
    "Figure out how to do this with Pandas, and also how to do this with Seaborn.  \n",
    "\n",
    "- Compute the covariance matrix of the data. Write the explicit expression for what this is,  \n",
    "and then use any command you like (e.g., np.cov) to compute the 4 ×4 matrix.  \n",
    "Explain why the numbers that you get fit with the plots you got.\n",
    "\n",
    "- The above problem in reverse. Generate a zero-mean multivariate Gaussian random variable in 3 dimensions,  \n",
    "Z = (X1,X2,X3) so that (X1,X2) and (X1,X3) are uncorrelated, but (X2,X3) are correlated.  \n",
    "Specifically: choose a covariance matrix that has the above correlations structure, and write this down. Then find a way to generate samples from this Gaussian.  \n",
    "Choose one of the non-zero covariance terms (Cij , if C denotes your covariance matrix) and plot it vs the estimated covariance term, as the number of samples you use scales.  \n",
    "The goal is to get a visual representation of how the empirical covariance converges to the true (or family) covariance."
   ]
  },
  {
   "cell_type": "code",
   "execution_count": null,
   "outputs": [],
   "source": [
    "import pandas as pd\n",
    "import numpy as np\n",
    "import seaborn as sns\n",
    "import matplotlib\n",
    "import matplotlib.pyplot as plt"
   ],
   "metadata": {
    "collapsed": false,
    "pycharm": {
     "name": "#%%\n"
    }
   }
  },
  {
   "cell_type": "code",
   "execution_count": null,
   "outputs": [],
   "source": [
    "data = pd.read_csv(r\"C:\\Users\\Joshd\\Downloads\\Lab2_Data\\DF1\")\n",
    "data.drop(data.columns[0], axis = 1, inplace=True)\n",
    "print(np.shape(data))\n",
    "data.head()"
   ],
   "metadata": {
    "collapsed": false,
    "pycharm": {
     "name": "#%%\n"
    }
   }
  },
  {
   "cell_type": "code",
   "execution_count": null,
   "outputs": [],
   "source": [
    "sns.scatterplot(x = data[\"0\"], y = data[\"2\"])"
   ],
   "metadata": {
    "collapsed": false,
    "pycharm": {
     "name": "#%%\n"
    }
   }
  },
  {
   "cell_type": "markdown",
   "source": [
    "Columns 0 and 2 are correlated"
   ],
   "metadata": {
    "collapsed": false,
    "pycharm": {
     "name": "#%% md\n"
    }
   }
  },
  {
   "cell_type": "code",
   "execution_count": null,
   "outputs": [],
   "source": [
    "sns.scatterplot(x = data[\"1\"], y = data[\"3\"])"
   ],
   "metadata": {
    "collapsed": false,
    "pycharm": {
     "name": "#%%\n"
    }
   }
  },
  {
   "cell_type": "markdown",
   "source": [
    "Columns 1 and 3 are also correlated"
   ],
   "metadata": {
    "collapsed": false,
    "pycharm": {
     "name": "#%% md\n"
    }
   }
  },
  {
   "cell_type": "markdown",
   "source": [
    "# $cov_{x,y}=\\frac{\\sum_{i=1}^{N}(x_{i}-\\bar{x})(y_{i}-\\bar{y})}{N-1}$ "
   ],
   "metadata": {
    "collapsed": false,
    "pycharm": {
     "name": "#%% md\n"
    }
   }
  },
  {
   "cell_type": "code",
   "execution_count": null,
   "outputs": [],
   "source": [
    "np.shape(np.cov(data.T))\n",
    "np.cov(data.T)"
   ],
   "metadata": {
    "collapsed": false,
    "pycharm": {
     "name": "#%%\n"
    }
   }
  },
  {
   "cell_type": "markdown",
   "source": [
    "If we look at entry (0,2) which corresponds to the covariance of column 0 and 2, we can see that we get a value of 0.99 which means that the two columns are positively correlated.  This correctly matches with our first plot which shows a positve correlation between column 0 and 2.  Also if we look at entry (1,3), we can see that the covariance between column 1 and 3 is -0.9954 which means that they are negativly correlated.  This also matches up with our second plot which shows a negative correlation between columns 1 and 3."
   ],
   "metadata": {
    "collapsed": false,
    "pycharm": {
     "name": "#%% md\n"
    }
   }
  },
  {
   "cell_type": "code",
   "execution_count": null,
   "outputs": [],
   "source": [
    "mean = [0,0,0]\n",
    "cov = [[1, 0, 0], [0, 1, 1], [0, 1, 1]]\n",
    "pts = np.random.multivariate_normal(mean, cov, size = 100)\n",
    "EstimateCV = np.cov(pts, bias=False)\n",
    "CV = np.cov(pts, bias = True)\n",
    "sns.scatterplot(x = EstimateCV[:,2], y = CV[:,2])\n"
   ],
   "metadata": {
    "collapsed": false,
    "pycharm": {
     "name": "#%%\n"
    }
   }
  },
  {
   "cell_type": "markdown",
   "source": [
    "# Problem 2: Outliers - Jackson\n",
    "\n",
    "Consider the two-dimensional data in DF2 in *Lab2 Data.zip*.  \n",
    "<b>Look at a scatter plot of the data.</b>  \n",
    "\n",
    "It contains two points that look like potential outliers.  \n",
    "<b>Which one is “more” outlying?</b>  \n",
    "Propose a transformation of the data that makes it clear that the point at (−1,1) is more outlying than the point at (5.5,5),   \n",
    "even though the latter point is “farther away” from the nearest points.  \n",
    "Plot the data again after performing this transformation.  \n",
    "Provide discussion as appropriate to justify your choice of transformation.  \n",
    "  \n",
    "  \n",
    "<i>Hint: if y comes from a standard Gaussian in two dimensions (i.e., with covariance equal to the two by two identity matrix) and  \n",
    "$Q = \\begin{bmatrix} 2 & 1/2 \\\\ 1/2 & 2\\end{bmatrix}$  \n",
    "What is the covariance matrix of the random variable z = Qy?   \n",
    "If you are given z, how would you create a random Gaussian vector with covariance equal to the identity, using z? </i>"
   ],
   "metadata": {
    "collapsed": false,
    "pycharm": {
     "name": "#%% md\n"
    }
   }
  },
  {
   "cell_type": "code",
   "execution_count": null,
   "outputs": [],
   "source": [
    "#The usual suspects\n",
    "import pandas as pd\n",
    "import numpy as np\n",
    "import matplotlib.pyplot as plt\n",
    "from math import sqrt\n",
    "\n",
    "\n",
    "df2 = pd.read_csv('./Lab2_Data/DF2', index_col = 0, names=['x', 'y'], skiprows=1)\n",
    "plt.scatter(df2['x'], df2['y'])\n",
    "plt.title('Raw Data')\n",
    "plt.xlabel('x')\n",
    "plt.ylabel('y')"
   ],
   "metadata": {
    "collapsed": false,
    "pycharm": {
     "name": "#%%\n"
    }
   }
  },
  {
   "cell_type": "markdown",
   "source": [
    "<center>\n",
    "<h2><u>Using the Hint</u></h2>\n",
    "<i>x and y both vary from ~-4 to 4, by inspection normally.  \n",
    "Given the hint, I assume this to be true, hence transforming the data points to a standard normal distribution without covariance should reveal outliers</i>\n",
    "</center>  \n",
    "\n",
    "$$\\begin{align*}\n",
    "\n",
    "Cov[x] &= E[(x-E[x])(x-E[x])^{T}] \\\\\n",
    "\\\\\n",
    "\n",
    "Cov[z] &= Cov[Qy] \\\\\n",
    " => Cov[Qy] &= E[(Q(y-E[y]))(Q(y-E[y]))^{T}] \\\\\n",
    "&= E[Q(y-E[y])(y-E[y])^tQ^t] \\\\\n",
    "&= QE[(y-E[y])(y-E[y])^t]Q^t \\\\\n",
    "&= Cov[y]Q^t \\\\\n",
    "&= \\begin{bmatrix}2 & 1/2 \\\\ 1/2 & 2\\end{bmatrix} \\begin{bmatrix}2 & 0 \\\\ 0 & 2\\end{bmatrix} \\begin{bmatrix}2 & 1/2 \\\\ 1/2 & 2\\end{bmatrix} \\\\\n",
    "\\\\\n",
    "=> Cov[z] &= \\begin{bmatrix}8.5 & 4 \\\\ 4 & 8.5\\end{bmatrix}\n",
    "\n",
    "\\end{align*}$$\n",
    "\n",
    "<center>\n",
    "<i>Question: How would you create a random Gaussian Vector given z with a variance vector equal to the identity?</i>  \n",
    "Variance of both features needs to be 1, and the Covariance of features with each other should be 0  \n",
    "\n",
    "<b>Proposition: Multiply z by a matrix $A$ such that it cancels out the effects of $Q$</b>\n",
    "</center>  \n",
    "\n",
    "$$\n",
    "\\begin{align*}\n",
    "A*Cov[z]*A^{T} &= A*Q*Cov[y]*Q^{T}*A^{T} \\\\\n",
    "&= (AQ)*Cov[y]*(AQ)^{T} \\\\\n",
    "\\\\  \n",
    "\n",
    "=> AQ &= \\begin{bmatrix}\\frac{1}{\\sqrt{2}} & 0 \\\\ 0 & \\frac{1}{\\sqrt{2}}\\end{bmatrix} \\\\\n",
    "\n",
    "=> (AQ)*Cov[y]*(AQ)^{T} &= \\frac{1}{\\sqrt{2}} * I * Cov[y] * (\\frac{1}{\\sqrt{2}} * I)^{T} \\\\\n",
    "&= \\frac{1}{2} * \\begin{bmatrix}2 & 0 \\\\ 0 & 2\\end{bmatrix} \\\\\n",
    "&= I \\\\\n",
    "\n",
    "\\\\\n",
    "=> A &= \\begin{bmatrix}\\frac{1}{\\sqrt{2}} & 0 \\\\ 0 & \\frac{1}{\\sqrt{2}}\\end{bmatrix} * Q^{-1} \\\\\n",
    "\n",
    "=> Q^{-1} &= \\frac{1}{ad - bc}\\begin{bmatrix}d & -b \\\\ -c & a\\end{bmatrix} \\\\\n",
    "&= \\frac{1}{4-\\frac{1}{4}}\\begin{bmatrix}2 & -\\frac{1}{2} \\\\ -\\frac{1}{2} & 2\\end{bmatrix} \\\\\n",
    "&= \\begin{bmatrix}2 & -\\frac{1}{2} \\\\ -\\frac{1}{2} & 2\\end{bmatrix} \\\\\n",
    "\n",
    "=> A &= \\frac{1}{\\sqrt{2}} * Q^{-1} \\\\\n",
    "&= \\begin{bmatrix}\\frac{4\\sqrt{2}}{15} & -\\frac{\\sqrt{2}}{15} \\\\ -\\frac{\\sqrt{2}}{15} & \\frac{4\\sqrt{2}}{15}\\end{bmatrix} \\\\\n",
    "\\end{align*}\n",
    "$$\n",
    "\n",
    "<center>\n",
    "Finally, Az is a random Gaussian vector with covariance equal to the identity\n",
    "</center>"
   ],
   "metadata": {
    "collapsed": false,
    "pycharm": {
     "name": "#%% md\n"
    }
   }
  },
  {
   "cell_type": "code",
   "execution_count": null,
   "outputs": [],
   "source": [
    "#Create A\n",
    "c = sqrt(2)/15\n",
    "A = np.matrix([[4*c, -c], [-c, 4*c]])\n",
    "\n",
    "#Apply the transformation\n",
    "df2[['tx', 'ty']] = (df2[['x', 'y']].apply(lambda x: np.matmul(x, A), axis = 1)).to_list()\n",
    "\n",
    "#Plot the transformed data\n",
    "plt.scatter(df2['tx'], df2['ty'], label='Transformed Data Points')\n",
    "plt.plot([-1, 2], [-1, 2], color='orange', label = 'y=x')\n",
    "plt.legend(loc='upper left', frameon=False)\n",
    "plt.title('Transformed Data')\n",
    "plt.xlabel('tx')\n",
    "plt.ylabel('ty')\n",
    "plt.show()\n",
    "\n",
    "#Now we can consider the residual from the line y=x\n",
    "df2['res'] = df2['ty'] - df2['tx']\n",
    "outliers = df2[abs(df2['res']) > 0.4]\n",
    "plt.scatter(df2['tx'], df2['res'], label='Residual')\n",
    "plt.scatter(outliers['tx'], outliers['res'], color='red', label='Outliers') #Mark outliers in red\n",
    "plt.title('Residual Plot')\n",
    "plt.legend(loc='upper right', frameon=False)\n",
    "plt.xlabel('tx')\n",
    "plt.ylabel('ty - tx')\n",
    "plt.show()"
   ],
   "metadata": {
    "collapsed": false,
    "pycharm": {
     "name": "#%%\n"
    }
   }
  },
  {
   "cell_type": "markdown",
   "source": [
    "## Takeaway:\n",
    "Here we can clearly see that the point at (-1, 1) is a much greater outlier than the point at the point at (5.5, 5) when considering more than just the points distance to its nearest neighbor.  \n",
    "When considering the underlying distribution of the points, while (5.5, 5) is somewhat of an outlier, it is still much more in line with other points than (-1, 1)"
   ],
   "metadata": {
    "collapsed": false,
    "pycharm": {
     "name": "#%% md\n"
    }
   }
  },
  {
   "cell_type": "markdown",
   "source": [
    "# Problem 3: Popular Names - Jhanvi\n",
    "\n",
    "The goal of this exercise is for you to get more experience with Pandas, and to get a chance to  \n",
    "explore a cool data set. Download the file Names.zip from Canvas. This contains the frequency  \n",
    "of all names that appeared more than 5 times on a social security application from 1880 through 2015.\n",
    "- Write a program that on input k and XXXX, returns the top k names from year XXXX.  \n",
    "- Write a program that on input Name returns the frequency for men and women of the name `Name`.\n",
    "- It could be that names are more diverse now than they were in 1880, so that a name may be relatively the most popular, though its frequency may have been decreasing over the years.  \n",
    "Modify the above to return the relative frequency. Note that in the next coming lectures we will learn how to quantify diversity using entropy.\n",
    "- Find all the names that used to be more popular for one gender, but then became more popular for another gender.\n",
    "- (Optional) Find something cool about this data set."
   ],
   "metadata": {
    "collapsed": false,
    "pycharm": {
     "name": "#%% md\n"
    }
   }
  },
  {
   "cell_type": "code",
   "execution_count": null,
   "outputs": [],
   "source": [
    "import pandas as pd\n",
    "from zipfile import ZipFile\n",
    "import decimal as d\n",
    "import seaborn as sns\n",
    "import csv\n",
    "\n",
    "# Globals\n",
    "file_name = 'Names.zip'\n",
    "column_names = ['Name', 'Gender', 'Count']\n",
    "sns.set(style=\"ticks\",\n",
    "        rc={\n",
    "            \"figure.figsize\": [12, 7],\n",
    "            \"text.color\": \"black\",\n",
    "            \"axes.labelcolor\": \"black\",\n",
    "            \"axes.edgecolor\": \"black\",\n",
    "            \"xtick.color\": \"black\",\n",
    "            \"ytick.color\": \"black\",\n",
    "            \"axes.facecolor\": \"#DAF7A6\",\n",
    "            \"figure.facecolor\": \"#DAF7A6\"}\n",
    "        )\n",
    "\n",
    "# Functions\n",
    "def read_file_to_df(name, year):\n",
    "      with ZipFile(file_name, 'r') as zipped:\n",
    "           file = zipped.open(name)\n",
    "           df = pd.read_csv(file, sep=\",\")\n",
    "           df.columns = column_names\n",
    "           df.insert(0, 'Year', year)\n",
    "           return df\n",
    "\n",
    "def top_names_from_year(top, year):\n",
    "      year_file_name = 'Names/yob' + str(year) + '.txt'\n",
    "      df = read_file_to_df(year_file_name, year)\n",
    "      df.sort_values('Count')\n",
    "      return df.loc[:(top-1), ('Name', 'Gender', 'Count')]\n",
    "\n",
    "def name_frequency(name):\n",
    "      curr_year = 1880\n",
    "      freq_sum_men = 0\n",
    "      freq_sum_women = 0\n",
    "      rel_freq_men = 0\n",
    "      rel_freq_women = 0\n",
    "      total = 0\n",
    "\n",
    "      while curr_year != 2016:\n",
    "            year_file_name = 'Names/yob' + str(curr_year) + '.txt'\n",
    "            df = read_file_to_df(year_file_name, curr_year)\n",
    "\n",
    "            df_men = df.loc[(df.Name == name) & (df.Gender == 'M')]\n",
    "            df_women = df.loc[(df.Name == name) & (df.Gender == 'F')]\n",
    "\n",
    "            if len(df_men) != 0:\n",
    "                  freq_sum_men += df_men.Count.iloc[0]\n",
    "            if len(df_women) != 0:\n",
    "                  freq_sum_women += df_women.Count.iloc[0]\n",
    "            curr_year += 1\n",
    "\n",
    "      total = freq_sum_men + freq_sum_women\n",
    "\n",
    "      if total != 0:\n",
    "            rel_freq_men = (freq_sum_men / total) * 100\n",
    "            rel_freq_men = d.Decimal(rel_freq_men).quantize(d.Decimal('.1'), rounding=d.ROUND_DOWN)\n",
    "            rel_freq_women = (freq_sum_women / total) * 100\n",
    "            rel_freq_women = d.Decimal(rel_freq_women).quantize(d.Decimal('.1'), rounding=d.ROUND_DOWN)\n",
    "\n",
    "      print(name + \" from 1880 to 2015\")\n",
    "      ret_df = pd.DataFrame({'Count': [freq_sum_men, freq_sum_women], 'Relative Frequency': [rel_freq_men, rel_freq_women]}, index=['Men', 'Women'])\n",
    "      return ret_df\n",
    "\n",
    "def rel_frequency(name):\n",
    "      curr_year = 1880\n",
    "      rows = []\n",
    "      men_perc = 0\n",
    "      women_perc = 0\n",
    "\n",
    "      while curr_year != 2016:\n",
    "            total = 0\n",
    "            year_file_name = 'Names/yob' + str(curr_year) + '.txt'\n",
    "            df = read_file_to_df(year_file_name, curr_year)\n",
    "\n",
    "            df_men = df.loc[(df.Name == name) & (df.Gender == 'M')]\n",
    "            df_women = df.loc[(df.Name == name) & (df.Gender == 'F')]\n",
    "            row = [curr_year, 0, 0, 0, 0]\n",
    "\n",
    "            if len(df_men) != 0:\n",
    "                  row[1] = df_men.Count.iloc[0]\n",
    "                  total += row[1]\n",
    "\n",
    "            if len(df_women) != 0:\n",
    "                  row[2] = df_women.Count.iloc[0]\n",
    "                  total += row[2]\n",
    "\n",
    "            if total != 0:\n",
    "                men_perc = (row[1] / total) * 100\n",
    "                women_perc = (row[2] / total) * 100\n",
    "\n",
    "            row[3] = d.Decimal(men_perc).quantize(d.Decimal('.1'), rounding=d.ROUND_DOWN)\n",
    "            row[4] = d.Decimal(women_perc).quantize(d.Decimal('.1'), rounding=d.ROUND_DOWN)\n",
    "\n",
    "            rows.append(row)\n",
    "            curr_year += 1\n",
    "\n",
    "      ret_df = pd.DataFrame(rows, columns=['Year', 'Men', 'Women', '% Mens', '% Womens'])\n",
    "      # ret_df = ret_df.set_index('Year')\n",
    "      return ret_df\n",
    "\n",
    "def open_all_in_one_df():\n",
    "      curr_year = 1880\n",
    "      ret_df = []\n",
    "\n",
    "      while curr_year != 2016:\n",
    "            year_file_name = 'Names/yob' + str(curr_year) + '.txt'\n",
    "            temp_df = read_file_to_df(year_file_name, curr_year)\n",
    "            ret_df.append(temp_df)\n",
    "            curr_year += 1\n",
    "\n",
    "      big_df = pd.concat(ret_df)\n",
    "      return big_df\n",
    "\n",
    "# Parts\n",
    "# Question 1: Top k names in year XXXX\n",
    "k, year = input(\"Find the top k names in the year XXXX - k year.\").split()\n",
    "top_names_from_year(int(k), int(year))\n",
    "\n",
    "# Question 2: Most frequent M & F of Name\n",
    "name_in = input(\"Find frequency of name among men and women - name\")\n",
    "name_frequency(name_in)\n",
    "\n",
    "# Question 3: Relative frequency of a name\n",
    "name_in_rel = input(\"Find the relative frequency of a name among men and women - name\")\n",
    "df = rel_frequency(name_in_rel)\n",
    "df = df.astype(float)\n",
    "print(name_in_rel + \" from 1880 to 2015\")\n",
    "display(df)\n",
    "line_rel = df.plot(x='Year', y=['Men', 'Women'], kind='line', title='Count')\n",
    "display(line_rel)\n",
    "line_count = df.plot(x='Year', y=['% Mens', '% Womens'], kind='line', title='Relative Frequency')\n",
    "display(line_count)\n",
    "\n",
    "# Question 4: Name popularity shifts from one gender to the other\n",
    "print('The follow names switched popularity between genders')\n",
    "gender_switched = []\n",
    "col = 'Name'\n",
    "all_names = open_all_in_one_df()\n",
    "uni_names = pd.concat([all_names[col]]).unique()\n",
    "#print(uni_names)\n",
    "\n",
    "for unique_name in uni_names:\n",
    "      freq_df = rel_frequency(unique_name)\n",
    "      freq_df['% Mens'] = pd.to_numeric(freq_df['% Mens'])\n",
    "      freq_df['% Womens'] = pd.to_numeric(freq_df['% Womens'])\n",
    "      max_men_relfreq = freq_df.loc[freq_df['% Mens'].idxmax()] # find max value in col\n",
    "      max_men_relfreq = max_men_relfreq['% Mens']\n",
    "\n",
    "      if max_men_relfreq > 50:\n",
    "            max_women_relfreq = freq_df.loc[freq_df['% Womens'].idxmax()] # find max value in column\n",
    "            max_women_relfreq = max_women_relfreq['% Womens']\n",
    "            if max_women_relfreq > 50:\n",
    "                  gender_switched.append(unique_name)\n",
    "                  print(unique_name)"
   ],
   "metadata": {
    "collapsed": false,
    "pycharm": {
     "name": "#%%\n"
    }
   }
  },
  {
   "cell_type": "markdown",
   "source": [
    "# Problem 4: Starting in Kaggle - Josh\n",
    "\n",
    "Later in this class, you will be participating in the in-class Kaggle competition made specifically\n",
    "for this class. In that one, you will be participating on your own. This is a warmup- the more\n",
    "effort and research you put into this assignment the easier it will be to compete into the real Kaggle\n",
    "competition that you will need to do soon.\n",
    "1. Let’s start with our first Kaggle submission in a playground regression competition. Make an\n",
    "account to Kaggle and find\n",
    "https://www.kaggle.com/c/house-prices-advanced-regression-techniques/\n",
    "2. Follow the data preprocessing steps from\n",
    "https://www.kaggle.com/apapiu/house-prices-advanced-regression-techniques/regularized-linear-\n",
    "models. Then run a ridge regression using α = 0.1. Make a submission of this prediction,\n",
    "what is the RMSE you get?\n",
    "(Hint: remember to exponentiate np.expm1(ypred) your predictions).\n",
    "3. Compare a ridge regression and a lasso regression model. Optimize the alphas using cross\n",
    "validation. What is the best score you can get from a single ridge regression model and from\n",
    "a single lasso model?\n",
    "4. Plot the l0 norm (number of nonzeros) of the coefficients that lasso produces as you vary the\n",
    "strength of regularization parameter alpha.\n",
    "5. Add the outputs of your models as features and train a ridge regression on all the features\n",
    "plus the model outputs (This is called Ensembling and Stacking). Be careful not to overfit.\n",
    "What score can you get? (We will be discussing ensembling more, later in the class, but you\n",
    "can start playing with it now).\n",
    "6. Install XGBoost (Gradient Boosting) and train a gradient boosting regression. What score\n",
    "can you get just from a single XGB? (you will need to optimize over its parameters). We will\n",
    "discuss boosting and gradient boosting in more detail later. XGB is a great friend to all good\n",
    "Kagglers!\n",
    "7. Do your best to get the more accurate model. Try feature engineering and stacking many\n",
    "models. You are allowed to use any public tool in python. No non-python tools allowed.\n",
    "8. (Optional) Read the Kaggle forums, tutorials and Kernels in this competition. This is an\n",
    "excellent way to learn. Include in your report if you find something in the forums you like, or\n",
    "if you made your own post or code post, especially if other Kagglers liked or used it afterwards.\n",
    "2\n",
    "9. Be sure to read and learn the rules of Kaggle! No sharing of code or data outside the Kaggle\n",
    "forums. Every student should have their own individual Kaggle account and teams can be\n",
    "formed in the Kaggle submissions with partners. This is more important for live competitions\n",
    "of course.\n",
    "10. As in the real in-class Kaggle competition (which will be next), you will be graded based on\n",
    "your public score (include that in your report) and also on the creativity of your solution.\n",
    "In your report (that you will submit as a pdf file), explain what worked and what did\n",
    "not work. Many creative things will not work, but you will get partial credit for developing\n",
    "them. We will invite teams with interesting solutions to present them in class."
   ],
   "metadata": {
    "collapsed": false,
    "pycharm": {
     "name": "#%% md\n"
    }
   }
  },
  {
   "cell_type": "code",
   "execution_count": null,
   "outputs": [],
   "source": [
    "import pandas as pd\n",
    "import numpy as np\n",
    "import seaborn as sns\n",
    "import matplotlib\n",
    "\n",
    "import matplotlib.pyplot as plt\n",
    "from scipy.stats import skew\n",
    "from scipy.stats.stats import pearsonr"
   ],
   "metadata": {
    "collapsed": false,
    "pycharm": {
     "name": "#%%\n"
    }
   }
  },
  {
   "cell_type": "code",
   "execution_count": null,
   "outputs": [],
   "source": [
    "train = pd.read_csv(r\"C:\\Pycharm\\House Prices ML\\train.csv\")\n",
    "test = pd.read_csv(r\"C:\\Pycharm\\House Prices ML\\test.csv\")\n"
   ],
   "metadata": {
    "collapsed": false,
    "pycharm": {
     "name": "#%%\n"
    }
   }
  },
  {
   "cell_type": "code",
   "execution_count": null,
   "outputs": [],
   "source": [
    "train.head()"
   ],
   "metadata": {
    "collapsed": false,
    "pycharm": {
     "name": "#%%\n"
    }
   }
  },
  {
   "cell_type": "code",
   "execution_count": null,
   "outputs": [],
   "source": [
    "all_data = pd.concat((train.loc[:, 'MSSubClass': 'SaleCondition'], test.loc[:, 'MSSubClass': 'SaleCondition']))"
   ],
   "metadata": {
    "collapsed": false,
    "pycharm": {
     "name": "#%%\n"
    }
   }
  },
  {
   "cell_type": "code",
   "execution_count": null,
   "outputs": [],
   "source": [
    "matplotlib.rcParams['figure.figsize'] = (12.0, 6.0)\n",
    "prices = pd.DataFrame({\"price\":train[\"SalePrice\"], \"log(price + 1)\":np.log1p(train[\"SalePrice\"])})\n",
    "prices.hist()"
   ],
   "metadata": {
    "collapsed": false,
    "pycharm": {
     "name": "#%%\n"
    }
   }
  },
  {
   "cell_type": "code",
   "execution_count": null,
   "outputs": [],
   "source": [
    "from unicodedata import numeric\n",
    "\n",
    "\n",
    "train[\"SalePrice\"] = np.log1p(train[\"SalePrice\"]) #Log transform the target\n",
    "\n",
    "numeric_feats = all_data.dtypes[all_data.dtypes != \"object\"].index\n",
    "skewed_feats = train[numeric_feats].apply(lambda x: skew(x.dropna()))\n",
    "skewed_feats = skewed_feats[skewed_feats > 0.75]\n",
    "skewed_feats = skewed_feats.index\n",
    "\n",
    "all_data[skewed_feats] = np.log1p(all_data[skewed_feats])"
   ],
   "metadata": {
    "collapsed": false,
    "pycharm": {
     "name": "#%%\n"
    }
   }
  },
  {
   "cell_type": "code",
   "execution_count": null,
   "outputs": [],
   "source": [
    "all_data = pd.get_dummies(all_data) #convert all categorical data into dummy variables "
   ],
   "metadata": {
    "collapsed": false,
    "pycharm": {
     "name": "#%%\n"
    }
   }
  },
  {
   "cell_type": "code",
   "execution_count": null,
   "outputs": [],
   "source": [
    "all_data = all_data.fillna(all_data.mean()) #Filling all NA's with mean of each column"
   ],
   "metadata": {
    "collapsed": false,
    "pycharm": {
     "name": "#%%\n"
    }
   }
  },
  {
   "cell_type": "code",
   "execution_count": null,
   "outputs": [],
   "source": [
    "from sklearn.linear_model import Ridge, RidgeCV, ElasticNet, LassoCV, LassoLarsCV\n",
    "from sklearn.model_selection import cross_val_score"
   ],
   "metadata": {
    "collapsed": false,
    "pycharm": {
     "name": "#%%\n"
    }
   }
  },
  {
   "cell_type": "code",
   "execution_count": null,
   "outputs": [],
   "source": [
    "#creating matrices for sklearn:\n",
    "X_train = all_data[:train.shape[0]]\n",
    "X_test = all_data[train.shape[0]:]\n",
    "y = train.SalePrice"
   ],
   "metadata": {
    "collapsed": false,
    "pycharm": {
     "name": "#%%\n"
    }
   }
  },
  {
   "cell_type": "code",
   "execution_count": null,
   "outputs": [],
   "source": [
    "model_ridge = Ridge(0.1)\n",
    "rmse= np.sqrt(-cross_val_score(Ridge(0.1), X_train, y, scoring=\"neg_mean_squared_error\", cv = 5))\n",
    "print(\"RMSE: \", rmse)\n",
    "print(\"RMSE Average:\", rmse.mean())\n"
   ],
   "metadata": {
    "collapsed": false,
    "pycharm": {
     "name": "#%%\n"
    }
   }
  },
  {
   "cell_type": "markdown",
   "source": [
    "# RMSE:  [0.12156718 0.14425787 0.1516712  0.11267361 0.15870705]\n",
    "# RMSE Average: 0.137775382771879"
   ],
   "metadata": {
    "collapsed": false,
    "pycharm": {
     "name": "#%% md\n"
    }
   }
  },
  {
   "cell_type": "code",
   "execution_count": null,
   "outputs": [],
   "source": [
    "model_ridge.fit(X_train, y)\n",
    "RidgePredictions = np.expm1(model_ridge.predict(X_test))\n",
    "submission = pd.DataFrame({ 'Id': test.Id,\n",
    "                            'SalePrice': RidgePredictions })\n",
    "submission.to_csv(\"submission.csv\", index=False)\n"
   ],
   "metadata": {
    "collapsed": false,
    "pycharm": {
     "name": "#%%\n"
    }
   }
  },
  {
   "cell_type": "code",
   "execution_count": null,
   "outputs": [],
   "source": [
    "def rmse_cv(model):\n",
    "    rmse= np.sqrt(-cross_val_score(model, X_train, y, scoring=\"neg_mean_squared_error\", cv = 5))\n",
    "    return(rmse)"
   ],
   "metadata": {
    "collapsed": false,
    "pycharm": {
     "name": "#%%\n"
    }
   }
  },
  {
   "cell_type": "code",
   "execution_count": null,
   "outputs": [],
   "source": [
    "alphas = [0.05, 0.1, 0.3, 1, 3, 5, 10, 15, 30, 50, 75]\n",
    "cv_ridge = [rmse_cv(Ridge(alpha=alpha)).mean() for alpha in alphas]\n",
    "cv_ridge = pd.Series(cv_ridge, index = alphas)\n",
    "cv_ridge.plot(title = \"Validation - Just Do It\")\n",
    "plt.xlabel(\"alpha\")\n",
    "plt.ylabel(\"rmse\")"
   ],
   "metadata": {
    "collapsed": false,
    "pycharm": {
     "name": "#%%\n"
    }
   }
  },
  {
   "cell_type": "code",
   "execution_count": null,
   "outputs": [],
   "source": [
    "print(cv_ridge.min())"
   ],
   "metadata": {
    "collapsed": false,
    "pycharm": {
     "name": "#%%\n"
    }
   }
  },
  {
   "cell_type": "markdown",
   "source": [
    "We can see that an alpha of 10 will best minimize our RMSE from the plot"
   ],
   "metadata": {
    "collapsed": false,
    "pycharm": {
     "name": "#%% md\n"
    }
   }
  },
  {
   "cell_type": "code",
   "execution_count": null,
   "outputs": [],
   "source": [
    "model_ridge = Ridge(10)\n",
    "model_ridge.fit(X_train, y)\n",
    "RidgePredictions = np.expm1(model_ridge.predict(X_test))\n",
    "RidgeSubmission = pd.DataFrame({ 'Id': test.Id,\n",
    "                            'SalePrice': RidgePredictions })\n",
    "RidgeSubmission.to_csv(\"RidgeSubmission.csv\", index=False)\n"
   ],
   "metadata": {
    "collapsed": false,
    "pycharm": {
     "name": "#%%\n"
    }
   }
  },
  {
   "cell_type": "markdown",
   "source": [
    "# The best score from a single ridge regression model with an alpha of 10 is 0.12479"
   ],
   "metadata": {
    "collapsed": false,
    "pycharm": {
     "name": "#%% md\n"
    }
   }
  },
  {
   "cell_type": "code",
   "execution_count": null,
   "outputs": [],
   "source": [
    "model_lasso = LassoCV(alphas = [1, 0.1, 0.001, 0.0005]).fit(X_train, y)\n",
    "rmse_cv(model_lasso).mean()\n",
    "lassoPredictions = np.expm1(model_lasso.predict(X_test))\n",
    "LassoSubmission = pd.DataFrame({ 'Id': test.Id,\n",
    "                            'SalePrice': lassoPredictions })\n",
    "LassoSubmission.to_csv(\"LassoSubmission.csv\", index=False)"
   ],
   "metadata": {
    "collapsed": false,
    "pycharm": {
     "name": "#%%\n"
    }
   }
  },
  {
   "cell_type": "markdown",
   "source": [
    "# The best score for a single lasso model is 0.12455"
   ],
   "metadata": {
    "collapsed": false,
    "pycharm": {
     "name": "#%% md\n"
    }
   }
  },
  {
   "cell_type": "code",
   "execution_count": null,
   "outputs": [],
   "source": [
    "sns.scatterplot(x = LassoSubmission[\"Id\"], y = LassoSubmission[\"SalePrice\"])\n"
   ],
   "metadata": {
    "collapsed": false,
    "pycharm": {
     "name": "#%%\n"
    }
   }
  },
  {
   "cell_type": "code",
   "execution_count": null,
   "outputs": [],
   "source": [
    "import xgboost as xgb"
   ],
   "metadata": {
    "collapsed": false,
    "pycharm": {
     "name": "#%%\n"
    }
   }
  },
  {
   "cell_type": "code",
   "execution_count": null,
   "outputs": [],
   "source": [
    "dtrain = xgb.DMatrix(X_train, label = y)\n",
    "dtest = xgb.DMatrix(X_test)\n",
    "params = {\"max_depth\":2, \"eta\":0.1}\n",
    "model = xgb.cv(params, dtrain,  num_boost_round=500, early_stopping_rounds=100)"
   ],
   "metadata": {
    "collapsed": false,
    "pycharm": {
     "name": "#%%\n"
    }
   }
  },
  {
   "cell_type": "code",
   "execution_count": null,
   "outputs": [],
   "source": [
    "model.loc[30:,[\"test-rmse-mean\", \"train-rmse-mean\"]].plot()"
   ],
   "metadata": {
    "collapsed": false,
    "pycharm": {
     "name": "#%%\n"
    }
   }
  },
  {
   "cell_type": "code",
   "execution_count": null,
   "outputs": [],
   "source": [
    "model_xgb = xgb.XGBRegressor(n_estimators=360, max_depth=2, learning_rate=0.1) \n",
    "model_xgb.fit(X_train, y)\n",
    "XGBPredictions = np.expm1(model_xgb.predict(X_test))\n",
    "submission = pd.DataFrame({ 'Id': test.Id,\n",
    "                            'SalePrice': XGBPredictions })\n",
    "submission.to_csv(\"submission.csv\", index=False)"
   ],
   "metadata": {
    "collapsed": false,
    "pycharm": {
     "name": "#%%\n"
    }
   }
  },
  {
   "cell_type": "markdown",
   "source": [
    "# A single XBGRegressor model scored a 0.13278"
   ],
   "metadata": {
    "collapsed": false,
    "pycharm": {
     "name": "#%% md\n"
    }
   }
  },
  {
   "cell_type": "code",
   "execution_count": null,
   "outputs": [],
   "source": [
    "Predictions = 0.7*lassoPredictions + 0.3*XGBPredictions\n",
    "solution = pd.DataFrame({\"id\":test.Id, \"SalePrice\":Predictions})\n",
    "solution.to_csv(\"ridge_sol.csv\", index = False)"
   ],
   "metadata": {
    "collapsed": false,
    "pycharm": {
     "name": "#%%\n"
    }
   }
  },
  {
   "cell_type": "markdown",
   "source": [
    "# After taking a weight combination of the Lasso and XGBRegressor model, the score got was 0.12299 which our best score"
   ],
   "metadata": {
    "collapsed": false,
    "pycharm": {
     "name": "#%% md\n"
    }
   }
  },
  {
   "cell_type": "code",
   "execution_count": 116,
   "metadata": {},
   "outputs": [
    {
     "data": {
      "text/plain": [
       "array([[ 1.00155793, -0.00401176,  0.99162409,  0.00412485],\n",
       "       [-0.00401176,  1.00537841, -0.00409877, -0.99545662],\n",
       "       [ 0.99162409, -0.00409877,  1.00158867,  0.00408108],\n",
       "       [ 0.00412485, -0.99545662,  0.00408108,  1.00516828]])"
      ]
     },
     "execution_count": 116,
     "metadata": {},
     "output_type": "execute_result"
    }
   ],
   "source": [
    "np.shape(np.cov(data.T))\n",
    "np.cov(data.T)"
   ]
  },
  {
   "cell_type": "markdown",
   "metadata": {},
   "source": [
    "If we look at entry (0,2) which corresponds to the covariance of column 0 and 2, we can see that we get a value of 0.99 which means that the two columns are positively correlated.  This correctly matches with our first plot which shows a positve correlation between column 0 and 2.  Also if we look at entry (1,3), we can see that the covariance between column 1 and 3 is -0.9954 which means that they are negativly correlated.  This also matches up with our second plot which shows a negative correlation between columns 1 and 3."
   ]
  },
  {
   "cell_type": "code",
   "execution_count": 117,
   "metadata": {},
   "outputs": [
    {
     "data": {
      "text/plain": [
       "<AxesSubplot:>"
      ]
     },
     "execution_count": 117,
     "metadata": {},
     "output_type": "execute_result"
    },
    {
     "data": {
      "image/png": "[encoded data removed]",
      "text/plain": [
       "<Figure size 864x432 with 1 Axes>"
      ]
     },
     "metadata": {
      "needs_background": "light"
     },
     "output_type": "display_data"
    }
   ],
   "source": [
    "mean = [0,0,0]\n",
    "cov = [[1, 0, 0], [0, 1, 1], [0, 1, 1]]\n",
    "pts = np.random.multivariate_normal(mean, cov, size = 100)\n",
    "EstimateCV = np.cov(pts, bias=False)\n",
    "CV = np.cov(pts, bias = True)\n",
    "sns.scatterplot(x = EstimateCV[:,2], y = CV[:,2])\n"
   ]
  },
  {
   "cell_type": "markdown",
   "metadata": {
    "pycharm": {
     "name": "#%% md\n"
    }
   },
   "source": [
    "# Problem 2: Outliers - Jackson\n",
    "\n",
    "Consider the two-dimensional data in DF2 in *Lab2 Data.zip*.  \n",
    "<b>Look at a scatter plot of the data.</b>  \n",
    "\n",
    "It contains two points that look like potential outliers.  \n",
    "<b>Which one is “more” outlying?</b>  \n",
    "Propose a transformation of the data that makes it clear that the point at (−1,1) is more outlying than the point at (5.5,5),   \n",
    "even though the latter point is “farther away” from the nearest points.  \n",
    "Plot the data again after performing this transformation.  \n",
    "Provide discussion as appropriate to justify your choice of transformation.  \n",
    "  \n",
    "  \n",
    "<i>Hint: if y comes from a standard Gaussian in two dimensions (i.e., with covariance equal to the two by two identity matrix) and  \n",
    "$Q = \\begin{bmatrix} 2 & 1/2 \\\\ 1/2 & 2\\end{bmatrix}$  \n",
    "What is the covariance matrix of the random variable z = Qy?   \n",
    "If you are given z, how would you create a random Gaussian vector with covariance equal to the identity, using z? </i>"
   ]
  },
  {
   "cell_type": "code",
   "execution_count": 62,
   "metadata": {},
   "outputs": [
    {
     "data": {
      "text/plain": [
       "Text(0, 0.5, 'y')"
      ]
     },
     "execution_count": 62,
     "metadata": {},
     "output_type": "execute_result"
    },
    {
     "data": {
      "image/png": "[encoded data removed]",
      "text/plain": [
       "<Figure size 432x288 with 1 Axes>"
      ]
     },
     "metadata": {
      "needs_background": "light"
     },
     "output_type": "display_data"
    }
   ],
   "source": [
    "#The usual suspects\n",
    "import pandas as pd\n",
    "import numpy as np\n",
    "import matplotlib.pyplot as plt\n",
    "from math import sqrt\n",
    "\n",
    "\n",
    "df2 = pd.read_csv('./Lab2_Data/DF2', index_col = 0, names=['x', 'y'], skiprows=1)\n",
    "plt.scatter(df2['x'], df2['y'])\n",
    "plt.title('Raw Data')\n",
    "plt.xlabel('x')\n",
    "plt.ylabel('y')"
   ]
  },
  {
   "cell_type": "markdown",
   "metadata": {},
   "source": [
    "<center>\n",
    "<h2><u>Using the Hint</u></h2>\n",
    "<i>x and y both vary from ~-4 to 4, by inspection normally.  \n",
    "Given the hint, I assume this to be true, hence transforming the data points to a standard normal distribution without covariance should reveal outliers</i>\n",
    "</center>  \n",
    "\n",
    "$$\\begin{align*}\n",
    "\n",
    "Cov[x] &= E[(x-E[x])(x-E[x])^{T}] \\\\\n",
    "\\\\\n",
    "\n",
    "Cov[z] &= Cov[Qy] \\\\\n",
    " => Cov[Qy] &= E[(Q(y-E[y]))(Q(y-E[y]))^{T}] \\\\\n",
    "&= E[Q(y-E[y])(y-E[y])^tQ^t] \\\\\n",
    "&= QE[(y-E[y])(y-E[y])^t]Q^t \\\\\n",
    "&= Cov[y]Q^t \\\\\n",
    "&= \\begin{bmatrix}2 & 1/2 \\\\ 1/2 & 2\\end{bmatrix} \\begin{bmatrix}2 & 0 \\\\ 0 & 2\\end{bmatrix} \\begin{bmatrix}2 & 1/2 \\\\ 1/2 & 2\\end{bmatrix} \\\\\n",
    "\\\\\n",
    "=> Cov[z] &= \\begin{bmatrix}8.5 & 4 \\\\ 4 & 8.5\\end{bmatrix}\n",
    "\n",
    "\\end{align*}$$\n",
    "\n",
    "<center>\n",
    "<i>Question: How would you create a random Gaussian Vector given z with a variance vector equal to the identity?</i>  \n",
    "Variance of both features needs to be 1, and the Covariance of features with each other should be 0  \n",
    "\n",
    "<b>Proposition: Multiply z by a matrix $A$ such that it cancels out the effects of $Q$</b>\n",
    "</center>  \n",
    "\n",
    "$$\n",
    "\\begin{align*}\n",
    "A*Cov[z]*A^{T} &= A*Q*Cov[y]*Q^{T}*A^{T} \\\\\n",
    "&= (AQ)*Cov[y]*(AQ)^{T} \\\\\n",
    "\\\\  \n",
    "\n",
    "=> AQ &= \\begin{bmatrix}\\frac{1}{\\sqrt{2}} & 0 \\\\ 0 & \\frac{1}{\\sqrt{2}}\\end{bmatrix} \\\\\n",
    "\n",
    "=> (AQ)*Cov[y]*(AQ)^{T} &= \\frac{1}{\\sqrt{2}} * I * Cov[y] * (\\frac{1}{\\sqrt{2}} * I)^{T} \\\\\n",
    "&= \\frac{1}{2} * \\begin{bmatrix}2 & 0 \\\\ 0 & 2\\end{bmatrix} \\\\\n",
    "&= I \\\\\n",
    "\n",
    "\\\\\n",
    "=> A &= \\begin{bmatrix}\\frac{1}{\\sqrt{2}} & 0 \\\\ 0 & \\frac{1}{\\sqrt{2}}\\end{bmatrix} * Q^{-1} \\\\\n",
    "\n",
    "=> Q^{-1} &= \\frac{1}{ad - bc}\\begin{bmatrix}d & -b \\\\ -c & a\\end{bmatrix} \\\\\n",
    "&= \\frac{1}{4-\\frac{1}{4}}\\begin{bmatrix}2 & -\\frac{1}{2} \\\\ -\\frac{1}{2} & 2\\end{bmatrix} \\\\\n",
    "&= \\begin{bmatrix}2 & -\\frac{1}{2} \\\\ -\\frac{1}{2} & 2\\end{bmatrix} \\\\\n",
    "\n",
    "=> A &= \\frac{1}{\\sqrt{2}} * Q^{-1} \\\\\n",
    "&= \\begin{bmatrix}\\frac{4\\sqrt{2}}{15} & -\\frac{\\sqrt{2}}{15} \\\\ -\\frac{\\sqrt{2}}{15} & \\frac{4\\sqrt{2}}{15}\\end{bmatrix} \\\\\n",
    "\\end{align*}\n",
    "$$\n",
    "\n",
    "<center>\n",
    "Finally, Az is a random Gaussian vector with covariance equal to the identity\n",
    "</center>"
   ]
  },
  {
   "cell_type": "code",
   "execution_count": 64,
   "metadata": {},
   "outputs": [
    {
     "data": {
      "image/png": "[encoded data removed]",
      "text/plain": [
       "<Figure size 432x288 with 1 Axes>"
      ]
     },
     "metadata": {
      "needs_background": "light"
     },
     "output_type": "display_data"
    },
    {
     "data": {
      "image/png": "[encoded data removed]",
      "text/plain": [
       "<Figure size 432x288 with 1 Axes>"
      ]
     },
     "metadata": {
      "needs_background": "light"
     },
     "output_type": "display_data"
    }
   ],
   "source": [
    "#Create A\n",
    "c = sqrt(2)/15\n",
    "A = np.matrix([[4*c, -c], [-c, 4*c]])\n",
    "\n",
    "#Apply the transformation\n",
    "df2[['tx', 'ty']] = (df2[['x', 'y']].apply(lambda x: np.matmul(x, A), axis = 1)).to_list()\n",
    "\n",
    "#Plot the transformed data\n",
    "plt.scatter(df2['tx'], df2['ty'], label='Transformed Data Points')\n",
    "plt.plot([-1, 2], [-1, 2], color='orange', label = 'y=x')\n",
    "plt.legend(loc='upper left', frameon=False)\n",
    "plt.title('Transformed Data')\n",
    "plt.xlabel('tx')\n",
    "plt.ylabel('ty')\n",
    "plt.show()\n",
    "\n",
    "#Now we can consider the residual from the line y=x\n",
    "df2['res'] = df2['ty'] - df2['tx']\n",
    "outliers = df2[abs(df2['res']) > 0.4]\n",
    "plt.scatter(df2['tx'], df2['res'], label='Residual')\n",
    "plt.scatter(outliers['tx'], outliers['res'], color='red', label='Outliers') #Mark outliers in red\n",
    "plt.title('Residual Plot')\n",
    "plt.legend(loc='upper right', frameon=False)\n",
    "plt.xlabel('tx')\n",
    "plt.ylabel('ty - tx')\n",
    "plt.show()"
   ]
  },
  {
   "cell_type": "markdown",
   "metadata": {},
   "source": [
    "## Takeaway:\n",
    "Here we can clearly see that the point at (-1, 1) is a much greater outlier than the point at the point at (5.5, 5) when considering more than just the points distance to its nearest neighbor.  \n",
    "When considering the underlying distribution of the points, while (5.5, 5) is somewhat of an outlier, it is still much more in line with other points than (-1, 1)"
   ]
  },
  {
   "cell_type": "markdown",
   "metadata": {
    "pycharm": {
     "name": "#%% md\n"
    }
   },
   "source": [
    "# Problem 3: Popular Names - Jhanvi\n",
    "\n",
    "The goal of this exercise is for you to get more experience with Pandas, and to get a chance to  \n",
    "explore a cool data set. Download the file Names.zip from Canvas. This contains the frequency  \n",
    "of all names that appeared more than 5 times on a social security application from 1880 through 2015.\n",
    "- Write a program that on input k and XXXX, returns the top k names from year XXXX.  \n",
    "- Write a program that on input Name returns the frequency for men and women of the name `Name`.\n",
    "- It could be that names are more diverse now than they were in 1880, so that a name may be relatively the most popular, though its frequency may have been decreasing over the years.  \n",
    "Modify the above to return the relative frequency. Note that in the next coming lectures we will learn how to quantify diversity using entropy.\n",
    "- Find all the names that used to be more popular for one gender, but then became more popular for another gender.\n",
    "- (Optional) Find something cool about this data set."
   ]
  },
  {
   "cell_type": "code",
   "execution_count": 194,
   "metadata": {
    "pycharm": {
     "name": "#%%\n"
    }
   },
   "outputs": [
    {
     "name": "stdout",
     "output_type": "stream",
     "text": [
      "The follow names switched popularity between genders\n",
      "Emma\n",
      "Jessie\n",
      "Emily\n",
      "Ollie\n",
      "Augusta\n",
      "Sophia\n"
     ]
    },
    {
     "ename": "KeyboardInterrupt",
     "evalue": "",
     "output_type": "error",
     "traceback": [
      "\u001B[0;31m---------------------------------------------------------------------------\u001B[0m",
      "\u001B[0;31mKeyboardInterrupt\u001B[0m                         Traceback (most recent call last)",
      "Input \u001B[0;32mIn [194]\u001B[0m, in \u001B[0;36m<cell line: 148>\u001B[0;34m()\u001B[0m\n\u001B[1;32m    146\u001B[0m \u001B[38;5;66;03m#print(uni_names)\u001B[39;00m\n\u001B[1;32m    148\u001B[0m \u001B[38;5;28;01mfor\u001B[39;00m unique_name \u001B[38;5;129;01min\u001B[39;00m uni_names:\n\u001B[0;32m--> 149\u001B[0m       freq_df \u001B[38;5;241m=\u001B[39m \u001B[43mrel_frequency\u001B[49m\u001B[43m(\u001B[49m\u001B[43munique_name\u001B[49m\u001B[43m)\u001B[49m\n\u001B[1;32m    150\u001B[0m       freq_df[\u001B[38;5;124m'\u001B[39m\u001B[38;5;124m%\u001B[39m\u001B[38;5;124m Mens\u001B[39m\u001B[38;5;124m'\u001B[39m] \u001B[38;5;241m=\u001B[39m pd\u001B[38;5;241m.\u001B[39mto_numeric(freq_df[\u001B[38;5;124m'\u001B[39m\u001B[38;5;124m%\u001B[39m\u001B[38;5;124m Mens\u001B[39m\u001B[38;5;124m'\u001B[39m])\n\u001B[1;32m    151\u001B[0m       freq_df[\u001B[38;5;124m'\u001B[39m\u001B[38;5;124m%\u001B[39m\u001B[38;5;124m Womens\u001B[39m\u001B[38;5;124m'\u001B[39m] \u001B[38;5;241m=\u001B[39m pd\u001B[38;5;241m.\u001B[39mto_numeric(freq_df[\u001B[38;5;124m'\u001B[39m\u001B[38;5;124m%\u001B[39m\u001B[38;5;124m Womens\u001B[39m\u001B[38;5;124m'\u001B[39m])\n",
      "Input \u001B[0;32mIn [194]\u001B[0m, in \u001B[0;36mrel_frequency\u001B[0;34m(name)\u001B[0m\n\u001B[1;32m     79\u001B[0m df \u001B[38;5;241m=\u001B[39m read_file_to_df(year_file_name, curr_year)\n\u001B[1;32m     81\u001B[0m df_men \u001B[38;5;241m=\u001B[39m df\u001B[38;5;241m.\u001B[39mloc[(df\u001B[38;5;241m.\u001B[39mName \u001B[38;5;241m==\u001B[39m name) \u001B[38;5;241m&\u001B[39m (df\u001B[38;5;241m.\u001B[39mGender \u001B[38;5;241m==\u001B[39m \u001B[38;5;124m'\u001B[39m\u001B[38;5;124mM\u001B[39m\u001B[38;5;124m'\u001B[39m)]\n\u001B[0;32m---> 82\u001B[0m df_women \u001B[38;5;241m=\u001B[39m df\u001B[38;5;241m.\u001B[39mloc[(\u001B[43mdf\u001B[49m\u001B[38;5;241;43m.\u001B[39;49m\u001B[43mName\u001B[49m\u001B[43m \u001B[49m\u001B[38;5;241;43m==\u001B[39;49m\u001B[43m \u001B[49m\u001B[43mname\u001B[49m) \u001B[38;5;241m&\u001B[39m (df\u001B[38;5;241m.\u001B[39mGender \u001B[38;5;241m==\u001B[39m \u001B[38;5;124m'\u001B[39m\u001B[38;5;124mF\u001B[39m\u001B[38;5;124m'\u001B[39m)]\n\u001B[1;32m     83\u001B[0m row \u001B[38;5;241m=\u001B[39m [curr_year, \u001B[38;5;241m0\u001B[39m, \u001B[38;5;241m0\u001B[39m, \u001B[38;5;241m0\u001B[39m, \u001B[38;5;241m0\u001B[39m]\n\u001B[1;32m     85\u001B[0m \u001B[38;5;28;01mif\u001B[39;00m \u001B[38;5;28mlen\u001B[39m(df_men) \u001B[38;5;241m!=\u001B[39m \u001B[38;5;241m0\u001B[39m:\n",
      "File \u001B[0;32m/Library/Python/3.8/site-packages/pandas/core/ops/common.py:70\u001B[0m, in \u001B[0;36m_unpack_zerodim_and_defer.<locals>.new_method\u001B[0;34m(self, other)\u001B[0m\n\u001B[1;32m     66\u001B[0m             \u001B[38;5;28;01mreturn\u001B[39;00m \u001B[38;5;28mNotImplemented\u001B[39m\n\u001B[1;32m     68\u001B[0m other \u001B[38;5;241m=\u001B[39m item_from_zerodim(other)\n\u001B[0;32m---> 70\u001B[0m \u001B[38;5;28;01mreturn\u001B[39;00m \u001B[43mmethod\u001B[49m\u001B[43m(\u001B[49m\u001B[38;5;28;43mself\u001B[39;49m\u001B[43m,\u001B[49m\u001B[43m \u001B[49m\u001B[43mother\u001B[49m\u001B[43m)\u001B[49m\n",
      "File \u001B[0;32m/Library/Python/3.8/site-packages/pandas/core/arraylike.py:40\u001B[0m, in \u001B[0;36mOpsMixin.__eq__\u001B[0;34m(self, other)\u001B[0m\n\u001B[1;32m     38\u001B[0m \u001B[38;5;129m@unpack_zerodim_and_defer\u001B[39m(\u001B[38;5;124m\"\u001B[39m\u001B[38;5;124m__eq__\u001B[39m\u001B[38;5;124m\"\u001B[39m)\n\u001B[1;32m     39\u001B[0m \u001B[38;5;28;01mdef\u001B[39;00m \u001B[38;5;21m__eq__\u001B[39m(\u001B[38;5;28mself\u001B[39m, other):\n\u001B[0;32m---> 40\u001B[0m     \u001B[38;5;28;01mreturn\u001B[39;00m \u001B[38;5;28;43mself\u001B[39;49m\u001B[38;5;241;43m.\u001B[39;49m\u001B[43m_cmp_method\u001B[49m\u001B[43m(\u001B[49m\u001B[43mother\u001B[49m\u001B[43m,\u001B[49m\u001B[43m \u001B[49m\u001B[43moperator\u001B[49m\u001B[38;5;241;43m.\u001B[39;49m\u001B[43meq\u001B[49m\u001B[43m)\u001B[49m\n",
      "File \u001B[0;32m/Library/Python/3.8/site-packages/pandas/core/series.py:5623\u001B[0m, in \u001B[0;36mSeries._cmp_method\u001B[0;34m(self, other, op)\u001B[0m\n\u001B[1;32m   5620\u001B[0m rvalues \u001B[38;5;241m=\u001B[39m extract_array(other, extract_numpy\u001B[38;5;241m=\u001B[39m\u001B[38;5;28;01mTrue\u001B[39;00m, extract_range\u001B[38;5;241m=\u001B[39m\u001B[38;5;28;01mTrue\u001B[39;00m)\n\u001B[1;32m   5622\u001B[0m \u001B[38;5;28;01mwith\u001B[39;00m np\u001B[38;5;241m.\u001B[39merrstate(\u001B[38;5;28mall\u001B[39m\u001B[38;5;241m=\u001B[39m\u001B[38;5;124m\"\u001B[39m\u001B[38;5;124mignore\u001B[39m\u001B[38;5;124m\"\u001B[39m):\n\u001B[0;32m-> 5623\u001B[0m     res_values \u001B[38;5;241m=\u001B[39m \u001B[43mops\u001B[49m\u001B[38;5;241;43m.\u001B[39;49m\u001B[43mcomparison_op\u001B[49m\u001B[43m(\u001B[49m\u001B[43mlvalues\u001B[49m\u001B[43m,\u001B[49m\u001B[43m \u001B[49m\u001B[43mrvalues\u001B[49m\u001B[43m,\u001B[49m\u001B[43m \u001B[49m\u001B[43mop\u001B[49m\u001B[43m)\u001B[49m\n\u001B[1;32m   5625\u001B[0m \u001B[38;5;28;01mreturn\u001B[39;00m \u001B[38;5;28mself\u001B[39m\u001B[38;5;241m.\u001B[39m_construct_result(res_values, name\u001B[38;5;241m=\u001B[39mres_name)\n",
      "File \u001B[0;32m/Library/Python/3.8/site-packages/pandas/core/ops/array_ops.py:283\u001B[0m, in \u001B[0;36mcomparison_op\u001B[0;34m(left, right, op)\u001B[0m\n\u001B[1;32m    280\u001B[0m     \u001B[38;5;28;01mreturn\u001B[39;00m invalid_comparison(lvalues, rvalues, op)\n\u001B[1;32m    282\u001B[0m \u001B[38;5;28;01melif\u001B[39;00m is_object_dtype(lvalues\u001B[38;5;241m.\u001B[39mdtype) \u001B[38;5;129;01mor\u001B[39;00m \u001B[38;5;28misinstance\u001B[39m(rvalues, \u001B[38;5;28mstr\u001B[39m):\n\u001B[0;32m--> 283\u001B[0m     res_values \u001B[38;5;241m=\u001B[39m \u001B[43mcomp_method_OBJECT_ARRAY\u001B[49m\u001B[43m(\u001B[49m\u001B[43mop\u001B[49m\u001B[43m,\u001B[49m\u001B[43m \u001B[49m\u001B[43mlvalues\u001B[49m\u001B[43m,\u001B[49m\u001B[43m \u001B[49m\u001B[43mrvalues\u001B[49m\u001B[43m)\u001B[49m\n\u001B[1;32m    285\u001B[0m \u001B[38;5;28;01melse\u001B[39;00m:\n\u001B[1;32m    286\u001B[0m     res_values \u001B[38;5;241m=\u001B[39m _na_arithmetic_op(lvalues, rvalues, op, is_cmp\u001B[38;5;241m=\u001B[39m\u001B[38;5;28;01mTrue\u001B[39;00m)\n",
      "File \u001B[0;32m/Library/Python/3.8/site-packages/pandas/core/ops/array_ops.py:73\u001B[0m, in \u001B[0;36mcomp_method_OBJECT_ARRAY\u001B[0;34m(op, x, y)\u001B[0m\n\u001B[1;32m     71\u001B[0m     result \u001B[38;5;241m=\u001B[39m libops\u001B[38;5;241m.\u001B[39mvec_compare(x\u001B[38;5;241m.\u001B[39mravel(), y\u001B[38;5;241m.\u001B[39mravel(), op)\n\u001B[1;32m     72\u001B[0m \u001B[38;5;28;01melse\u001B[39;00m:\n\u001B[0;32m---> 73\u001B[0m     result \u001B[38;5;241m=\u001B[39m \u001B[43mlibops\u001B[49m\u001B[38;5;241;43m.\u001B[39;49m\u001B[43mscalar_compare\u001B[49m\u001B[43m(\u001B[49m\u001B[43mx\u001B[49m\u001B[38;5;241;43m.\u001B[39;49m\u001B[43mravel\u001B[49m\u001B[43m(\u001B[49m\u001B[43m)\u001B[49m\u001B[43m,\u001B[49m\u001B[43m \u001B[49m\u001B[43my\u001B[49m\u001B[43m,\u001B[49m\u001B[43m \u001B[49m\u001B[43mop\u001B[49m\u001B[43m)\u001B[49m\n\u001B[1;32m     74\u001B[0m \u001B[38;5;28;01mreturn\u001B[39;00m result\u001B[38;5;241m.\u001B[39mreshape(x\u001B[38;5;241m.\u001B[39mshape)\n",
      "\u001B[0;31mKeyboardInterrupt\u001B[0m: "
     ]
    }
   ],
   "source": [
    "import pandas as pd\n",
    "from zipfile import ZipFile\n",
    "import decimal as d\n",
    "import seaborn as sns\n",
    "import csv\n",
    "\n",
    "# Globals\n",
    "file_name = 'Names.zip'\n",
    "column_names = ['Name', 'Gender', 'Count']\n",
    "sns.set(style=\"ticks\",\n",
    "        rc={\n",
    "            \"figure.figsize\": [12, 7],\n",
    "            \"text.color\": \"black\",\n",
    "            \"axes.labelcolor\": \"black\",\n",
    "            \"axes.edgecolor\": \"black\",\n",
    "            \"xtick.color\": \"black\",\n",
    "            \"ytick.color\": \"black\",\n",
    "            \"axes.facecolor\": \"#DAF7A6\",\n",
    "            \"figure.facecolor\": \"#DAF7A6\"}\n",
    "        )\n",
    "\n",
    "# Functions\n",
    "def read_file_to_df(name, year):\n",
    "      with ZipFile(file_name, 'r') as zipped:\n",
    "           file = zipped.open(name)\n",
    "           df = pd.read_csv(file, sep=\",\")\n",
    "           df.columns = column_names\n",
    "           df.insert(0, 'Year', year)\n",
    "           return df\n",
    "\n",
    "def top_names_from_year(top, year):\n",
    "      year_file_name = 'Names/yob' + str(year) + '.txt'\n",
    "      df = read_file_to_df(year_file_name, year)\n",
    "      df.sort_values('Count')\n",
    "      return df.loc[:(top-1), ('Name', 'Gender', 'Count')]\n",
    "\n",
    "def name_frequency(name):\n",
    "      curr_year = 1880\n",
    "      freq_sum_men = 0\n",
    "      freq_sum_women = 0\n",
    "      rel_freq_men = 0\n",
    "      rel_freq_women = 0\n",
    "      total = 0\n",
    "\n",
    "      while curr_year != 2016:\n",
    "            year_file_name = 'Names/yob' + str(curr_year) + '.txt'\n",
    "            df = read_file_to_df(year_file_name, curr_year)\n",
    "\n",
    "            df_men = df.loc[(df.Name == name) & (df.Gender == 'M')]\n",
    "            df_women = df.loc[(df.Name == name) & (df.Gender == 'F')]\n",
    "\n",
    "            if len(df_men) != 0:\n",
    "                  freq_sum_men += df_men.Count.iloc[0]\n",
    "            if len(df_women) != 0:\n",
    "                  freq_sum_women += df_women.Count.iloc[0]\n",
    "            curr_year += 1\n",
    "\n",
    "      total = freq_sum_men + freq_sum_women\n",
    "\n",
    "      if total != 0:\n",
    "            rel_freq_men = (freq_sum_men / total) * 100\n",
    "            rel_freq_men = d.Decimal(rel_freq_men).quantize(d.Decimal('.1'), rounding=d.ROUND_DOWN)\n",
    "            rel_freq_women = (freq_sum_women / total) * 100\n",
    "            rel_freq_women = d.Decimal(rel_freq_women).quantize(d.Decimal('.1'), rounding=d.ROUND_DOWN)\n",
    "\n",
    "      print(name + \" from 1880 to 2015\")\n",
    "      ret_df = pd.DataFrame({'Count': [freq_sum_men, freq_sum_women], 'Relative Frequency': [rel_freq_men, rel_freq_women]}, index=['Men', 'Women'])\n",
    "      return ret_df\n",
    "\n",
    "def rel_frequency(name):\n",
    "      curr_year = 1880\n",
    "      rows = []\n",
    "      men_perc = 0\n",
    "      women_perc = 0\n",
    "\n",
    "      while curr_year != 2016:\n",
    "            total = 0\n",
    "            year_file_name = 'Names/yob' + str(curr_year) + '.txt'\n",
    "            df = read_file_to_df(year_file_name, curr_year)\n",
    "\n",
    "            df_men = df.loc[(df.Name == name) & (df.Gender == 'M')]\n",
    "            df_women = df.loc[(df.Name == name) & (df.Gender == 'F')]\n",
    "            row = [curr_year, 0, 0, 0, 0]\n",
    "\n",
    "            if len(df_men) != 0:\n",
    "                  row[1] = df_men.Count.iloc[0]\n",
    "                  total += row[1]\n",
    "\n",
    "            if len(df_women) != 0:\n",
    "                  row[2] = df_women.Count.iloc[0]\n",
    "                  total += row[2]\n",
    "\n",
    "            if total != 0:\n",
    "                men_perc = (row[1] / total) * 100\n",
    "                women_perc = (row[2] / total) * 100\n",
    "\n",
    "            row[3] = d.Decimal(men_perc).quantize(d.Decimal('.1'), rounding=d.ROUND_DOWN)\n",
    "            row[4] = d.Decimal(women_perc).quantize(d.Decimal('.1'), rounding=d.ROUND_DOWN)\n",
    "\n",
    "            rows.append(row)\n",
    "            curr_year += 1\n",
    "\n",
    "      ret_df = pd.DataFrame(rows, columns=['Year', 'Men', 'Women', '% Mens', '% Womens'])\n",
    "      # ret_df = ret_df.set_index('Year')\n",
    "      return ret_df\n",
    "\n",
    "def open_all_in_one_df():\n",
    "      curr_year = 1880\n",
    "      ret_df = []\n",
    "\n",
    "      while curr_year != 2016:\n",
    "            year_file_name = 'Names/yob' + str(curr_year) + '.txt'\n",
    "            temp_df = read_file_to_df(year_file_name, curr_year)\n",
    "            ret_df.append(temp_df)\n",
    "            curr_year += 1\n",
    "\n",
    "      big_df = pd.concat(ret_df)\n",
    "      return big_df\n",
    "\n",
    "# Parts\n",
    "# Question 1: Top k names in year XXXX\n",
    "k, year = input(\"Find the top k names in the year XXXX - k year.\").split()\n",
    "top_names_from_year(int(k), int(year))\n",
    "\n",
    "# Question 2: Most frequent M & F of Name\n",
    "name_in = input(\"Find frequency of name among men and women - name\")\n",
    "name_frequency(name_in)\n",
    "\n",
    "# Question 3: Relative frequency of a name\n",
    "name_in_rel = input(\"Find the relative frequency of a name among men and women - name\")\n",
    "df = rel_frequency(name_in_rel)\n",
    "df = df.astype(float)\n",
    "print(name_in_rel + \" from 1880 to 2015\")\n",
    "display(df)\n",
    "line_rel = df.plot(x='Year', y=['Men', 'Women'], kind='line', title='Count')\n",
    "display(line_rel)\n",
    "line_count = df.plot(x='Year', y=['% Mens', '% Womens'], kind='line', title='Relative Frequency')\n",
    "display(line_count)\n",
    "\n",
    "# Question 4: Name popularity shifts from one gender to the other\n",
    "print('The follow names switched popularity between genders')\n",
    "gender_switched = []\n",
    "col = 'Name'\n",
    "all_names = open_all_in_one_df()\n",
    "uni_names = pd.concat([all_names[col]]).unique()\n",
    "#print(uni_names)\n",
    "\n",
    "for unique_name in uni_names:\n",
    "      freq_df = rel_frequency(unique_name)\n",
    "      freq_df['% Mens'] = pd.to_numeric(freq_df['% Mens'])\n",
    "      freq_df['% Womens'] = pd.to_numeric(freq_df['% Womens'])\n",
    "      max_men_relfreq = freq_df.loc[freq_df['% Mens'].idxmax()] # find max value in col\n",
    "      max_men_relfreq = max_men_relfreq['% Mens']\n",
    "\n",
    "      if max_men_relfreq > 50:\n",
    "            max_women_relfreq = freq_df.loc[freq_df['% Womens'].idxmax()] # find max value in column\n",
    "            max_women_relfreq = max_women_relfreq['% Womens']\n",
    "            if max_women_relfreq > 50:\n",
    "                  gender_switched.append(unique_name)\n",
    "                  print(unique_name)"
   ]
  },
  {
   "cell_type": "markdown",
   "metadata": {},
   "source": [
    "# Problem 4: Starting in Kaggle - Josh\n",
    "\n",
    "Later in this class, you will be participating in the in-class Kaggle competition made specifically\n",
    "for this class. In that one, you will be participating on your own. This is a warmup- the more\n",
    "effort and research you put into this assignment the easier it will be to compete into the real Kaggle\n",
    "competition that you will need to do soon.\n",
    "1. Let’s start with our first Kaggle submission in a playground regression competition. Make an\n",
    "account to Kaggle and find\n",
    "https://www.kaggle.com/c/house-prices-advanced-regression-techniques/\n",
    "2. Follow the data preprocessing steps from\n",
    "https://www.kaggle.com/apapiu/house-prices-advanced-regression-techniques/regularized-linear-\n",
    "models. Then run a ridge regression using α = 0.1. Make a submission of this prediction,\n",
    "what is the RMSE you get?\n",
    "(Hint: remember to exponentiate np.expm1(ypred) your predictions).\n",
    "3. Compare a ridge regression and a lasso regression model. Optimize the alphas using cross\n",
    "validation. What is the best score you can get from a single ridge regression model and from\n",
    "a single lasso model?\n",
    "4. Plot the l0 norm (number of nonzeros) of the coefficients that lasso produces as you vary the\n",
    "strength of regularization parameter alpha.\n",
    "5. Add the outputs of your models as features and train a ridge regression on all the features\n",
    "plus the model outputs (This is called Ensembling and Stacking). Be careful not to overfit.\n",
    "What score can you get? (We will be discussing ensembling more, later in the class, but you\n",
    "can start playing with it now).\n",
    "6. Install XGBoost (Gradient Boosting) and train a gradient boosting regression. What score\n",
    "can you get just from a single XGB? (you will need to optimize over its parameters). We will\n",
    "discuss boosting and gradient boosting in more detail later. XGB is a great friend to all good\n",
    "Kagglers!\n",
    "7. Do your best to get the more accurate model. Try feature engineering and stacking many\n",
    "models. You are allowed to use any public tool in python. No non-python tools allowed.\n",
    "8. (Optional) Read the Kaggle forums, tutorials and Kernels in this competition. This is an\n",
    "excellent way to learn. Include in your report if you find something in the forums you like, or\n",
    "if you made your own post or code post, especially if other Kagglers liked or used it afterwards.\n",
    "2\n",
    "9. Be sure to read and learn the rules of Kaggle! No sharing of code or data outside the Kaggle\n",
    "forums. Every student should have their own individual Kaggle account and teams can be\n",
    "formed in the Kaggle submissions with partners. This is more important for live competitions\n",
    "of course.\n",
    "10. As in the real in-class Kaggle competition (which will be next), you will be graded based on\n",
    "your public score (include that in your report) and also on the creativity of your solution.\n",
    "In your report (that you will submit as a pdf file), explain what worked and what did\n",
    "not work. Many creative things will not work, but you will get partial credit for developing\n",
    "them. We will invite teams with interesting solutions to present them in class."
   ]
  },
  {
   "cell_type": "code",
   "execution_count": 118,
   "metadata": {},
   "outputs": [
    {
     "name": "stderr",
     "output_type": "stream",
     "text": [
      "C:\\Users\\Joshd\\AppData\\Local\\Temp\\ipykernel_6424\\2813327740.py:8: DeprecationWarning: Please use `pearsonr` from the `scipy.stats` namespace, the `scipy.stats.stats` namespace is deprecated.\n",
      "  from scipy.stats.stats import pearsonr\n"
     ]
    }
   ],
   "source": [
    "import pandas as pd\n",
    "import numpy as np\n",
    "import seaborn as sns\n",
    "import matplotlib\n",
    "\n",
    "import matplotlib.pyplot as plt\n",
    "from scipy.stats import skew\n",
    "from scipy.stats.stats import pearsonr"
   ]
  },
  {
   "cell_type": "code",
   "execution_count": 119,
   "metadata": {},
   "outputs": [],
   "source": [
    "train = pd.read_csv(r\"C:\\Pycharm\\House Prices ML\\train.csv\")\n",
    "test = pd.read_csv(r\"C:\\Pycharm\\House Prices ML\\test.csv\")\n"
   ]
  },
  {
   "cell_type": "code",
   "execution_count": 120,
   "metadata": {},
   "outputs": [
    {
     "data": {
      "text/html": [
       "<div>\n",
       "<style scoped>\n",
       "    .dataframe tbody tr th:only-of-type {\n",
       "        vertical-align: middle;\n",
       "    }\n",
       "\n",
       "    .dataframe tbody tr th {\n",
       "        vertical-align: top;\n",
       "    }\n",
       "\n",
       "    .dataframe thead th {\n",
       "        text-align: right;\n",
       "    }\n",
       "</style>\n",
       "<table border=\"1\" class=\"dataframe\">\n",
       "  <thead>\n",
       "    <tr style=\"text-align: right;\">\n",
       "      <th></th>\n",
       "      <th>Id</th>\n",
       "      <th>MSSubClass</th>\n",
       "      <th>MSZoning</th>\n",
       "      <th>LotFrontage</th>\n",
       "      <th>LotArea</th>\n",
       "      <th>Street</th>\n",
       "      <th>Alley</th>\n",
       "      <th>LotShape</th>\n",
       "      <th>LandContour</th>\n",
       "      <th>Utilities</th>\n",
       "      <th>...</th>\n",
       "      <th>PoolArea</th>\n",
       "      <th>PoolQC</th>\n",
       "      <th>Fence</th>\n",
       "      <th>MiscFeature</th>\n",
       "      <th>MiscVal</th>\n",
       "      <th>MoSold</th>\n",
       "      <th>YrSold</th>\n",
       "      <th>SaleType</th>\n",
       "      <th>SaleCondition</th>\n",
       "      <th>SalePrice</th>\n",
       "    </tr>\n",
       "  </thead>\n",
       "  <tbody>\n",
       "    <tr>\n",
       "      <th>0</th>\n",
       "      <td>1</td>\n",
       "      <td>60</td>\n",
       "      <td>RL</td>\n",
       "      <td>65.0</td>\n",
       "      <td>8450</td>\n",
       "      <td>Pave</td>\n",
       "      <td>NaN</td>\n",
       "      <td>Reg</td>\n",
       "      <td>Lvl</td>\n",
       "      <td>AllPub</td>\n",
       "      <td>...</td>\n",
       "      <td>0</td>\n",
       "      <td>NaN</td>\n",
       "      <td>NaN</td>\n",
       "      <td>NaN</td>\n",
       "      <td>0</td>\n",
       "      <td>2</td>\n",
       "      <td>2008</td>\n",
       "      <td>WD</td>\n",
       "      <td>Normal</td>\n",
       "      <td>208500</td>\n",
       "    </tr>\n",
       "    <tr>\n",
       "      <th>1</th>\n",
       "      <td>2</td>\n",
       "      <td>20</td>\n",
       "      <td>RL</td>\n",
       "      <td>80.0</td>\n",
       "      <td>9600</td>\n",
       "      <td>Pave</td>\n",
       "      <td>NaN</td>\n",
       "      <td>Reg</td>\n",
       "      <td>Lvl</td>\n",
       "      <td>AllPub</td>\n",
       "      <td>...</td>\n",
       "      <td>0</td>\n",
       "      <td>NaN</td>\n",
       "      <td>NaN</td>\n",
       "      <td>NaN</td>\n",
       "      <td>0</td>\n",
       "      <td>5</td>\n",
       "      <td>2007</td>\n",
       "      <td>WD</td>\n",
       "      <td>Normal</td>\n",
       "      <td>181500</td>\n",
       "    </tr>\n",
       "    <tr>\n",
       "      <th>2</th>\n",
       "      <td>3</td>\n",
       "      <td>60</td>\n",
       "      <td>RL</td>\n",
       "      <td>68.0</td>\n",
       "      <td>11250</td>\n",
       "      <td>Pave</td>\n",
       "      <td>NaN</td>\n",
       "      <td>IR1</td>\n",
       "      <td>Lvl</td>\n",
       "      <td>AllPub</td>\n",
       "      <td>...</td>\n",
       "      <td>0</td>\n",
       "      <td>NaN</td>\n",
       "      <td>NaN</td>\n",
       "      <td>NaN</td>\n",
       "      <td>0</td>\n",
       "      <td>9</td>\n",
       "      <td>2008</td>\n",
       "      <td>WD</td>\n",
       "      <td>Normal</td>\n",
       "      <td>223500</td>\n",
       "    </tr>\n",
       "    <tr>\n",
       "      <th>3</th>\n",
       "      <td>4</td>\n",
       "      <td>70</td>\n",
       "      <td>RL</td>\n",
       "      <td>60.0</td>\n",
       "      <td>9550</td>\n",
       "      <td>Pave</td>\n",
       "      <td>NaN</td>\n",
       "      <td>IR1</td>\n",
       "      <td>Lvl</td>\n",
       "      <td>AllPub</td>\n",
       "      <td>...</td>\n",
       "      <td>0</td>\n",
       "      <td>NaN</td>\n",
       "      <td>NaN</td>\n",
       "      <td>NaN</td>\n",
       "      <td>0</td>\n",
       "      <td>2</td>\n",
       "      <td>2006</td>\n",
       "      <td>WD</td>\n",
       "      <td>Abnorml</td>\n",
       "      <td>140000</td>\n",
       "    </tr>\n",
       "    <tr>\n",
       "      <th>4</th>\n",
       "      <td>5</td>\n",
       "      <td>60</td>\n",
       "      <td>RL</td>\n",
       "      <td>84.0</td>\n",
       "      <td>14260</td>\n",
       "      <td>Pave</td>\n",
       "      <td>NaN</td>\n",
       "      <td>IR1</td>\n",
       "      <td>Lvl</td>\n",
       "      <td>AllPub</td>\n",
       "      <td>...</td>\n",
       "      <td>0</td>\n",
       "      <td>NaN</td>\n",
       "      <td>NaN</td>\n",
       "      <td>NaN</td>\n",
       "      <td>0</td>\n",
       "      <td>12</td>\n",
       "      <td>2008</td>\n",
       "      <td>WD</td>\n",
       "      <td>Normal</td>\n",
       "      <td>250000</td>\n",
       "    </tr>\n",
       "  </tbody>\n",
       "</table>\n",
       "<p>5 rows × 81 columns</p>\n",
       "</div>"
      ],
      "text/plain": [
       "   Id  MSSubClass MSZoning  LotFrontage  LotArea Street Alley LotShape  \\\n",
       "0   1          60       RL         65.0     8450   Pave   NaN      Reg   \n",
       "1   2          20       RL         80.0     9600   Pave   NaN      Reg   \n",
       "2   3          60       RL         68.0    11250   Pave   NaN      IR1   \n",
       "3   4          70       RL         60.0     9550   Pave   NaN      IR1   \n",
       "4   5          60       RL         84.0    14260   Pave   NaN      IR1   \n",
       "\n",
       "  LandContour Utilities  ... PoolArea PoolQC Fence MiscFeature MiscVal MoSold  \\\n",
       "0         Lvl    AllPub  ...        0    NaN   NaN         NaN       0      2   \n",
       "1         Lvl    AllPub  ...        0    NaN   NaN         NaN       0      5   \n",
       "2         Lvl    AllPub  ...        0    NaN   NaN         NaN       0      9   \n",
       "3         Lvl    AllPub  ...        0    NaN   NaN         NaN       0      2   \n",
       "4         Lvl    AllPub  ...        0    NaN   NaN         NaN       0     12   \n",
       "\n",
       "  YrSold  SaleType  SaleCondition  SalePrice  \n",
       "0   2008        WD         Normal     208500  \n",
       "1   2007        WD         Normal     181500  \n",
       "2   2008        WD         Normal     223500  \n",
       "3   2006        WD        Abnorml     140000  \n",
       "4   2008        WD         Normal     250000  \n",
       "\n",
       "[5 rows x 81 columns]"
      ]
     },
     "execution_count": 120,
     "metadata": {},
     "output_type": "execute_result"
    }
   ],
   "source": [
    "train.head()"
   ]
  },
  {
   "cell_type": "code",
   "execution_count": 121,
   "metadata": {},
   "outputs": [],
   "source": [
    "all_data = pd.concat((train.loc[:, 'MSSubClass': 'SaleCondition'], test.loc[:, 'MSSubClass': 'SaleCondition']))"
   ]
  },
  {
   "cell_type": "code",
   "execution_count": 122,
   "metadata": {},
   "outputs": [
    {
     "data": {
      "text/plain": [
       "array([[<AxesSubplot:title={'center':'price'}>,\n",
       "        <AxesSubplot:title={'center':'log(price + 1)'}>]], dtype=object)"
      ]
     },
     "execution_count": 122,
     "metadata": {},
     "output_type": "execute_result"
    },
    {
     "data": {
      "image/png": "[encoded data removed]",
      "text/plain": [
       "<Figure size 864x432 with 2 Axes>"
      ]
     },
     "metadata": {
      "needs_background": "light"
     },
     "output_type": "display_data"
    }
   ],
   "source": [
    "matplotlib.rcParams['figure.figsize'] = (12.0, 6.0)\n",
    "prices = pd.DataFrame({\"price\":train[\"SalePrice\"], \"log(price + 1)\":np.log1p(train[\"SalePrice\"])})\n",
    "prices.hist()"
   ]
  },
  {
   "cell_type": "code",
   "execution_count": 123,
   "metadata": {},
   "outputs": [],
   "source": [
    "from unicodedata import numeric\n",
    "\n",
    "\n",
    "train[\"SalePrice\"] = np.log1p(train[\"SalePrice\"]) #Log transform the target\n",
    "\n",
    "numeric_feats = all_data.dtypes[all_data.dtypes != \"object\"].index\n",
    "skewed_feats = train[numeric_feats].apply(lambda x: skew(x.dropna()))\n",
    "skewed_feats = skewed_feats[skewed_feats > 0.75]\n",
    "skewed_feats = skewed_feats.index\n",
    "\n",
    "all_data[skewed_feats] = np.log1p(all_data[skewed_feats])"
   ]
  },
  {
   "cell_type": "code",
   "execution_count": 124,
   "metadata": {},
   "outputs": [],
   "source": [
    "all_data = pd.get_dummies(all_data) #convert all categorical data into dummy variables "
   ]
  },
  {
   "cell_type": "code",
   "execution_count": 125,
   "metadata": {},
   "outputs": [],
   "source": [
    "all_data = all_data.fillna(all_data.mean()) #Filling all NA's with mean of each column"
   ]
  },
  {
   "cell_type": "code",
   "execution_count": 126,
   "metadata": {},
   "outputs": [],
   "source": [
    "from sklearn.linear_model import Ridge, RidgeCV, ElasticNet, LassoCV, LassoLarsCV\n",
    "from sklearn.model_selection import cross_val_score"
   ]
  },
  {
   "cell_type": "code",
   "execution_count": 127,
   "metadata": {},
   "outputs": [],
   "source": [
    "#creating matrices for sklearn:\n",
    "X_train = all_data[:train.shape[0]]\n",
    "X_test = all_data[train.shape[0]:]\n",
    "y = train.SalePrice"
   ]
  },
  {
   "cell_type": "code",
   "execution_count": 128,
   "metadata": {},
   "outputs": [
    {
     "name": "stdout",
     "output_type": "stream",
     "text": [
      "RMSE:  [0.12156718 0.14425787 0.1516712  0.11267361 0.15870705]\n",
      "RMSE Average: 0.137775382771879\n"
     ]
    }
   ],
   "source": [
    "model_ridge = Ridge(0.1)\n",
    "rmse= np.sqrt(-cross_val_score(Ridge(0.1), X_train, y, scoring=\"neg_mean_squared_error\", cv = 5))\n",
    "print(\"RMSE: \", rmse)\n",
    "print(\"RMSE Average:\", rmse.mean())\n"
   ]
  },
  {
   "cell_type": "markdown",
   "metadata": {},
   "source": [
    "# RMSE:  [0.12156718 0.14425787 0.1516712  0.11267361 0.15870705]\n",
    "# RMSE Average: 0.137775382771879"
   ]
  },
  {
   "cell_type": "code",
   "execution_count": 129,
   "metadata": {},
   "outputs": [],
   "source": [
    "model_ridge.fit(X_train, y)\n",
    "RidgePredictions = np.expm1(model_ridge.predict(X_test))\n",
    "submission = pd.DataFrame({ 'Id': test.Id,\n",
    "                            'SalePrice': RidgePredictions })\n",
    "submission.to_csv(\"submission.csv\", index=False)\n"
   ]
  },
  {
   "cell_type": "code",
   "execution_count": 130,
   "metadata": {},
   "outputs": [],
   "source": [
    "def rmse_cv(model):\n",
    "    rmse= np.sqrt(-cross_val_score(model, X_train, y, scoring=\"neg_mean_squared_error\", cv = 5))\n",
    "    return(rmse)"
   ]
  },
  {
   "cell_type": "code",
   "execution_count": 131,
   "metadata": {},
   "outputs": [
    {
     "data": {
      "text/plain": [
       "Text(0, 0.5, 'rmse')"
      ]
     },
     "execution_count": 131,
     "metadata": {},
     "output_type": "execute_result"
    },
    {
     "data": {
      "image/png": "[encoded data removed]",
      "text/plain": [
       "<Figure size 864x432 with 1 Axes>"
      ]
     },
     "metadata": {
      "needs_background": "light"
     },
     "output_type": "display_data"
    }
   ],
   "source": [
    "alphas = [0.05, 0.1, 0.3, 1, 3, 5, 10, 15, 30, 50, 75]\n",
    "cv_ridge = [rmse_cv(Ridge(alpha=alpha)).mean() for alpha in alphas]\n",
    "cv_ridge = pd.Series(cv_ridge, index = alphas)\n",
    "cv_ridge.plot(title = \"Validation - Just Do It\")\n",
    "plt.xlabel(\"alpha\")\n",
    "plt.ylabel(\"rmse\")"
   ]
  },
  {
   "cell_type": "code",
   "execution_count": 132,
   "metadata": {},
   "outputs": [
    {
     "name": "stdout",
     "output_type": "stream",
     "text": [
      "0.12733734668670754\n"
     ]
    }
   ],
   "source": [
    "print(cv_ridge.min())"
   ]
  },
  {
   "cell_type": "markdown",
   "metadata": {},
   "source": [
    "We can see that an alpha of 10 will best minimize our RMSE from the plot"
   ]
  },
  {
   "cell_type": "code",
   "execution_count": 133,
   "metadata": {},
   "outputs": [],
   "source": [
    "model_ridge = Ridge(10)\n",
    "model_ridge.fit(X_train, y)\n",
    "RidgePredictions = np.expm1(model_ridge.predict(X_test))\n",
    "RidgeSubmission = pd.DataFrame({ 'Id': test.Id,\n",
    "                            'SalePrice': RidgePredictions })\n",
    "RidgeSubmission.to_csv(\"RidgeSubmission.csv\", index=False)\n"
   ]
  },
  {
   "cell_type": "markdown",
   "metadata": {},
   "source": [
    "# The best score from a single ridge regression model with an alpha of 10 is 0.12479"
   ]
  },
  {
   "cell_type": "code",
   "execution_count": 134,
   "metadata": {},
   "outputs": [],
   "source": [
    "model_lasso = LassoCV(alphas = [1, 0.1, 0.001, 0.0005]).fit(X_train, y)\n",
    "rmse_cv(model_lasso).mean()\n",
    "lassoPredictions = np.expm1(model_lasso.predict(X_test))\n",
    "LassoSubmission = pd.DataFrame({ 'Id': test.Id,\n",
    "                            'SalePrice': lassoPredictions })\n",
    "LassoSubmission.to_csv(\"LassoSubmission.csv\", index=False)"
   ]
  },
  {
   "cell_type": "markdown",
   "metadata": {},
   "source": [
    "# The best score for a single lasso model is 0.12455"
   ]
  },
  {
   "cell_type": "code",
   "execution_count": 135,
   "metadata": {},
   "outputs": [
    {
     "data": {
      "text/plain": [
       "<AxesSubplot:xlabel='Id', ylabel='SalePrice'>"
      ]
     },
     "execution_count": 135,
     "metadata": {},
     "output_type": "execute_result"
    },
    {
     "data": {
      "image/png": "[encoded data removed]",
      "text/plain": [
       "<Figure size 864x432 with 1 Axes>"
      ]
     },
     "metadata": {
      "needs_background": "light"
     },
     "output_type": "display_data"
    }
   ],
   "source": [
    "sns.scatterplot(x = LassoSubmission[\"Id\"], y = LassoSubmission[\"SalePrice\"])\n"
   ]
  },
  {
   "cell_type": "code",
   "execution_count": 138,
   "metadata": {},
   "outputs": [],
   "source": [
    "import xgboost as xgb"
   ]
  },
  {
   "cell_type": "code",
   "execution_count": 139,
   "metadata": {},
   "outputs": [],
   "source": [
    "dtrain = xgb.DMatrix(X_train, label = y)\n",
    "dtest = xgb.DMatrix(X_test)\n",
    "params = {\"max_depth\":2, \"eta\":0.1}\n",
    "model = xgb.cv(params, dtrain,  num_boost_round=500, early_stopping_rounds=100)"
   ]
  },
  {
   "cell_type": "code",
   "execution_count": 140,
   "metadata": {},
   "outputs": [
    {
     "data": {
      "text/plain": [
       "<AxesSubplot:>"
      ]
     },
     "execution_count": 140,
     "metadata": {},
     "output_type": "execute_result"
    },
    {
     "data": {
      "image/png": "[encoded data removed]",
      "text/plain": [
       "<Figure size 864x432 with 1 Axes>"
      ]
     },
     "metadata": {
      "needs_background": "light"
     },
     "output_type": "display_data"
    }
   ],
   "source": [
    "model.loc[30:,[\"test-rmse-mean\", \"train-rmse-mean\"]].plot()"
   ]
  },
  {
   "cell_type": "code",
   "execution_count": 141,
   "metadata": {},
   "outputs": [],
   "source": [
    "model_xgb = xgb.XGBRegressor(n_estimators=360, max_depth=2, learning_rate=0.1) \n",
    "model_xgb.fit(X_train, y)\n",
    "XGBPredictions = np.expm1(model_xgb.predict(X_test))\n",
    "submission = pd.DataFrame({ 'Id': test.Id,\n",
    "                            'SalePrice': XGBPredictions })\n",
    "submission.to_csv(\"submission.csv\", index=False)"
   ]
  },
  {
   "cell_type": "markdown",
   "metadata": {},
   "source": [
    "# A single XBGRegressor model scored a 0.13278"
   ]
  },
  {
   "cell_type": "code",
   "execution_count": 142,
   "metadata": {},
   "outputs": [],
   "source": [
    "Predictions = 0.7*lassoPredictions + 0.3*XGBPredictions\n",
    "solution = pd.DataFrame({\"id\":test.Id, \"SalePrice\":Predictions})\n",
    "solution.to_csv(\"ridge_sol.csv\", index = False)"
   ]
  },
  {
   "cell_type": "markdown",
   "metadata": {},
   "source": [
    "# After taking a weight combination of the Lasso and XGBRegressor model, the score got was 0.12299 which our best score"
   ]
  }
 ],
 "metadata": {
  "kernelspec": {
   "display_name": "Python 3.10.5 64-bit",
   "language": "python",
   "name": "python3"
  },
  "language_info": {
   "codemirror_mode": {
    "name": "ipython",
    "version": 3
   },
   "file_extension": ".py",
   "mimetype": "text/x-python",
   "name": "python",
   "nbconvert_exporter": "python",
   "pygments_lexer": "ipython3",
   "version": "3.10.5"
  },
  "orig_nbformat": 4,
  "vscode": {
   "interpreter": {
    "hash": "31c8c5cba07e95f2617789569750bcd97431d2b595fee35a3ee70d05066372fb"
   }
  }
 },
 "nbformat": 4,
 "nbformat_minor": 2
}