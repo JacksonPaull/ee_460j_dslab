{
 "cells": [
  {
   "cell_type": "markdown",
   "metadata": {
    "pycharm": {
     "name": "#%% md\n"
    }
   },
   "source": [
    "# Problem 1: Covariance - Josh\n",
    "- When given a data matrix, an easy way to tell if any two columns are correlated is to look at a scatter plot of each column against each other column.  \n",
    "For a warm up, do this:  \n",
    "Look at the data in DF1 in Lab2 Data.zip.  \n",
    "Which columns are (pairwise) correlated?  \n",
    "Figure out how to do this with Pandas, and also how to do this with Seaborn.  \n",
    "\n",
    "- Compute the covariance matrix of the data. Write the explicit expression for what this is,  \n",
    "and then use any command you like (e.g., np.cov) to compute the 4 ×4 matrix.  \n",
    "Explain why the numbers that you get fit with the plots you got.\n",
    "\n",
    "- The above problem in reverse. Generate a zero-mean multivariate Gaussian random variable in 3 dimensions,  \n",
    "Z = (X1,X2,X3) so that (X1,X2) and (X1,X3) are uncorrelated, but (X2,X3) are correlated.  \n",
    "Specifically: choose a covariance matrix that has the above correlations structure, and write this down. Then find a way to generate samples from this Gaussian.  \n",
    "Choose one of the non-zero covariance terms (Cij , if C denotes your covariance matrix) and plot it vs the estimated covariance term, as the number of samples you use scales.  \n",
    "The goal is to get a visual representation of how the empirical covariance converges to the true (or family) covariance."
   ]
  },
  {
   "cell_type": "code",
   "execution_count": null,
   "metadata": {
    "pycharm": {
     "name": "#%%\n"
    }
   },
   "outputs": [],
   "source": []
  },
  {
   "cell_type": "markdown",
   "metadata": {
    "pycharm": {
     "name": "#%% md\n"
    }
   },
   "source": [
    "# Problem 2: Outliers - Jackson\n",
    "\n",
    "Consider the two-dimensional data in DF2 in *Lab2 Data.zip*.  \n",
    "<b>Look at a scatter plot of the data.</b>  \n",
    "\n",
    "It contains two points that look like potential outliers.  \n",
    "<b>Which one is “more” outlying?</b>  \n",
    "Propose a transformation of the data that makes it clear that the point at (−1,1) is more outlying than the point at (5.5,5),   \n",
    "even though the latter point is “farther away” from the nearest points.  \n",
    "Plot the data again after performing this transformation.  \n",
    "Provide discussion as appropriate to justify your choice of transformation.  \n",
    "  \n",
    "  \n",
    "<i>Hint: if y comes from a standard Gaussian in two dimensions (i.e., with covariance equal to the two by two identity matrix) and  \n",
    "$Q = \\begin{bmatrix} 2 & 1/2 \\\\ 1/2 & 2\\end{bmatrix}$  \n",
    "What is the covariance matrix of the random variable z = Qy?   \n",
    "If you are given z, how would you create a random Gaussian vector with covariance equal to the identity, using z? </i>"
   ]
  },
  {
   "cell_type": "code",
   "execution_count": 62,
   "metadata": {},
   "outputs": [
    {
     "data": {
      "text/plain": [
       "Text(0, 0.5, 'y')"
      ]
     },
     "execution_count": 62,
     "metadata": {},
     "output_type": "execute_result"
    },
    {
     "data": {
      "image/png": "[encoded data removed]",
      "text/plain": [
       "<Figure size 432x288 with 1 Axes>"
      ]
     },
     "metadata": {
      "needs_background": "light"
     },
     "output_type": "display_data"
    }
   ],
   "source": [
    "#The usual suspects\n",
    "import pandas as pd\n",
    "import numpy as np\n",
    "import matplotlib.pyplot as plt\n",
    "from math import sqrt\n",
    "\n",
    "\n",
    "df2 = pd.read_csv('./Lab2_Data/DF2', index_col = 0, names=['x', 'y'], skiprows=1)\n",
    "plt.scatter(df2['x'], df2['y'])\n",
    "plt.title('Raw Data')\n",
    "plt.xlabel('x')\n",
    "plt.ylabel('y')"
   ]
  },
  {
   "cell_type": "markdown",
   "metadata": {},
   "source": [
    "<center>\n",
    "<h2><u>Using the Hint</u></h2>\n",
    "<i>x and y both vary from ~-4 to 4, by inspection normally.  \n",
    "Given the hint, I assume this to be true, hence transforming the data points to a standard normal distribution without covariance should reveal outliers</i>\n",
    "</center>  \n",
    "\n",
    "$$\\begin{align*}\n",
    "\n",
    "Cov[x] &= E[(x-E[x])(x-E[x])^{T}] \\\\\n",
    "\\\\\n",
    "\n",
    "Cov[z] &= Cov[Qy] \\\\\n",
    " => Cov[Qy] &= E[(Q(y-E[y]))(Q(y-E[y]))^{T}] \\\\\n",
    "&= E[Q(y-E[y])(y-E[y])^tQ^t] \\\\\n",
    "&= QE[(y-E[y])(y-E[y])^t]Q^t \\\\\n",
    "&= Cov[y]Q^t \\\\\n",
    "&= \\begin{bmatrix}2 & 1/2 \\\\ 1/2 & 2\\end{bmatrix} \\begin{bmatrix}2 & 0 \\\\ 0 & 2\\end{bmatrix} \\begin{bmatrix}2 & 1/2 \\\\ 1/2 & 2\\end{bmatrix} \\\\\n",
    "\\\\\n",
    "=> Cov[z] &= \\begin{bmatrix}8.5 & 4 \\\\ 4 & 8.5\\end{bmatrix}\n",
    "\n",
    "\\end{align*}$$\n",
    "\n",
    "<center>\n",
    "<i>Question: How would you create a random Gaussian Vector given z with a variance vector equal to the identity?</i>  \n",
    "Variance of both features needs to be 1, and the Covariance of features with each other should be 0  \n",
    "\n",
    "<b>Proposition: Multiply z by a matrix $A$ such that it cancels out the effects of $Q$</b>\n",
    "</center>  \n",
    "\n",
    "$$\n",
    "\\begin{align*}\n",
    "A*Cov[z]*A^{T} &= A*Q*Cov[y]*Q^{T}*A^{T} \\\\\n",
    "&= (AQ)*Cov[y]*(AQ)^{T} \\\\\n",
    "\\\\  \n",
    "\n",
    "=> AQ &= \\begin{bmatrix}\\frac{1}{\\sqrt{2}} & 0 \\\\ 0 & \\frac{1}{\\sqrt{2}}\\end{bmatrix} \\\\\n",
    "\n",
    "=> (AQ)*Cov[y]*(AQ)^{T} &= \\frac{1}{\\sqrt{2}} * I * Cov[y] * (\\frac{1}{\\sqrt{2}} * I)^{T} \\\\\n",
    "&= \\frac{1}{2} * \\begin{bmatrix}2 & 0 \\\\ 0 & 2\\end{bmatrix} \\\\\n",
    "&= I \\\\\n",
    "\n",
    "\\\\\n",
    "=> A &= \\begin{bmatrix}\\frac{1}{\\sqrt{2}} & 0 \\\\ 0 & \\frac{1}{\\sqrt{2}}\\end{bmatrix} * Q^{-1} \\\\\n",
    "\n",
    "=> Q^{-1} &= \\frac{1}{ad - bc}\\begin{bmatrix}d & -b \\\\ -c & a\\end{bmatrix} \\\\\n",
    "&= \\frac{1}{4-\\frac{1}{4}}\\begin{bmatrix}2 & -\\frac{1}{2} \\\\ -\\frac{1}{2} & 2\\end{bmatrix} \\\\\n",
    "&= \\begin{bmatrix}2 & -\\frac{1}{2} \\\\ -\\frac{1}{2} & 2\\end{bmatrix} \\\\\n",
    "\n",
    "=> A &= \\frac{1}{\\sqrt{2}} * Q^{-1} \\\\\n",
    "&= \\begin{bmatrix}\\frac{4\\sqrt{2}}{15} & -\\frac{\\sqrt{2}}{15} \\\\ -\\frac{\\sqrt{2}}{15} & \\frac{4\\sqrt{2}}{15}\\end{bmatrix} \\\\\n",
    "\\end{align*}\n",
    "$$\n",
    "\n",
    "<center>\n",
    "Finally, Az is a random Gaussian vector with covariance equal to the identity\n",
    "</center>"
   ]
  },
  {
   "cell_type": "code",
   "execution_count": 64,
   "metadata": {},
   "outputs": [
    {
     "data": {
      "image/png": "[encoded data removed]",
      "text/plain": [
       "<Figure size 432x288 with 1 Axes>"
      ]
     },
     "metadata": {
      "needs_background": "light"
     },
     "output_type": "display_data"
    },
    {
     "data": {
      "image/png": "[encoded data removed]",
      "text/plain": [
       "<Figure size 432x288 with 1 Axes>"
      ]
     },
     "metadata": {
      "needs_background": "light"
     },
     "output_type": "display_data"
    }
   ],
   "source": [
    "#Create A\n",
    "c = sqrt(2)/15\n",
    "A = np.matrix([[4*c, -c], [-c, 4*c]])\n",
    "\n",
    "#Apply the transformation\n",
    "df2[['tx', 'ty']] = (df2[['x', 'y']].apply(lambda x: np.matmul(x, A), axis = 1)).to_list()\n",
    "\n",
    "#Plot the transformed data\n",
    "plt.scatter(df2['tx'], df2['ty'], label='Transformed Data Points')\n",
    "plt.plot([-1, 2], [-1, 2], color='orange', label = 'y=x')\n",
    "plt.legend(loc='upper left', frameon=False)\n",
    "plt.title('Transformed Data')\n",
    "plt.xlabel('tx')\n",
    "plt.ylabel('ty')\n",
    "plt.show()\n",
    "\n",
    "#Now we can consider the residual from the line y=x\n",
    "df2['res'] = df2['ty'] - df2['tx']\n",
    "outliers = df2[abs(df2['res']) > 0.4]\n",
    "plt.scatter(df2['tx'], df2['res'], label='Residual')\n",
    "plt.scatter(outliers['tx'], outliers['res'], color='red', label='Outliers') #Mark outliers in red\n",
    "plt.title('Residual Plot')\n",
    "plt.legend(loc='upper right', frameon=False)\n",
    "plt.xlabel('tx')\n",
    "plt.ylabel('ty - tx')\n",
    "plt.show()"
   ]
  },
  {
   "cell_type": "markdown",
   "metadata": {},
   "source": [
    "## Takeaway:\n",
    "Here we can clearly see that the point at (-1, 1) is a much greater outlier than the point at the point at (5.5, 5) when considering more than just the points distance to its nearest neighbor.  \n",
    "When considering the underlying distribution of the points, while (5.5, 5) is somewhat of an outlier, it is still much more in line with other points than (-1, 1)"
   ]
  },
  {
   "cell_type": "markdown",
   "metadata": {
    "pycharm": {
     "name": "#%% md\n"
    }
   },
   "source": [
    "# Problem 3: Popular Names - Jhanvi\n",
    "\n",
    "The goal of this exercise is for you to get more experience with Pandas, and to get a chance to  \n",
    "explore a cool data set. Download the file Names.zip from Canvas. This contains the frequency  \n",
    "of all names that appeared more than 5 times on a social security application from 1880 through 2015.\n",
    "- Write a program that on input k and XXXX, returns the top k names from year XXXX.  \n",
    "- Write a program that on input Name returns the frequency for men and women of the name `Name`.\n",
    "- It could be that names are more diverse now than they were in 1880, so that a name may be relatively the most popular, though its frequency may have been decreasing over the years.  \n",
    "Modify the above to return the relative frequency. Note that in the next coming lectures we will learn how to quantify diversity using entropy.\n",
    "- Find all the names that used to be more popular for one gender, but then became more popular for another gender.\n",
    "- (Optional) Find something cool about this data set."
   ]
  },
  {
   "cell_type": "code",
   "execution_count": null,
   "metadata": {
    "pycharm": {
     "name": "#%%\n",
     "is_executing": true
    }
   },
   "outputs": [],
   "source": [
    "import pandas as pd\n",
    "\n",
    "names = pd.read_csv('Names.zip', compression='zip')"
   ]
  },
  {
   "cell_type": "markdown",
   "metadata": {
    "pycharm": {
     "name": "#%% md\n"
    }
   },
   "source": [
    "# Problem 4: Starting in Kaggle - Josh\n",
    "\n",
    "Later in this class, you will be participating in the in-class Kaggle competition made specifically\n",
    "for this class. In that one, you will be participating on your own. This is a warmup- the more\n",
    "effort and research you put into this assignment the easier it will be to compete into the real Kaggle\n",
    "competition that you will need to do soon.\n",
    "1. Let’s start with our first Kaggle submission in a playground regression competition. Make an\n",
    "account to Kaggle and find\n",
    "https://www.kaggle.com/c/house-prices-advanced-regression-techniques/\n",
    "2. Follow the data preprocessing steps from\n",
    "https://www.kaggle.com/apapiu/house-prices-advanced-regression-techniques/regularized-linear-\n",
    "models. Then run a ridge regression using α = 0.1. Make a submission of this prediction,\n",
    "what is the RMSE you get?\n",
    "(Hint: remember to exponentiate np.expm1(ypred) your predictions).\n",
    "3. Compare a ridge regression and a lasso regression model. Optimize the alphas using cross\n",
    "validation. What is the best score you can get from a single ridge regression model and from\n",
    "a single lasso model?\n",
    "4. Plot the l0 norm (number of nonzeros) of the coefficients that lasso produces as you vary the\n",
    "strength of regularization parameter alpha.\n",
    "5. Add the outputs of your models as features and train a ridge regression on all the features\n",
    "plus the model outputs (This is called Ensembling and Stacking). Be careful not to overfit.\n",
    "What score can you get? (We will be discussing ensembling more, later in the class, but you\n",
    "can start playing with it now).\n",
    "6. Install XGBoost (Gradient Boosting) and train a gradient boosting regression. What score\n",
    "can you get just from a single XGB? (you will need to optimize over its parameters). We will\n",
    "discuss boosting and gradient boosting in more detail later. XGB is a great friend to all good\n",
    "Kagglers!\n",
    "7. Do your best to get the more accurate model. Try feature engineering and stacking many\n",
    "models. You are allowed to use any public tool in python. No non-python tools allowed.\n",
    "8. (Optional) Read the Kaggle forums, tutorials and Kernels in this competition. This is an\n",
    "excellent way to learn. Include in your report if you find something in the forums you like, or\n",
    "if you made your own post or code post, especially if other Kagglers liked or used it afterwards.\n",
    "2\n",
    "9. Be sure to read and learn the rules of Kaggle! No sharing of code or data outside the Kaggle\n",
    "forums. Every student should have their own individual Kaggle account and teams can be\n",
    "formed in the Kaggle submissions with partners. This is more important for live competitions\n",
    "of course.\n",
    "10. As in the real in-class Kaggle competition (which will be next), you will be graded based on\n",
    "your public score (include that in your report) and also on the creativity of your solution.\n",
    "In your report (that you will submit as a pdf file), explain what worked and what did\n",
    "not work. Many creative things will not work, but you will get partial credit for developing\n",
    "them. We will invite teams with interesting solutions to present them in class."
   ]
  },
  {
   "cell_type": "code",
   "execution_count": null,
   "metadata": {
    "pycharm": {
     "name": "#%%\n"
    }
   },
   "outputs": [],
   "source": []
  }
 ],
 "metadata": {
  "kernelspec": {
   "display_name": "Python 3.10.0 64-bit",
   "language": "python",
   "name": "python3"
  },
  "language_info": {
   "codemirror_mode": {
    "name": "ipython",
    "version": 3
   },
   "file_extension": ".py",
   "mimetype": "text/x-python",
   "name": "python",
   "nbconvert_exporter": "python",
   "pygments_lexer": "ipython3",
   "version": "3.10.0"
  },
  "orig_nbformat": 4,
  "vscode": {
   "interpreter": {
    "hash": "b328994b5f3347d233e8e3c9aa119482ce1b63da6676fdb53c0b7e84e61721bf"
   }
  }
 },
 "nbformat": 4,
 "nbformat_minor": 2
}