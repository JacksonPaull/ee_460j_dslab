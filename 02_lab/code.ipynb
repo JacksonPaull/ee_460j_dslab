{
 "cells": [
  {
   "cell_type": "markdown",
   "metadata": {
    "pycharm": {
     "name": "#%% md\n"
    }
   },
   "source": [
    "# Problem 1: Covariance - Josh\n",
    "- When given a data matrix, an easy way to tell if any two columns are correlated is to look at a scatter plot of each column against each other column.  \n",
    "For a warm up, do this:  \n",
    "Look at the data in DF1 in Lab2 Data.zip.  \n",
    "Which columns are (pairwise) correlated?  \n",
    "Figure out how to do this with Pandas, and also how to do this with Seaborn.  \n",
    "\n",
    "- Compute the covariance matrix of the data. Write the explicit expression for what this is,  \n",
    "and then use any command you like (e.g., np.cov) to compute the 4 ×4 matrix.  \n",
    "Explain why the numbers that you get fit with the plots you got.\n",
    "\n",
    "- The above problem in reverse. Generate a zero-mean multivariate Gaussian random variable in 3 dimensions,  \n",
    "Z = (X1,X2,X3) so that (X1,X2) and (X1,X3) are uncorrelated, but (X2,X3) are correlated.  \n",
    "Specifically: choose a covariance matrix that has the above correlations structure, and write this down. Then find a way to generate samples from this Gaussian.  \n",
    "Choose one of the non-zero covariance terms (Cij , if C denotes your covariance matrix) and plot it vs the estimated covariance term, as the number of samples you use scales.  \n",
    "The goal is to get a visual representation of how the empirical covariance converges to the true (or family) covariance."
   ]
  },
  {
   "cell_type": "code",
   "execution_count": null,
   "metadata": {
    "pycharm": {
     "name": "#%%\n"
    }
   },
   "outputs": [],
   "source": []
  },
  {
   "cell_type": "markdown",
   "metadata": {
    "pycharm": {
     "name": "#%% md\n"
    }
   },
   "source": [
    "# Problem 2: Outliers - Jackson\n",
    "\n",
    "Consider the two-dimensional data in DF2 in *Lab2 Data.zip*.  \n",
    "<b>Look at a scatter plot of the data.</b>  \n",
    "\n",
    "It contains two points that look like potential outliers.  \n",
    "<b>Which one is “more” outlying?</b>  \n",
    "Propose a transformation of the data that makes it clear that the point at (−1,1) is more outlying than the point at (5.5,5),   \n",
    "even though the latter point is “farther away” from the nearest points.  \n",
    "Plot the data again after performing this transformation.  \n",
    "Provide discussion as appropriate to justify your choice of transformation.  \n",
    "<i>Hint: if y comes from a standard Gaussian in two dimensions  \n",
    "(i.e., with covariance equal to the two by two identity matrix)</i>\n",
    "\n",
    "$$Q = \\begin{bmatrix} 2 & 1/2 \\\\ 1/2 & 2\\end{bmatrix}$$\n",
    "\n",
    "What is the covariance matrix of the random variable z = Qy? If you are given z, how would you\n",
    "create a random Gaussian vector with covariance equal to the identity, using z?"
   ]
  },
  {
   "cell_type": "code",
   "execution_count": null,
   "metadata": {
    "pycharm": {
     "name": "#%%\n"
    }
   },
   "outputs": [],
   "source": []
  },
  {
   "cell_type": "markdown",
   "metadata": {
    "pycharm": {
     "name": "#%% md\n"
    }
   },
   "source": [
    "# Problem 3: Popular Names - Jhanvi\n",
    "\n",
    "The goal of this exercise is for you to get more experience with Pandas, and to get a chance to  \n",
    "explore a cool data set. Download the file Names.zip from Canvas. This contains the frequency  \n",
    "of all names that appeared more than 5 times on a social security application from 1880 through 2015.\n",
    "- Write a program that on input k and XXXX, returns the top k names from year XXXX.  \n",
    "- Write a program that on input Name returns the frequency for men and women of the name `Name`.\n",
    "- It could be that names are more diverse now than they were in 1880, so that a name may be relatively the most popular, though its frequency may have been decreasing over the years.  \n",
    "Modify the above to return the relative frequency. Note that in the next coming lectures we will learn how to quantify diversity using entropy.\n",
    "- Find all the names that used to be more popular for one gender, but then became more popular for another gender.\n",
    "- (Optional) Find something cool about this data set."
   ]
  },
  {
   "cell_type": "code",
   "execution_count": 194,
   "metadata": {
    "pycharm": {
     "name": "#%%\n"
    }
   },
   "outputs": [
    {
     "name": "stdout",
     "output_type": "stream",
     "text": [
      "The follow names switched popularity between genders\n",
      "Emma\n",
      "Jessie\n",
      "Emily\n",
      "Ollie\n",
      "Augusta\n",
      "Sophia\n"
     ]
    },
    {
     "ename": "KeyboardInterrupt",
     "evalue": "",
     "output_type": "error",
     "traceback": [
      "\u001B[0;31m---------------------------------------------------------------------------\u001B[0m",
      "\u001B[0;31mKeyboardInterrupt\u001B[0m                         Traceback (most recent call last)",
      "Input \u001B[0;32mIn [194]\u001B[0m, in \u001B[0;36m<cell line: 148>\u001B[0;34m()\u001B[0m\n\u001B[1;32m    146\u001B[0m \u001B[38;5;66;03m#print(uni_names)\u001B[39;00m\n\u001B[1;32m    148\u001B[0m \u001B[38;5;28;01mfor\u001B[39;00m unique_name \u001B[38;5;129;01min\u001B[39;00m uni_names:\n\u001B[0;32m--> 149\u001B[0m       freq_df \u001B[38;5;241m=\u001B[39m \u001B[43mrel_frequency\u001B[49m\u001B[43m(\u001B[49m\u001B[43munique_name\u001B[49m\u001B[43m)\u001B[49m\n\u001B[1;32m    150\u001B[0m       freq_df[\u001B[38;5;124m'\u001B[39m\u001B[38;5;124m%\u001B[39m\u001B[38;5;124m Mens\u001B[39m\u001B[38;5;124m'\u001B[39m] \u001B[38;5;241m=\u001B[39m pd\u001B[38;5;241m.\u001B[39mto_numeric(freq_df[\u001B[38;5;124m'\u001B[39m\u001B[38;5;124m%\u001B[39m\u001B[38;5;124m Mens\u001B[39m\u001B[38;5;124m'\u001B[39m])\n\u001B[1;32m    151\u001B[0m       freq_df[\u001B[38;5;124m'\u001B[39m\u001B[38;5;124m%\u001B[39m\u001B[38;5;124m Womens\u001B[39m\u001B[38;5;124m'\u001B[39m] \u001B[38;5;241m=\u001B[39m pd\u001B[38;5;241m.\u001B[39mto_numeric(freq_df[\u001B[38;5;124m'\u001B[39m\u001B[38;5;124m%\u001B[39m\u001B[38;5;124m Womens\u001B[39m\u001B[38;5;124m'\u001B[39m])\n",
      "Input \u001B[0;32mIn [194]\u001B[0m, in \u001B[0;36mrel_frequency\u001B[0;34m(name)\u001B[0m\n\u001B[1;32m     79\u001B[0m df \u001B[38;5;241m=\u001B[39m read_file_to_df(year_file_name, curr_year)\n\u001B[1;32m     81\u001B[0m df_men \u001B[38;5;241m=\u001B[39m df\u001B[38;5;241m.\u001B[39mloc[(df\u001B[38;5;241m.\u001B[39mName \u001B[38;5;241m==\u001B[39m name) \u001B[38;5;241m&\u001B[39m (df\u001B[38;5;241m.\u001B[39mGender \u001B[38;5;241m==\u001B[39m \u001B[38;5;124m'\u001B[39m\u001B[38;5;124mM\u001B[39m\u001B[38;5;124m'\u001B[39m)]\n\u001B[0;32m---> 82\u001B[0m df_women \u001B[38;5;241m=\u001B[39m df\u001B[38;5;241m.\u001B[39mloc[(\u001B[43mdf\u001B[49m\u001B[38;5;241;43m.\u001B[39;49m\u001B[43mName\u001B[49m\u001B[43m \u001B[49m\u001B[38;5;241;43m==\u001B[39;49m\u001B[43m \u001B[49m\u001B[43mname\u001B[49m) \u001B[38;5;241m&\u001B[39m (df\u001B[38;5;241m.\u001B[39mGender \u001B[38;5;241m==\u001B[39m \u001B[38;5;124m'\u001B[39m\u001B[38;5;124mF\u001B[39m\u001B[38;5;124m'\u001B[39m)]\n\u001B[1;32m     83\u001B[0m row \u001B[38;5;241m=\u001B[39m [curr_year, \u001B[38;5;241m0\u001B[39m, \u001B[38;5;241m0\u001B[39m, \u001B[38;5;241m0\u001B[39m, \u001B[38;5;241m0\u001B[39m]\n\u001B[1;32m     85\u001B[0m \u001B[38;5;28;01mif\u001B[39;00m \u001B[38;5;28mlen\u001B[39m(df_men) \u001B[38;5;241m!=\u001B[39m \u001B[38;5;241m0\u001B[39m:\n",
      "File \u001B[0;32m/Library/Python/3.8/site-packages/pandas/core/ops/common.py:70\u001B[0m, in \u001B[0;36m_unpack_zerodim_and_defer.<locals>.new_method\u001B[0;34m(self, other)\u001B[0m\n\u001B[1;32m     66\u001B[0m             \u001B[38;5;28;01mreturn\u001B[39;00m \u001B[38;5;28mNotImplemented\u001B[39m\n\u001B[1;32m     68\u001B[0m other \u001B[38;5;241m=\u001B[39m item_from_zerodim(other)\n\u001B[0;32m---> 70\u001B[0m \u001B[38;5;28;01mreturn\u001B[39;00m \u001B[43mmethod\u001B[49m\u001B[43m(\u001B[49m\u001B[38;5;28;43mself\u001B[39;49m\u001B[43m,\u001B[49m\u001B[43m \u001B[49m\u001B[43mother\u001B[49m\u001B[43m)\u001B[49m\n",
      "File \u001B[0;32m/Library/Python/3.8/site-packages/pandas/core/arraylike.py:40\u001B[0m, in \u001B[0;36mOpsMixin.__eq__\u001B[0;34m(self, other)\u001B[0m\n\u001B[1;32m     38\u001B[0m \u001B[38;5;129m@unpack_zerodim_and_defer\u001B[39m(\u001B[38;5;124m\"\u001B[39m\u001B[38;5;124m__eq__\u001B[39m\u001B[38;5;124m\"\u001B[39m)\n\u001B[1;32m     39\u001B[0m \u001B[38;5;28;01mdef\u001B[39;00m \u001B[38;5;21m__eq__\u001B[39m(\u001B[38;5;28mself\u001B[39m, other):\n\u001B[0;32m---> 40\u001B[0m     \u001B[38;5;28;01mreturn\u001B[39;00m \u001B[38;5;28;43mself\u001B[39;49m\u001B[38;5;241;43m.\u001B[39;49m\u001B[43m_cmp_method\u001B[49m\u001B[43m(\u001B[49m\u001B[43mother\u001B[49m\u001B[43m,\u001B[49m\u001B[43m \u001B[49m\u001B[43moperator\u001B[49m\u001B[38;5;241;43m.\u001B[39;49m\u001B[43meq\u001B[49m\u001B[43m)\u001B[49m\n",
      "File \u001B[0;32m/Library/Python/3.8/site-packages/pandas/core/series.py:5623\u001B[0m, in \u001B[0;36mSeries._cmp_method\u001B[0;34m(self, other, op)\u001B[0m\n\u001B[1;32m   5620\u001B[0m rvalues \u001B[38;5;241m=\u001B[39m extract_array(other, extract_numpy\u001B[38;5;241m=\u001B[39m\u001B[38;5;28;01mTrue\u001B[39;00m, extract_range\u001B[38;5;241m=\u001B[39m\u001B[38;5;28;01mTrue\u001B[39;00m)\n\u001B[1;32m   5622\u001B[0m \u001B[38;5;28;01mwith\u001B[39;00m np\u001B[38;5;241m.\u001B[39merrstate(\u001B[38;5;28mall\u001B[39m\u001B[38;5;241m=\u001B[39m\u001B[38;5;124m\"\u001B[39m\u001B[38;5;124mignore\u001B[39m\u001B[38;5;124m\"\u001B[39m):\n\u001B[0;32m-> 5623\u001B[0m     res_values \u001B[38;5;241m=\u001B[39m \u001B[43mops\u001B[49m\u001B[38;5;241;43m.\u001B[39;49m\u001B[43mcomparison_op\u001B[49m\u001B[43m(\u001B[49m\u001B[43mlvalues\u001B[49m\u001B[43m,\u001B[49m\u001B[43m \u001B[49m\u001B[43mrvalues\u001B[49m\u001B[43m,\u001B[49m\u001B[43m \u001B[49m\u001B[43mop\u001B[49m\u001B[43m)\u001B[49m\n\u001B[1;32m   5625\u001B[0m \u001B[38;5;28;01mreturn\u001B[39;00m \u001B[38;5;28mself\u001B[39m\u001B[38;5;241m.\u001B[39m_construct_result(res_values, name\u001B[38;5;241m=\u001B[39mres_name)\n",
      "File \u001B[0;32m/Library/Python/3.8/site-packages/pandas/core/ops/array_ops.py:283\u001B[0m, in \u001B[0;36mcomparison_op\u001B[0;34m(left, right, op)\u001B[0m\n\u001B[1;32m    280\u001B[0m     \u001B[38;5;28;01mreturn\u001B[39;00m invalid_comparison(lvalues, rvalues, op)\n\u001B[1;32m    282\u001B[0m \u001B[38;5;28;01melif\u001B[39;00m is_object_dtype(lvalues\u001B[38;5;241m.\u001B[39mdtype) \u001B[38;5;129;01mor\u001B[39;00m \u001B[38;5;28misinstance\u001B[39m(rvalues, \u001B[38;5;28mstr\u001B[39m):\n\u001B[0;32m--> 283\u001B[0m     res_values \u001B[38;5;241m=\u001B[39m \u001B[43mcomp_method_OBJECT_ARRAY\u001B[49m\u001B[43m(\u001B[49m\u001B[43mop\u001B[49m\u001B[43m,\u001B[49m\u001B[43m \u001B[49m\u001B[43mlvalues\u001B[49m\u001B[43m,\u001B[49m\u001B[43m \u001B[49m\u001B[43mrvalues\u001B[49m\u001B[43m)\u001B[49m\n\u001B[1;32m    285\u001B[0m \u001B[38;5;28;01melse\u001B[39;00m:\n\u001B[1;32m    286\u001B[0m     res_values \u001B[38;5;241m=\u001B[39m _na_arithmetic_op(lvalues, rvalues, op, is_cmp\u001B[38;5;241m=\u001B[39m\u001B[38;5;28;01mTrue\u001B[39;00m)\n",
      "File \u001B[0;32m/Library/Python/3.8/site-packages/pandas/core/ops/array_ops.py:73\u001B[0m, in \u001B[0;36mcomp_method_OBJECT_ARRAY\u001B[0;34m(op, x, y)\u001B[0m\n\u001B[1;32m     71\u001B[0m     result \u001B[38;5;241m=\u001B[39m libops\u001B[38;5;241m.\u001B[39mvec_compare(x\u001B[38;5;241m.\u001B[39mravel(), y\u001B[38;5;241m.\u001B[39mravel(), op)\n\u001B[1;32m     72\u001B[0m \u001B[38;5;28;01melse\u001B[39;00m:\n\u001B[0;32m---> 73\u001B[0m     result \u001B[38;5;241m=\u001B[39m \u001B[43mlibops\u001B[49m\u001B[38;5;241;43m.\u001B[39;49m\u001B[43mscalar_compare\u001B[49m\u001B[43m(\u001B[49m\u001B[43mx\u001B[49m\u001B[38;5;241;43m.\u001B[39;49m\u001B[43mravel\u001B[49m\u001B[43m(\u001B[49m\u001B[43m)\u001B[49m\u001B[43m,\u001B[49m\u001B[43m \u001B[49m\u001B[43my\u001B[49m\u001B[43m,\u001B[49m\u001B[43m \u001B[49m\u001B[43mop\u001B[49m\u001B[43m)\u001B[49m\n\u001B[1;32m     74\u001B[0m \u001B[38;5;28;01mreturn\u001B[39;00m result\u001B[38;5;241m.\u001B[39mreshape(x\u001B[38;5;241m.\u001B[39mshape)\n",
      "\u001B[0;31mKeyboardInterrupt\u001B[0m: "
     ]
    }
   ],
   "source": [
    "import pandas as pd\n",
    "from zipfile import ZipFile\n",
    "import decimal as d\n",
    "import seaborn as sns\n",
    "import csv\n",
    "\n",
    "# Globals\n",
    "file_name = 'Names.zip'\n",
    "column_names = ['Name', 'Gender', 'Count']\n",
    "sns.set(style=\"ticks\",\n",
    "        rc={\n",
    "            \"figure.figsize\": [12, 7],\n",
    "            \"text.color\": \"black\",\n",
    "            \"axes.labelcolor\": \"black\",\n",
    "            \"axes.edgecolor\": \"black\",\n",
    "            \"xtick.color\": \"black\",\n",
    "            \"ytick.color\": \"black\",\n",
    "            \"axes.facecolor\": \"#DAF7A6\",\n",
    "            \"figure.facecolor\": \"#DAF7A6\"}\n",
    "        )\n",
    "\n",
    "# Functions\n",
    "def read_file_to_df(name, year):\n",
    "      with ZipFile(file_name, 'r') as zipped:\n",
    "           file = zipped.open(name)\n",
    "           df = pd.read_csv(file, sep=\",\")\n",
    "           df.columns = column_names\n",
    "           df.insert(0, 'Year', year)\n",
    "           return df\n",
    "\n",
    "def top_names_from_year(top, year):\n",
    "      year_file_name = 'Names/yob' + str(year) + '.txt'\n",
    "      df = read_file_to_df(year_file_name, year)\n",
    "      df.sort_values('Count')\n",
    "      return df.loc[:(top-1), ('Name', 'Gender', 'Count')]\n",
    "\n",
    "def name_frequency(name):\n",
    "      curr_year = 1880\n",
    "      freq_sum_men = 0\n",
    "      freq_sum_women = 0\n",
    "      rel_freq_men = 0\n",
    "      rel_freq_women = 0\n",
    "      total = 0\n",
    "\n",
    "      while curr_year != 2016:\n",
    "            year_file_name = 'Names/yob' + str(curr_year) + '.txt'\n",
    "            df = read_file_to_df(year_file_name, curr_year)\n",
    "\n",
    "            df_men = df.loc[(df.Name == name) & (df.Gender == 'M')]\n",
    "            df_women = df.loc[(df.Name == name) & (df.Gender == 'F')]\n",
    "\n",
    "            if len(df_men) != 0:\n",
    "                  freq_sum_men += df_men.Count.iloc[0]\n",
    "            if len(df_women) != 0:\n",
    "                  freq_sum_women += df_women.Count.iloc[0]\n",
    "            curr_year += 1\n",
    "\n",
    "      total = freq_sum_men + freq_sum_women\n",
    "\n",
    "      if total != 0:\n",
    "            rel_freq_men = (freq_sum_men / total) * 100\n",
    "            rel_freq_men = d.Decimal(rel_freq_men).quantize(d.Decimal('.1'), rounding=d.ROUND_DOWN)\n",
    "            rel_freq_women = (freq_sum_women / total) * 100\n",
    "            rel_freq_women = d.Decimal(rel_freq_women).quantize(d.Decimal('.1'), rounding=d.ROUND_DOWN)\n",
    "\n",
    "      print(name + \" from 1880 to 2015\")\n",
    "      ret_df = pd.DataFrame({'Count': [freq_sum_men, freq_sum_women], 'Relative Frequency': [rel_freq_men, rel_freq_women]}, index=['Men', 'Women'])\n",
    "      return ret_df\n",
    "\n",
    "def rel_frequency(name):\n",
    "      curr_year = 1880\n",
    "      rows = []\n",
    "      men_perc = 0\n",
    "      women_perc = 0\n",
    "\n",
    "      while curr_year != 2016:\n",
    "            total = 0\n",
    "            year_file_name = 'Names/yob' + str(curr_year) + '.txt'\n",
    "            df = read_file_to_df(year_file_name, curr_year)\n",
    "\n",
    "            df_men = df.loc[(df.Name == name) & (df.Gender == 'M')]\n",
    "            df_women = df.loc[(df.Name == name) & (df.Gender == 'F')]\n",
    "            row = [curr_year, 0, 0, 0, 0]\n",
    "\n",
    "            if len(df_men) != 0:\n",
    "                  row[1] = df_men.Count.iloc[0]\n",
    "                  total += row[1]\n",
    "\n",
    "            if len(df_women) != 0:\n",
    "                  row[2] = df_women.Count.iloc[0]\n",
    "                  total += row[2]\n",
    "\n",
    "            if total != 0:\n",
    "                men_perc = (row[1] / total) * 100\n",
    "                women_perc = (row[2] / total) * 100\n",
    "\n",
    "            row[3] = d.Decimal(men_perc).quantize(d.Decimal('.1'), rounding=d.ROUND_DOWN)\n",
    "            row[4] = d.Decimal(women_perc).quantize(d.Decimal('.1'), rounding=d.ROUND_DOWN)\n",
    "\n",
    "            rows.append(row)\n",
    "            curr_year += 1\n",
    "\n",
    "      ret_df = pd.DataFrame(rows, columns=['Year', 'Men', 'Women', '% Mens', '% Womens'])\n",
    "      # ret_df = ret_df.set_index('Year')\n",
    "      return ret_df\n",
    "\n",
    "def open_all_in_one_df():\n",
    "      curr_year = 1880\n",
    "      ret_df = []\n",
    "\n",
    "      while curr_year != 2016:\n",
    "            year_file_name = 'Names/yob' + str(curr_year) + '.txt'\n",
    "            temp_df = read_file_to_df(year_file_name, curr_year)\n",
    "            ret_df.append(temp_df)\n",
    "            curr_year += 1\n",
    "\n",
    "      big_df = pd.concat(ret_df)\n",
    "      return big_df\n",
    "\n",
    "# Parts\n",
    "# Question 1: Top k names in year XXXX\n",
    "k, year = input(\"Find the top k names in the year XXXX - k year.\").split()\n",
    "top_names_from_year(int(k), int(year))\n",
    "\n",
    "# Question 2: Most frequent M & F of Name\n",
    "name_in = input(\"Find frequency of name among men and women - name\")\n",
    "name_frequency(name_in)\n",
    "\n",
    "# Question 3: Relative frequency of a name\n",
    "name_in_rel = input(\"Find the relative frequency of a name among men and women - name\")\n",
    "df = rel_frequency(name_in_rel)\n",
    "df = df.astype(float)\n",
    "print(name_in_rel + \" from 1880 to 2015\")\n",
    "display(df)\n",
    "line_rel = df.plot(x='Year', y=['Men', 'Women'], kind='line', title='Count')\n",
    "display(line_rel)\n",
    "line_count = df.plot(x='Year', y=['% Mens', '% Womens'], kind='line', title='Relative Frequency')\n",
    "display(line_count)\n",
    "\n",
    "# Question 4: Name popularity shifts from one gender to the other\n",
    "print('The follow names switched popularity between genders')\n",
    "gender_switched = []\n",
    "col = 'Name'\n",
    "all_names = open_all_in_one_df()\n",
    "uni_names = pd.concat([all_names[col]]).unique()\n",
    "#print(uni_names)\n",
    "\n",
    "for unique_name in uni_names:\n",
    "      freq_df = rel_frequency(unique_name)\n",
    "      freq_df['% Mens'] = pd.to_numeric(freq_df['% Mens'])\n",
    "      freq_df['% Womens'] = pd.to_numeric(freq_df['% Womens'])\n",
    "      max_men_relfreq = freq_df.loc[freq_df['% Mens'].idxmax()] # find max value in col\n",
    "      max_men_relfreq = max_men_relfreq['% Mens']\n",
    "\n",
    "      if max_men_relfreq > 50:\n",
    "            max_women_relfreq = freq_df.loc[freq_df['% Womens'].idxmax()] # find max value in column\n",
    "            max_women_relfreq = max_women_relfreq['% Womens']\n",
    "            if max_women_relfreq > 50:\n",
    "                  gender_switched.append(unique_name)\n",
    "                  print(unique_name)"
   ]
  },
  {
   "cell_type": "markdown",
   "metadata": {
    "pycharm": {
     "name": "#%% md\n"
    }
   },
   "source": [
    "# Problem 4: Starting in Kaggle - Josh\n",
    "\n",
    "Later in this class, you will be participating in the in-class Kaggle competition made specifically\n",
    "for this class. In that one, you will be participating on your own. This is a warmup- the more\n",
    "effort and research you put into this assignment the easier it will be to compete into the real Kaggle\n",
    "competition that you will need to do soon.\n",
    "1. Let’s start with our first Kaggle submission in a playground regression competition. Make an\n",
    "account to Kaggle and find\n",
    "https://www.kaggle.com/c/house-prices-advanced-regression-techniques/\n",
    "2. Follow the data preprocessing steps from\n",
    "https://www.kaggle.com/apapiu/house-prices-advanced-regression-techniques/regularized-linear-\n",
    "models. Then run a ridge regression using α = 0.1. Make a submission of this prediction,\n",
    "what is the RMSE you get?\n",
    "(Hint: remember to exponentiate np.expm1(ypred) your predictions).\n",
    "3. Compare a ridge regression and a lasso regression model. Optimize the alphas using cross\n",
    "validation. What is the best score you can get from a single ridge regression model and from\n",
    "a single lasso model?\n",
    "4. Plot the l0 norm (number of nonzeros) of the coefficients that lasso produces as you vary the\n",
    "strength of regularization parameter alpha.\n",
    "5. Add the outputs of your models as features and train a ridge regression on all the features\n",
    "plus the model outputs (This is called Ensembling and Stacking). Be careful not to overfit.\n",
    "What score can you get? (We will be discussing ensembling more, later in the class, but you\n",
    "can start playing with it now).\n",
    "6. Install XGBoost (Gradient Boosting) and train a gradient boosting regression. What score\n",
    "can you get just from a single XGB? (you will need to optimize over its parameters). We will\n",
    "discuss boosting and gradient boosting in more detail later. XGB is a great friend to all good\n",
    "Kagglers!\n",
    "7. Do your best to get the more accurate model. Try feature engineering and stacking many\n",
    "models. You are allowed to use any public tool in python. No non-python tools allowed.\n",
    "8. (Optional) Read the Kaggle forums, tutorials and Kernels in this competition. This is an\n",
    "excellent way to learn. Include in your report if you find something in the forums you like, or\n",
    "if you made your own post or code post, especially if other Kagglers liked or used it afterwards.\n",
    "2\n",
    "9. Be sure to read and learn the rules of Kaggle! No sharing of code or data outside the Kaggle\n",
    "forums. Every student should have their own individual Kaggle account and teams can be\n",
    "formed in the Kaggle submissions with partners. This is more important for live competitions\n",
    "of course.\n",
    "10. As in the real in-class Kaggle competition (which will be next), you will be graded based on\n",
    "your public score (include that in your report) and also on the creativity of your solution.\n",
    "In your report (that you will submit as a pdf file), explain what worked and what did\n",
    "not work. Many creative things will not work, but you will get partial credit for developing\n",
    "them. We will invite teams with interesting solutions to present them in class."
   ]
  },
  {
   "cell_type": "code",
   "execution_count": null,
   "metadata": {
    "pycharm": {
     "name": "#%%\n"
    }
   },
   "outputs": [],
   "source": []
  }
 ],
 "metadata": {
  "kernelspec": {
   "display_name": "Python 3 (ipykernel)",
   "language": "python",
   "name": "python3"
  },
  "language_info": {
   "codemirror_mode": {
    "name": "ipython",
    "version": 3
   },
   "file_extension": ".py",
   "mimetype": "text/x-python",
   "name": "python",
   "nbconvert_exporter": "python",
   "pygments_lexer": "ipython3",
   "version": "3.8.9"
  }
 },
 "nbformat": 4,
 "nbformat_minor": 2
}