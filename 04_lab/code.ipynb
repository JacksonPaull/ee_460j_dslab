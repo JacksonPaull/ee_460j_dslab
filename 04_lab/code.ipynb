{
 "cells": [
  {
   "cell_type": "markdown",
   "metadata": {},
   "source": [
    "# Problem 0 - Jhanvi\n",
    "\n",
    "As we have covered in class, we are training a logistic regression model to predict if\n",
    "someone will click on an advertisement. Consider the logistic regression model with 3 features and\n",
    "weights w = [1, −30, 3]. For the dataset with features x1=[20,0,0], y1=1 and x2=[23,1,1], y2=0,\n",
    "•Compute the probabilities that the logistic regression assigns to these two customers clicking\n",
    "on the advertisement (i.e. y=1)\n",
    "•Compute the cross entropy loss of this logistic regression.\n",
    "•Design a decision stump (a decision tree of depth 1) that splits on the first feature. What is\n",
    "the Gini impurity of the root? What is the Gini impurity after the best split that you find?"
   ]
  },
  {
   "cell_type": "code",
   "execution_count": null,
   "metadata": {},
   "outputs": [],
   "source": []
  },
  {
   "cell_type": "markdown",
   "metadata": {},
   "source": [
    "# Problem 1: Logistic Regression and CIFAR-10. - Jhanvi\n",
    "In this problem you will explore the dataset\n",
    "CIFAR-10, and you will use multinomial (multi-label) Logistic Regression to try to classify it. You\n",
    "will also explore visualizing the solution.\n",
    "\n",
    "(Optional) You can read about the CIFAR-10 and CIFAR-100 datasets here: https://www.\n",
    "cs.toronto.edu/~kriz/cifar.html.\n",
    "•(Optional) OpenML curates a number of data sets. You will use a subset of CIFAR-10\n",
    "provided by them. Read here for a description: https://www.openml.org/d/40926.\n",
    "•Use the fetch openml command from sklearn.datasets to import the CIFAR-10-Small\n",
    "data set.\n",
    "•Figure out how to display some of the images in this data set, and display a couple. While\n",
    "not high resolution, these should be recognizable if you are doing it correctly.\n",
    "•There are 20,000 data points. Do a train-test split on 3/4 - 1/4.\n",
    "•You will run multi-class logistic regression on these using the cross entropy loss. You have to\n",
    "specify this specifically (multi class=’multinomial’). Use cross validation to see how good\n",
    "your accuracy can be. In this case, cross validate to find as good regularization coefficients\n",
    "as you can, for ℓ1 and ℓ2 regularization (called penalties), which are naturally supported in\n",
    "sklearn.linear model.LogisticRegression. I recommend you use the solver saga.\n",
    "•Report your training and test loss from above,\n",
    "•How sparse can you make your solutions without deteriorating your testing error too much?\n",
    "Here, we ask for a sparse solution that has test accuracy that is close to the best solution you\n",
    "found."
   ]
  },
  {
   "cell_type": "code",
   "execution_count": null,
   "metadata": {},
   "outputs": [],
   "source": []
  },
  {
   "cell_type": "markdown",
   "metadata": {},
   "source": [
    "# Problem 2: Multi-class Logistic Regression – Visualizing the Solution.  - Josh\n",
    "You will repeat\n",
    "the previous problem but for the MNIST dataset which you will find here: https://www.openml.\n",
    "org/d/554. MNIST is a dataset of handwritten digits, and is considered one of the easiest image\n",
    "recognition problems in computer vision. We will see here how well logistic regression does, as you\n",
    "did above on the CIFAR-10 subset. In addition, we will see that we can visualize the solution, and\n",
    "that in connection to this, sparsity can be useful.\n",
    "•Use the fetch openml command from sklearn.datasets to import the MNIST data set,\n",
    "•Choose a reasonable train-test split, and again run multi-class logistic regression on these\n",
    "using the cross entropy loss, as you did above. Try to optimize the hyperparameters.\n",
    "•Report your training and test loss from above,\n",
    "•Choose an ℓ1 regularizer (penalty), and see if you can get a sparse solution with almost as\n",
    "good accuracy.\n",
    "•Note that in Logistic Regression, the coefficients returned (i.e., the β’s) are the same dimen-\n",
    "sion as the data. Therefore we can pretend that the coefficients of the solution are an image\n",
    "of the same dimension, and plot it. Do this for the 10 sets of coefficients that correspond to\n",
    "the 10 classes. You should observe that, at least for the sparse solutions, these “kind of” look\n",
    "like the digits they are classifying."
   ]
  },
  {
   "cell_type": "code",
   "execution_count": 1,
   "metadata": {},
   "outputs": [],
   "source": [
    "from sklearn import preprocessing\n",
    "from sklearn.datasets import fetch_openml \n",
    "from sklearn.model_selection import train_test_split\n",
    "from sklearn.linear_model import LogisticRegression\n",
    "import numpy as np\n",
    "import matplotlib.pyplot as plt\n",
    "import pandas as pd\n",
    "import seaborn as sns\n",
    "from sklearn.model_selection import GridSearchCV"
   ]
  },
  {
   "cell_type": "code",
   "execution_count": 2,
   "metadata": {},
   "outputs": [],
   "source": [
    "mnist = fetch_openml('mnist_784')"
   ]
  },
  {
   "cell_type": "code",
   "execution_count": 3,
   "metadata": {},
   "outputs": [
    {
     "name": "stdout",
     "output_type": "stream",
     "text": [
      "dict_keys(['data', 'target', 'frame', 'categories', 'feature_names', 'target_names', 'DESCR', 'details', 'url'])\n"
     ]
    }
   ],
   "source": [
    "print(mnist.keys())\n",
    "X, y = mnist['data'], mnist['target']"
   ]
  },
  {
   "cell_type": "code",
   "execution_count": 5,
   "metadata": {},
   "outputs": [
    {
     "data": {
      "text/plain": [
       "<matplotlib.image.AxesImage at 0x2269fa54a00>"
      ]
     },
     "execution_count": 5,
     "metadata": {},
     "output_type": "execute_result"
    },
    {
     "data": {
      "image/png": "[encoded data removed]",
      "text/plain": [
       "<Figure size 432x288 with 1 Axes>"
      ]
     },
     "metadata": {
      "needs_background": "light"
     },
     "output_type": "display_data"
    }
   ],
   "source": [
    "digit = X.iloc[0]\n",
    "digit_pixels = np.array(digit).reshape(28,28)\n",
    "plt.imshow(digit_pixels)"
   ]
  },
  {
   "cell_type": "code",
   "execution_count": 4,
   "metadata": {},
   "outputs": [],
   "source": [
    "X_train, X_valid, Y_train, Y_valid = train_test_split(X, y, train_size = 0.8, test_size = 0.2, random_state=0)"
   ]
  },
  {
   "cell_type": "markdown",
   "metadata": {},
   "source": [
    "80:20 Train test split"
   ]
  },
  {
   "cell_type": "code",
   "execution_count": 9,
   "metadata": {},
   "outputs": [],
   "source": [
    "param_grid = [    \n",
    "    {'penalty' : ['l1', 'l2', 'elasticnet', 'none'],\n",
    "    'C' : np.logspace(-4, 4, 20),\n",
    "    'solver' : ['lbfgs','newton-cg','liblinear','sag','saga'],\n",
    "    'max_iter' : [100, 1000,2500, 5000]\n",
    "    }\n",
    "]"
   ]
  },
  {
   "cell_type": "code",
   "execution_count": 18,
   "metadata": {},
   "outputs": [
    {
     "name": "stderr",
     "output_type": "stream",
     "text": [
      "c:\\Users\\Joshd\\AppData\\Local\\Programs\\Python\\Python310\\lib\\site-packages\\sklearn\\linear_model\\_logistic.py:1113: UserWarning: Setting penalty='none' will ignore the C and l1_ratio parameters\n",
      "  warnings.warn(\n"
     ]
    },
    {
     "name": "stdout",
     "output_type": "stream",
     "text": [
      "0.9172142857142858\n"
     ]
    }
   ],
   "source": [
    "best_model_LR = LogisticRegression(max_iter = 100, multi_class='multinomial', solver='saga', tol = 0.1, penalty=\"none\")\n",
    "#best_model_LR = GridSearchCV(model_LR, param_grid=param_grid, cv=4, verbose=True, n_jobs=-1)\n",
    "best_model_LR.fit(X_train, Y_train)\n",
    "#best_model_LR.best_estimator_\n",
    "score = best_model_LR.score(X_valid, Y_valid)\n",
    "print(score)"
   ]
  },
  {
   "cell_type": "markdown",
   "metadata": {},
   "source": [
    "We get a score of 0.917 with multi class logistic regression"
   ]
  },
  {
   "cell_type": "code",
   "execution_count": 15,
   "metadata": {},
   "outputs": [
    {
     "name": "stdout",
     "output_type": "stream",
     "text": [
      "0.9163571428571429\n"
     ]
    }
   ],
   "source": [
    "model_LR_L1 = LogisticRegression(max_iter = 100, multi_class='multinomial', solver='saga', tol = 0.1, penalty=\"l1\")\n",
    "model_LR_L1.fit(X_train, Y_train)\n",
    "score_L1 = model_LR_L1.score(X_valid, Y_valid)\n",
    "print(score_L1)"
   ]
  },
  {
   "cell_type": "markdown",
   "metadata": {},
   "source": [
    "We get a score of 0.916 using L1 regularizer"
   ]
  },
  {
   "cell_type": "code",
   "execution_count": 36,
   "metadata": {},
   "outputs": [
    {
     "data": {
      "image/png": "[encoded data removed]",
      "text/plain": [
       "<Figure size 720x720 with 10 Axes>"
      ]
     },
     "metadata": {
      "needs_background": "light"
     },
     "output_type": "display_data"
    }
   ],
   "source": [
    "from matplotlib.pyplot import gray\n",
    "wmatrix = model_LR.coef_\n",
    "fig, axes = plt.subplots(nrows=2, ncols=5, figsize=(10,10))\n",
    "a = 0\n",
    "for i,ax in enumerate(axes.flat, start=1):\n",
    "    ax.imshow(wmatrix[a].reshape(28,28),cmap=plt.cm.RdBu)\n",
    "    a=a+1\n",
    "fig.tight_layout()\n",
    "plt.show()"
   ]
  },
  {
   "cell_type": "markdown",
   "metadata": {},
   "source": [
    "# Problem 3: Revisiting Logistic Regression and MNIST. - Josh\n",
    "Here we throw the kitchen sink of classical ML (i.e. pre-deep learning) on MNIST.\n",
    "•Use Random Forests to try to get the best possible test accuracy on MNIST. Use Cross\n",
    "Validation to find the best settings. How well can you do? You should use the accuracy\n",
    "metric to compare to logistic regression. What are the hyperparameters of your best model?\n",
    "•Use Gradient Boosting to do the same. Try your best to tune your hyper parameters. What\n",
    "are the hyperparameters of your best model?"
   ]
  },
  {
   "cell_type": "code",
   "execution_count": 19,
   "metadata": {},
   "outputs": [],
   "source": [
    "from sklearn.ensemble import RandomForestClassifier\n",
    "from sklearn.model_selection import cross_val_score\n",
    "import xgboost as xgb\n",
    "from xgboost import XGBClassifier\n",
    "from sklearn.preprocessing import LabelEncoder"
   ]
  },
  {
   "cell_type": "code",
   "execution_count": 24,
   "metadata": {},
   "outputs": [
    {
     "name": "stdout",
     "output_type": "stream",
     "text": [
      "[0.966      0.965      0.96607143 0.96542857]\n",
      "0.965625\n"
     ]
    }
   ],
   "source": [
    "model_RF = RandomForestClassifier(n_estimators = 100, bootstrap=True, n_jobs=4, criterion = 'entropy')\n",
    "model_RF.fit(X_train,Y_train)\n",
    "CV_score = cross_val_score(model_RF, X_train, Y_train, cv=4, scoring='accuracy')\n",
    "print(CV_score)\n",
    "print(CV_score.mean())"
   ]
  },
  {
   "cell_type": "markdown",
   "metadata": {},
   "source": [
    "Best Parameters for RF: n_estimators = 100, bootstrap=True, n_jobs=4, criterion = 'entropy'"
   ]
  },
  {
   "cell_type": "code",
   "execution_count": null,
   "metadata": {},
   "outputs": [
    {
     "name": "stderr",
     "output_type": "stream",
     "text": [
      "c:\\Users\\Joshd\\AppData\\Local\\Programs\\Python\\Python310\\lib\\site-packages\\xgboost\\sklearn.py:793: UserWarning: `early_stopping_rounds` in `fit` method is deprecated for better compatibility with scikit-learn, use `early_stopping_rounds` in constructor or`set_params` instead.\n",
      "  warnings.warn(\n"
     ]
    },
    {
     "name": "stdout",
     "output_type": "stream",
     "text": [
      "[0]\tvalidation_0-mlogloss:2.13295\n",
      "[1]\tvalidation_0-mlogloss:1.99282\n",
      "[2]\tvalidation_0-mlogloss:1.87307\n",
      "[3]\tvalidation_0-mlogloss:1.76655\n",
      "[4]\tvalidation_0-mlogloss:1.67228\n",
      "[5]\tvalidation_0-mlogloss:1.58868\n",
      "[6]\tvalidation_0-mlogloss:1.51343\n",
      "[7]\tvalidation_0-mlogloss:1.44414\n",
      "[8]\tvalidation_0-mlogloss:1.38087\n",
      "[9]\tvalidation_0-mlogloss:1.32150\n",
      "[10]\tvalidation_0-mlogloss:1.26724\n",
      "[11]\tvalidation_0-mlogloss:1.21662\n",
      "[12]\tvalidation_0-mlogloss:1.16966\n",
      "[13]\tvalidation_0-mlogloss:1.12520\n",
      "[14]\tvalidation_0-mlogloss:1.08349\n",
      "[15]\tvalidation_0-mlogloss:1.04408\n",
      "[16]\tvalidation_0-mlogloss:1.00719\n",
      "[17]\tvalidation_0-mlogloss:0.97239\n",
      "[18]\tvalidation_0-mlogloss:0.93994\n",
      "[19]\tvalidation_0-mlogloss:0.90905\n",
      "[20]\tvalidation_0-mlogloss:0.87938\n",
      "[21]\tvalidation_0-mlogloss:0.85090\n",
      "[22]\tvalidation_0-mlogloss:0.82375\n",
      "[23]\tvalidation_0-mlogloss:0.79821\n",
      "[24]\tvalidation_0-mlogloss:0.77400\n",
      "[25]\tvalidation_0-mlogloss:0.75029\n",
      "[26]\tvalidation_0-mlogloss:0.72824\n",
      "[27]\tvalidation_0-mlogloss:0.70689\n",
      "[28]\tvalidation_0-mlogloss:0.68661\n",
      "[29]\tvalidation_0-mlogloss:0.66689\n",
      "[30]\tvalidation_0-mlogloss:0.64833\n",
      "[31]\tvalidation_0-mlogloss:0.63082\n",
      "[32]\tvalidation_0-mlogloss:0.61336\n",
      "[33]\tvalidation_0-mlogloss:0.59715\n",
      "[34]\tvalidation_0-mlogloss:0.58149\n",
      "[35]\tvalidation_0-mlogloss:0.56620\n",
      "[36]\tvalidation_0-mlogloss:0.55220\n",
      "[37]\tvalidation_0-mlogloss:0.53802\n",
      "[38]\tvalidation_0-mlogloss:0.52458\n",
      "[39]\tvalidation_0-mlogloss:0.51176\n",
      "[40]\tvalidation_0-mlogloss:0.49970\n",
      "[41]\tvalidation_0-mlogloss:0.48794\n",
      "[42]\tvalidation_0-mlogloss:0.47655\n",
      "[43]\tvalidation_0-mlogloss:0.46566\n",
      "[44]\tvalidation_0-mlogloss:0.45518\n",
      "[45]\tvalidation_0-mlogloss:0.44502\n",
      "[46]\tvalidation_0-mlogloss:0.43531\n",
      "[47]\tvalidation_0-mlogloss:0.42591\n",
      "[48]\tvalidation_0-mlogloss:0.41691\n",
      "[49]\tvalidation_0-mlogloss:0.40804\n",
      "[50]\tvalidation_0-mlogloss:0.39977\n",
      "[51]\tvalidation_0-mlogloss:0.39168\n",
      "[52]\tvalidation_0-mlogloss:0.38404\n",
      "[53]\tvalidation_0-mlogloss:0.37645\n",
      "[54]\tvalidation_0-mlogloss:0.36923\n",
      "[55]\tvalidation_0-mlogloss:0.36197\n",
      "[56]\tvalidation_0-mlogloss:0.35503\n",
      "[57]\tvalidation_0-mlogloss:0.34861\n",
      "[58]\tvalidation_0-mlogloss:0.34225\n",
      "[59]\tvalidation_0-mlogloss:0.33620\n",
      "[60]\tvalidation_0-mlogloss:0.33030\n",
      "[61]\tvalidation_0-mlogloss:0.32443\n",
      "[62]\tvalidation_0-mlogloss:0.31886\n",
      "[63]\tvalidation_0-mlogloss:0.31342\n",
      "[64]\tvalidation_0-mlogloss:0.30842\n",
      "[65]\tvalidation_0-mlogloss:0.30335\n",
      "[66]\tvalidation_0-mlogloss:0.29865\n",
      "[67]\tvalidation_0-mlogloss:0.29396\n",
      "[68]\tvalidation_0-mlogloss:0.28932\n",
      "[69]\tvalidation_0-mlogloss:0.28512\n",
      "[70]\tvalidation_0-mlogloss:0.28109\n",
      "[71]\tvalidation_0-mlogloss:0.27720\n",
      "[72]\tvalidation_0-mlogloss:0.27339\n",
      "[73]\tvalidation_0-mlogloss:0.26955\n",
      "[74]\tvalidation_0-mlogloss:0.26594\n",
      "[75]\tvalidation_0-mlogloss:0.26235\n",
      "[76]\tvalidation_0-mlogloss:0.25901\n",
      "[77]\tvalidation_0-mlogloss:0.25578\n",
      "[78]\tvalidation_0-mlogloss:0.25271\n",
      "[79]\tvalidation_0-mlogloss:0.24957\n",
      "[80]\tvalidation_0-mlogloss:0.24655\n",
      "[81]\tvalidation_0-mlogloss:0.24363\n",
      "[82]\tvalidation_0-mlogloss:0.24069\n",
      "[83]\tvalidation_0-mlogloss:0.23794\n",
      "[84]\tvalidation_0-mlogloss:0.23506\n",
      "[85]\tvalidation_0-mlogloss:0.23239\n",
      "[86]\tvalidation_0-mlogloss:0.22963\n",
      "[87]\tvalidation_0-mlogloss:0.22725\n",
      "[88]\tvalidation_0-mlogloss:0.22485\n",
      "[89]\tvalidation_0-mlogloss:0.22240\n",
      "[90]\tvalidation_0-mlogloss:0.22003\n",
      "[91]\tvalidation_0-mlogloss:0.21788\n",
      "[92]\tvalidation_0-mlogloss:0.21562\n",
      "[93]\tvalidation_0-mlogloss:0.21336\n",
      "[94]\tvalidation_0-mlogloss:0.21130\n",
      "[95]\tvalidation_0-mlogloss:0.20918\n",
      "[96]\tvalidation_0-mlogloss:0.20719\n",
      "[97]\tvalidation_0-mlogloss:0.20534\n",
      "[98]\tvalidation_0-mlogloss:0.20335\n",
      "[99]\tvalidation_0-mlogloss:0.20147\n",
      "[100]\tvalidation_0-mlogloss:0.19964\n",
      "[101]\tvalidation_0-mlogloss:0.19786\n",
      "[102]\tvalidation_0-mlogloss:0.19616\n",
      "[103]\tvalidation_0-mlogloss:0.19434\n",
      "[104]\tvalidation_0-mlogloss:0.19264\n",
      "[105]\tvalidation_0-mlogloss:0.19094\n",
      "[106]\tvalidation_0-mlogloss:0.18930\n",
      "[107]\tvalidation_0-mlogloss:0.18777\n",
      "[108]\tvalidation_0-mlogloss:0.18619\n",
      "[109]\tvalidation_0-mlogloss:0.18473\n",
      "[110]\tvalidation_0-mlogloss:0.18343\n",
      "[111]\tvalidation_0-mlogloss:0.18190\n",
      "[112]\tvalidation_0-mlogloss:0.18050\n",
      "[113]\tvalidation_0-mlogloss:0.17922\n",
      "[114]\tvalidation_0-mlogloss:0.17779\n",
      "[115]\tvalidation_0-mlogloss:0.17638\n",
      "[116]\tvalidation_0-mlogloss:0.17514\n",
      "[117]\tvalidation_0-mlogloss:0.17379\n",
      "[118]\tvalidation_0-mlogloss:0.17253\n",
      "[119]\tvalidation_0-mlogloss:0.17134\n"
     ]
    },
    {
     "ename": "KeyboardInterrupt",
     "evalue": "",
     "output_type": "error",
     "traceback": [
      "\u001b[1;31m---------------------------------------------------------------------------\u001b[0m",
      "\u001b[1;31mKeyboardInterrupt\u001b[0m                         Traceback (most recent call last)",
      "\u001b[1;32mc:\\Users\\Joshd\\ee_460j_dslab\\04_lab\\code.ipynb Cell 22\u001b[0m in \u001b[0;36m<module>\u001b[1;34m\u001b[0m\n\u001b[0;32m      <a href='vscode-notebook-cell:/c%3A/Users/Joshd/ee_460j_dslab/04_lab/code.ipynb#X26sZmlsZQ%3D%3D?line=1'>2</a>\u001b[0m le \u001b[39m=\u001b[39m LabelEncoder()\n\u001b[0;32m      <a href='vscode-notebook-cell:/c%3A/Users/Joshd/ee_460j_dslab/04_lab/code.ipynb#X26sZmlsZQ%3D%3D?line=2'>3</a>\u001b[0m Y_train \u001b[39m=\u001b[39m le\u001b[39m.\u001b[39mfit_transform(Y_train)\n\u001b[1;32m----> <a href='vscode-notebook-cell:/c%3A/Users/Joshd/ee_460j_dslab/04_lab/code.ipynb#X26sZmlsZQ%3D%3D?line=3'>4</a>\u001b[0m model_GB\u001b[39m.\u001b[39;49mfit(X_train,Y_train, early_stopping_rounds\u001b[39m=\u001b[39;49m\u001b[39m5\u001b[39;49m,eval_set\u001b[39m=\u001b[39;49m[(X_valid, Y_valid)], verbose\u001b[39m=\u001b[39;49m\u001b[39mTrue\u001b[39;49;00m)\n",
      "File \u001b[1;32mc:\\Users\\Joshd\\AppData\\Local\\Programs\\Python\\Python310\\lib\\site-packages\\xgboost\\core.py:575\u001b[0m, in \u001b[0;36m_deprecate_positional_args.<locals>.inner_f\u001b[1;34m(*args, **kwargs)\u001b[0m\n\u001b[0;32m    573\u001b[0m \u001b[39mfor\u001b[39;00m k, arg \u001b[39min\u001b[39;00m \u001b[39mzip\u001b[39m(sig\u001b[39m.\u001b[39mparameters, args):\n\u001b[0;32m    574\u001b[0m     kwargs[k] \u001b[39m=\u001b[39m arg\n\u001b[1;32m--> 575\u001b[0m \u001b[39mreturn\u001b[39;00m f(\u001b[39m*\u001b[39m\u001b[39m*\u001b[39mkwargs)\n",
      "File \u001b[1;32mc:\\Users\\Joshd\\AppData\\Local\\Programs\\Python\\Python310\\lib\\site-packages\\xgboost\\sklearn.py:1400\u001b[0m, in \u001b[0;36mXGBClassifier.fit\u001b[1;34m(self, X, y, sample_weight, base_margin, eval_set, eval_metric, early_stopping_rounds, verbose, xgb_model, sample_weight_eval_set, base_margin_eval_set, feature_weights, callbacks)\u001b[0m\n\u001b[0;32m   1379\u001b[0m model, metric, params, early_stopping_rounds, callbacks \u001b[39m=\u001b[39m \u001b[39mself\u001b[39m\u001b[39m.\u001b[39m_configure_fit(\n\u001b[0;32m   1380\u001b[0m     xgb_model, eval_metric, params, early_stopping_rounds, callbacks\n\u001b[0;32m   1381\u001b[0m )\n\u001b[0;32m   1382\u001b[0m train_dmatrix, evals \u001b[39m=\u001b[39m _wrap_evaluation_matrices(\n\u001b[0;32m   1383\u001b[0m     missing\u001b[39m=\u001b[39m\u001b[39mself\u001b[39m\u001b[39m.\u001b[39mmissing,\n\u001b[0;32m   1384\u001b[0m     X\u001b[39m=\u001b[39mX,\n\u001b[1;32m   (...)\u001b[0m\n\u001b[0;32m   1397\u001b[0m     enable_categorical\u001b[39m=\u001b[39m\u001b[39mself\u001b[39m\u001b[39m.\u001b[39menable_categorical,\n\u001b[0;32m   1398\u001b[0m )\n\u001b[1;32m-> 1400\u001b[0m \u001b[39mself\u001b[39m\u001b[39m.\u001b[39m_Booster \u001b[39m=\u001b[39m train(\n\u001b[0;32m   1401\u001b[0m     params,\n\u001b[0;32m   1402\u001b[0m     train_dmatrix,\n\u001b[0;32m   1403\u001b[0m     \u001b[39mself\u001b[39;49m\u001b[39m.\u001b[39;49mget_num_boosting_rounds(),\n\u001b[0;32m   1404\u001b[0m     evals\u001b[39m=\u001b[39;49mevals,\n\u001b[0;32m   1405\u001b[0m     early_stopping_rounds\u001b[39m=\u001b[39;49mearly_stopping_rounds,\n\u001b[0;32m   1406\u001b[0m     evals_result\u001b[39m=\u001b[39;49mevals_result,\n\u001b[0;32m   1407\u001b[0m     obj\u001b[39m=\u001b[39;49mobj,\n\u001b[0;32m   1408\u001b[0m     custom_metric\u001b[39m=\u001b[39;49mmetric,\n\u001b[0;32m   1409\u001b[0m     verbose_eval\u001b[39m=\u001b[39;49mverbose,\n\u001b[0;32m   1410\u001b[0m     xgb_model\u001b[39m=\u001b[39;49mmodel,\n\u001b[0;32m   1411\u001b[0m     callbacks\u001b[39m=\u001b[39;49mcallbacks,\n\u001b[0;32m   1412\u001b[0m )\n\u001b[0;32m   1414\u001b[0m \u001b[39mif\u001b[39;00m \u001b[39mnot\u001b[39;00m callable(\u001b[39mself\u001b[39m\u001b[39m.\u001b[39mobjective):\n\u001b[0;32m   1415\u001b[0m     \u001b[39mself\u001b[39m\u001b[39m.\u001b[39mobjective \u001b[39m=\u001b[39m params[\u001b[39m\"\u001b[39m\u001b[39mobjective\u001b[39m\u001b[39m\"\u001b[39m]\n",
      "File \u001b[1;32mc:\\Users\\Joshd\\AppData\\Local\\Programs\\Python\\Python310\\lib\\site-packages\\xgboost\\core.py:575\u001b[0m, in \u001b[0;36m_deprecate_positional_args.<locals>.inner_f\u001b[1;34m(*args, **kwargs)\u001b[0m\n\u001b[0;32m    573\u001b[0m \u001b[39mfor\u001b[39;00m k, arg \u001b[39min\u001b[39;00m \u001b[39mzip\u001b[39m(sig\u001b[39m.\u001b[39mparameters, args):\n\u001b[0;32m    574\u001b[0m     kwargs[k] \u001b[39m=\u001b[39m arg\n\u001b[1;32m--> 575\u001b[0m \u001b[39mreturn\u001b[39;00m f(\u001b[39m*\u001b[39m\u001b[39m*\u001b[39mkwargs)\n",
      "File \u001b[1;32mc:\\Users\\Joshd\\AppData\\Local\\Programs\\Python\\Python310\\lib\\site-packages\\xgboost\\training.py:181\u001b[0m, in \u001b[0;36mtrain\u001b[1;34m(params, dtrain, num_boost_round, evals, obj, feval, maximize, early_stopping_rounds, evals_result, verbose_eval, xgb_model, callbacks, custom_metric)\u001b[0m\n\u001b[0;32m    179\u001b[0m \u001b[39mif\u001b[39;00m cb_container\u001b[39m.\u001b[39mbefore_iteration(bst, i, dtrain, evals):\n\u001b[0;32m    180\u001b[0m     \u001b[39mbreak\u001b[39;00m\n\u001b[1;32m--> 181\u001b[0m bst\u001b[39m.\u001b[39;49mupdate(dtrain, i, obj)\n\u001b[0;32m    182\u001b[0m \u001b[39mif\u001b[39;00m cb_container\u001b[39m.\u001b[39mafter_iteration(bst, i, dtrain, evals):\n\u001b[0;32m    183\u001b[0m     \u001b[39mbreak\u001b[39;00m\n",
      "File \u001b[1;32mc:\\Users\\Joshd\\AppData\\Local\\Programs\\Python\\Python310\\lib\\site-packages\\xgboost\\core.py:1778\u001b[0m, in \u001b[0;36mBooster.update\u001b[1;34m(self, dtrain, iteration, fobj)\u001b[0m\n\u001b[0;32m   1775\u001b[0m \u001b[39mself\u001b[39m\u001b[39m.\u001b[39m_validate_features(dtrain)\n\u001b[0;32m   1777\u001b[0m \u001b[39mif\u001b[39;00m fobj \u001b[39mis\u001b[39;00m \u001b[39mNone\u001b[39;00m:\n\u001b[1;32m-> 1778\u001b[0m     _check_call(_LIB\u001b[39m.\u001b[39;49mXGBoosterUpdateOneIter(\u001b[39mself\u001b[39;49m\u001b[39m.\u001b[39;49mhandle,\n\u001b[0;32m   1779\u001b[0m                                             ctypes\u001b[39m.\u001b[39;49mc_int(iteration),\n\u001b[0;32m   1780\u001b[0m                                             dtrain\u001b[39m.\u001b[39;49mhandle))\n\u001b[0;32m   1781\u001b[0m \u001b[39melse\u001b[39;00m:\n\u001b[0;32m   1782\u001b[0m     pred \u001b[39m=\u001b[39m \u001b[39mself\u001b[39m\u001b[39m.\u001b[39mpredict(dtrain, output_margin\u001b[39m=\u001b[39m\u001b[39mTrue\u001b[39;00m, training\u001b[39m=\u001b[39m\u001b[39mTrue\u001b[39;00m)\n",
      "\u001b[1;31mKeyboardInterrupt\u001b[0m: "
     ]
    }
   ],
   "source": [
    "model_GB = XGBClassifier(n_estimators=1000, learning_rate=0.05, n_jobs=4)\n",
    "le = LabelEncoder()\n",
    "Y_train = le.fit_transform(Y_train)\n",
    "model_GB.fit(X_train,Y_train, early_stopping_rounds=5,eval_set=[(X_valid, Y_valid)], verbose=True)"
   ]
  },
  {
   "cell_type": "code",
   "execution_count": null,
   "metadata": {},
   "outputs": [
    {
     "name": "stdout",
     "output_type": "stream",
     "text": [
      "[0.96507143 0.96528571 0.96735714 0.9665    ]\n",
      "0.9660535714285714\n"
     ]
    }
   ],
   "source": [
    "CV_score_GB = cross_val_score(model_RF, X_valid, Y_valid, cv=4, scoring='accuracy')\n",
    "print(CV_score_GB)\n",
    "print(CV_score_GB.mean())"
   ]
  },
  {
   "cell_type": "markdown",
   "metadata": {},
   "source": [
    "Best Parameters for XGB: n_estimators=1000, learning_rate=0.05, n_jobs=4, Early_stopping_rounds = 5"
   ]
  },
  {
   "cell_type": "markdown",
   "metadata": {},
   "source": [
    "# Problem 4: Revisiting Logistic Regression and CIFAR-10. - Jackson\n",
    "As before, we’ll throw the kitchen sink of classical ML (i.e. pre-deep learning) on CIFAR-10.  \n",
    "Keep in mind that CIFAR-10 is a few times larger.\n",
    "* What is the best accuracy you can get on the test data, by tuning Random Forests? \n",
    "    * What are the hyperparameters of your best model?\n",
    "* What is the best accuracy you can get on the test data, by tuning any model including Gradient boosting? \n",
    "    * What are the hyperparameters of your best model?"
   ]
  },
  {
   "cell_type": "code",
   "execution_count": null,
   "metadata": {},
   "outputs": [],
   "source": []
  },
  {
   "cell_type": "markdown",
   "metadata": {},
   "source": [
    "# Problem 5: Getting Started with Pytorch. - Jackson\n",
    " * Install Pytorch.\n",
    " * Work through this tutorial to familiarize yourself with Pytorch basics: https://pytorch.org/tutorials/beginner/blitz/tensor_tutorial.html#sphx-glr-beginner-blitz-tensor-tutorial-py\n",
    " * Work through this tutorial on MNIST starting from a Pytorch logistic regression and building to a CNN using torch.nn. Use a GPU (e.g. on Colab, through Google Cloud credits, Pa-perspace, or any other way). https://pytorch.org/tutorials/beginner/nn_tutorial.html\n",
    " * Design the best CNN you can to get the best accuracy on MNIST."
   ]
  },
  {
   "cell_type": "code",
   "execution_count": null,
   "metadata": {},
   "outputs": [],
   "source": []
  },
  {
   "cell_type": "markdown",
   "metadata": {},
   "source": [
    "# Problem 6: CNNs for CIFAR-10. - Jackson\n",
    "* Build a CNN and optimize the accuracy for CIFAR-10. \n",
    "    * Try different number of layers and different architectures (depth and convolutional filter hyperparameters).\n",
    "* Is momentum and learning rate having a significant effect? \n",
    "    * Track the train and test loss across training epochs and plot them for different learning rates and momentum values.\n",
    "* Is the depth of the CNN having a significant effect on performance? \n",
    "    * Describe the hyperparameters of the best model you could train."
   ]
  },
  {
   "cell_type": "code",
   "execution_count": null,
   "metadata": {},
   "outputs": [],
   "source": []
  }
 ],
 "metadata": {
  "kernelspec": {
   "display_name": "Python 3.10.5 64-bit",
   "language": "python",
   "name": "python3"
  },
  "language_info": {
   "codemirror_mode": {
    "name": "ipython",
    "version": 3
   },
   "file_extension": ".py",
   "mimetype": "text/x-python",
   "name": "python",
   "nbconvert_exporter": "python",
   "pygments_lexer": "ipython3",
   "version": "3.10.5"
  },
  "orig_nbformat": 4,
  "vscode": {
   "interpreter": {
    "hash": "31c8c5cba07e95f2617789569750bcd97431d2b595fee35a3ee70d05066372fb"
   }
  }
 },
 "nbformat": 4,
 "nbformat_minor": 2
}
