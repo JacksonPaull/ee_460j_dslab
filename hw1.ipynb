{
 "cells": [
  {
   "cell_type": "markdown",
   "metadata": {
    "pycharm": {
     "name": "#%% md\n"
    }
   },
   "source": [
    "# Problem 6 HW 1\n",
    "\n",
    "1. Fit simple linear regression models where Oxygen is the dependent variable (y) and Runtime is\n",
    "the independent variable\n",
    "2. Estimate the intercept (β0), and the slope (β1) coefficients\n",
    "3. Compute the total sum of square (SST), sum of squares of error (SSE), and the sum of squares\n",
    "of regression (SSR)\n",
    "4. Write the Analysis of Variance (ANOVA) Table\n",
    "5. Compute R2: The coefficient of determination\n",
    "6. Is your fitted model a good fit"
   ]
  },
  {
   "cell_type": "code",
   "execution_count": null,
   "metadata": {
    "pycharm": {
     "is_executing": true,
     "name": "#%%\n"
    }
   },
   "outputs": [],
   "source": [
    "import pandas\n",
    "\n",
    "with open('aerobic.txt', 'r') as file:\n",
    "    data_list = file.read().splitlines()\n",
    "    file.close()\n",
    "\n",
    "print(data_list)"
   ]
  },
  {
   "cell_type": "code",
   "execution_count": null,
   "metadata": {
    "pycharm": {
     "name": "#%%\n"
    }
   },
   "outputs": [],
   "source": []
  }
 ],
 "metadata": {
  "kernelspec": {
   "display_name": "Python 3 (ipykernel)",
   "language": "python",
   "name": "python3"
  },
  "language_info": {
   "codemirror_mode": {
    "name": "ipython",
    "version": 3
   },
   "file_extension": ".py",
   "mimetype": "text/x-python",
   "name": "python",
   "nbconvert_exporter": "python",
   "pygments_lexer": "ipython3",
   "version": "3.8.9"
  }
 },
 "nbformat": 4,
 "nbformat_minor": 1
}
