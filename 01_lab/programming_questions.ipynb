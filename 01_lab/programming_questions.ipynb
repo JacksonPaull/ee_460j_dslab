{
 "cells": [
  {
   "cell_type": "markdown",
   "metadata": {},
   "source": [
    "# Names\n",
    "- Jackson Paull\n",
    "- Josh Dao\n",
    "- Jhanvi Girish"
   ]
  },
  {
   "cell_type": "markdown",
   "metadata": {},
   "source": [
    "# Problem 1"
   ]
  },
  {
   "cell_type": "markdown",
   "metadata": {},
   "source": [
    "# Problem 2"
   ]
  },
  {
   "cell_type": "markdown",
   "metadata": {},
   "source": [
    "# Problem 3"
   ]
  },
  {
   "cell_type": "markdown",
   "metadata": {},
   "source": [
    "# Problem 4"
   ]
  },
  {
   "cell_type": "markdown",
   "metadata": {},
   "source": [
    "# Problem 5"
   ]
  },
  {
   "cell_type": "code",
   "execution_count": 115,
   "metadata": {},
   "outputs": [
    {
     "data": {
      "text/html": [
       "<div>\n",
       "<style scoped>\n",
       "    .dataframe tbody tr th:only-of-type {\n",
       "        vertical-align: middle;\n",
       "    }\n",
       "\n",
       "    .dataframe tbody tr th {\n",
       "        vertical-align: top;\n",
       "    }\n",
       "\n",
       "    .dataframe thead th {\n",
       "        text-align: right;\n",
       "    }\n",
       "</style>\n",
       "<table border=\"1\" class=\"dataframe\">\n",
       "  <thead>\n",
       "    <tr style=\"text-align: right;\">\n",
       "      <th></th>\n",
       "      <th>75</th>\n",
       "      <th>0</th>\n",
       "      <th>190</th>\n",
       "      <th>80</th>\n",
       "      <th>91</th>\n",
       "      <th>193</th>\n",
       "      <th>371</th>\n",
       "      <th>174</th>\n",
       "      <th>121</th>\n",
       "      <th>-16</th>\n",
       "      <th>...</th>\n",
       "      <th>0.0.38</th>\n",
       "      <th>9.0</th>\n",
       "      <th>-0.9</th>\n",
       "      <th>0.0.39</th>\n",
       "      <th>0.0.40</th>\n",
       "      <th>0.9.2</th>\n",
       "      <th>2.9.1</th>\n",
       "      <th>23.3</th>\n",
       "      <th>49.4</th>\n",
       "      <th>8</th>\n",
       "    </tr>\n",
       "  </thead>\n",
       "  <tbody>\n",
       "    <tr>\n",
       "      <th>0</th>\n",
       "      <td>56</td>\n",
       "      <td>1</td>\n",
       "      <td>165</td>\n",
       "      <td>64</td>\n",
       "      <td>81</td>\n",
       "      <td>174</td>\n",
       "      <td>401</td>\n",
       "      <td>149</td>\n",
       "      <td>39</td>\n",
       "      <td>25</td>\n",
       "      <td>...</td>\n",
       "      <td>0.0</td>\n",
       "      <td>8.5</td>\n",
       "      <td>0.0</td>\n",
       "      <td>0.0</td>\n",
       "      <td>0.0</td>\n",
       "      <td>0.2</td>\n",
       "      <td>2.1</td>\n",
       "      <td>20.4</td>\n",
       "      <td>38.8</td>\n",
       "      <td>6</td>\n",
       "    </tr>\n",
       "    <tr>\n",
       "      <th>1</th>\n",
       "      <td>54</td>\n",
       "      <td>0</td>\n",
       "      <td>172</td>\n",
       "      <td>95</td>\n",
       "      <td>138</td>\n",
       "      <td>163</td>\n",
       "      <td>386</td>\n",
       "      <td>185</td>\n",
       "      <td>102</td>\n",
       "      <td>96</td>\n",
       "      <td>...</td>\n",
       "      <td>0.0</td>\n",
       "      <td>9.5</td>\n",
       "      <td>-2.4</td>\n",
       "      <td>0.0</td>\n",
       "      <td>0.0</td>\n",
       "      <td>0.3</td>\n",
       "      <td>3.4</td>\n",
       "      <td>12.3</td>\n",
       "      <td>49.0</td>\n",
       "      <td>10</td>\n",
       "    </tr>\n",
       "    <tr>\n",
       "      <th>2</th>\n",
       "      <td>55</td>\n",
       "      <td>0</td>\n",
       "      <td>175</td>\n",
       "      <td>94</td>\n",
       "      <td>100</td>\n",
       "      <td>202</td>\n",
       "      <td>380</td>\n",
       "      <td>179</td>\n",
       "      <td>143</td>\n",
       "      <td>28</td>\n",
       "      <td>...</td>\n",
       "      <td>0.0</td>\n",
       "      <td>12.2</td>\n",
       "      <td>-2.2</td>\n",
       "      <td>0.0</td>\n",
       "      <td>0.0</td>\n",
       "      <td>0.4</td>\n",
       "      <td>2.6</td>\n",
       "      <td>34.6</td>\n",
       "      <td>61.6</td>\n",
       "      <td>1</td>\n",
       "    </tr>\n",
       "    <tr>\n",
       "      <th>3</th>\n",
       "      <td>75</td>\n",
       "      <td>0</td>\n",
       "      <td>190</td>\n",
       "      <td>80</td>\n",
       "      <td>88</td>\n",
       "      <td>181</td>\n",
       "      <td>360</td>\n",
       "      <td>177</td>\n",
       "      <td>103</td>\n",
       "      <td>-16</td>\n",
       "      <td>...</td>\n",
       "      <td>0.0</td>\n",
       "      <td>13.1</td>\n",
       "      <td>-3.6</td>\n",
       "      <td>0.0</td>\n",
       "      <td>0.0</td>\n",
       "      <td>-0.1</td>\n",
       "      <td>3.9</td>\n",
       "      <td>25.4</td>\n",
       "      <td>62.8</td>\n",
       "      <td>7</td>\n",
       "    </tr>\n",
       "    <tr>\n",
       "      <th>4</th>\n",
       "      <td>13</td>\n",
       "      <td>0</td>\n",
       "      <td>169</td>\n",
       "      <td>51</td>\n",
       "      <td>100</td>\n",
       "      <td>167</td>\n",
       "      <td>321</td>\n",
       "      <td>174</td>\n",
       "      <td>91</td>\n",
       "      <td>107</td>\n",
       "      <td>...</td>\n",
       "      <td>-0.6</td>\n",
       "      <td>12.2</td>\n",
       "      <td>-2.8</td>\n",
       "      <td>0.0</td>\n",
       "      <td>0.0</td>\n",
       "      <td>0.9</td>\n",
       "      <td>2.2</td>\n",
       "      <td>13.5</td>\n",
       "      <td>31.1</td>\n",
       "      <td>14</td>\n",
       "    </tr>\n",
       "  </tbody>\n",
       "</table>\n",
       "<p>5 rows × 280 columns</p>\n",
       "</div>"
      ],
      "text/plain": [
       "   75  0  190  80   91  193  371  174  121  -16  ... 0.0.38   9.0 -0.9 0.0.39  \\\n",
       "0  56  1  165  64   81  174  401  149   39   25  ...    0.0   8.5  0.0    0.0   \n",
       "1  54  0  172  95  138  163  386  185  102   96  ...    0.0   9.5 -2.4    0.0   \n",
       "2  55  0  175  94  100  202  380  179  143   28  ...    0.0  12.2 -2.2    0.0   \n",
       "3  75  0  190  80   88  181  360  177  103  -16  ...    0.0  13.1 -3.6    0.0   \n",
       "4  13  0  169  51  100  167  321  174   91  107  ...   -0.6  12.2 -2.8    0.0   \n",
       "\n",
       "  0.0.40  0.9.2  2.9.1  23.3  49.4   8  \n",
       "0    0.0    0.2    2.1  20.4  38.8   6  \n",
       "1    0.0    0.3    3.4  12.3  49.0  10  \n",
       "2    0.0    0.4    2.6  34.6  61.6   1  \n",
       "3    0.0   -0.1    3.9  25.4  62.8   7  \n",
       "4    0.0    0.9    2.2  13.5  31.1  14  \n",
       "\n",
       "[5 rows x 280 columns]"
      ]
     },
     "execution_count": 115,
     "metadata": {},
     "output_type": "execute_result"
    }
   ],
   "source": [
    "import pandas as pd\n",
    "import matplotlib.pyplot as plt\n",
    "import seaborn as sns\n",
    "import numpy as np\n",
    "data = pd.read_csv(r\"C:\\Users\\Joshd\\Downloads\\PatientData.csv\") #read csv\n",
    "data.head() #view top 5 entries in csv"
   ]
  },
  {
   "cell_type": "markdown",
   "metadata": {},
   "source": [
    "# How many patients and how many features are there?"
   ]
  },
  {
   "cell_type": "code",
   "execution_count": 116,
   "metadata": {},
   "outputs": [
    {
     "name": "stdout",
     "output_type": "stream",
     "text": [
      "75       451\n",
      "0        451\n",
      "190      451\n",
      "80       451\n",
      "91       451\n",
      "        ... \n",
      "0.9.2    451\n",
      "2.9.1    451\n",
      "23.3     451\n",
      "49.4     451\n",
      "8        451\n",
      "Length: 280, dtype: int64\n"
     ]
    }
   ],
   "source": [
    "print(data.count())"
   ]
  },
  {
   "cell_type": "markdown",
   "metadata": {},
   "source": [
    "**There are 280 features and 451 patients.**"
   ]
  },
  {
   "cell_type": "markdown",
   "metadata": {},
   "source": [
    "# What is the meaning of the first 4 features? See if you can understand what they mean."
   ]
  },
  {
   "cell_type": "code",
   "execution_count": 117,
   "metadata": {},
   "outputs": [
    {
     "data": {
      "text/plain": [
       "<AxesSubplot:title={'center':'Feature 1'}, xlabel='75', ylabel='Count'>"
      ]
     },
     "execution_count": 117,
     "metadata": {},
     "output_type": "execute_result"
    },
    {
     "data": {
      "image/png": "[encoded data removed]",
      "text/plain": [
       "<Figure size 432x288 with 1 Axes>"
      ]
     },
     "metadata": {
      "needs_background": "light"
     },
     "output_type": "display_data"
    }
   ],
   "source": [
    "plt.title(\"Feature 1\")\n",
    "sns.histplot(data.iloc[:,0])"
   ]
  },
  {
   "cell_type": "markdown",
   "metadata": {},
   "source": [
    "Looking at this distrubtion, we can see that the range of the data is between 0 to 85 and the mean is around 50.  This feature must therefore be Age."
   ]
  },
  {
   "cell_type": "code",
   "execution_count": 118,
   "metadata": {},
   "outputs": [
    {
     "data": {
      "text/plain": [
       "<AxesSubplot:title={'center':'Feature 2'}, xlabel='0', ylabel='count'>"
      ]
     },
     "execution_count": 118,
     "metadata": {},
     "output_type": "execute_result"
    },
    {
     "data": {
      "image/png": "[encoded data removed]",
      "text/plain": [
       "<Figure size 432x288 with 1 Axes>"
      ]
     },
     "metadata": {
      "needs_background": "light"
     },
     "output_type": "display_data"
    }
   ],
   "source": [
    "plt.title(\"Feature 2\")\n",
    "sns.countplot(x=data.iloc[:,1])"
   ]
  },
  {
   "cell_type": "markdown",
   "metadata": {},
   "source": [
    "Being a binary classifer with there being only 2 options (0 and 1), this feature must indicate some sort of trait or status that only has 2 options.  The most logical choice would be the gender/sex of the patient."
   ]
  },
  {
   "cell_type": "code",
   "execution_count": 119,
   "metadata": {},
   "outputs": [
    {
     "data": {
      "text/plain": [
       "<AxesSubplot:title={'center':'Feature 3'}, xlabel='190', ylabel='Count'>"
      ]
     },
     "execution_count": 119,
     "metadata": {},
     "output_type": "execute_result"
    },
    {
     "data": {
      "image/png": "[encoded data removed]",
      "text/plain": [
       "<Figure size 432x288 with 1 Axes>"
      ]
     },
     "metadata": {
      "needs_background": "light"
     },
     "output_type": "display_data"
    }
   ],
   "source": [
    "plt.title(\"Feature 3\")\n",
    "sns.histplot(data.iloc[:,2])"
   ]
  },
  {
   "cell_type": "markdown",
   "metadata": {},
   "source": [
    "Looking at this histogram, the range of the dataset is between 100 to a little under 200 with a mean of about 150.  This feature most likely indicates the height of the patient in cm.  Furthermore, we can see that there are 2 outliers in the data at around 600 and 800. However looking at the features for these 2 patients, we can see that these 2 entries are most likely mistakes since it is almost impossible for there to be a 1 year old female with a height of 780cm or 25.6ft.  Therefore we can disregard these two entires since they are likely noise. "
   ]
  },
  {
   "cell_type": "code",
   "execution_count": 120,
   "metadata": {},
   "outputs": [
    {
     "data": {
      "text/plain": [
       "<AxesSubplot:title={'center':'Feature 4'}, xlabel='80', ylabel='Count'>"
      ]
     },
     "execution_count": 120,
     "metadata": {},
     "output_type": "execute_result"
    },
    {
     "data": {
      "image/png": "[encoded data removed]",
      "text/plain": [
       "<Figure size 432x288 with 1 Axes>"
      ]
     },
     "metadata": {
      "needs_background": "light"
     },
     "output_type": "display_data"
    }
   ],
   "source": [
    "plt.title(\"Feature 4\")\n",
    "sns.histplot(data.iloc[:,3])"
   ]
  },
  {
   "cell_type": "markdown",
   "metadata": {},
   "source": [
    "This feature has a range of a little above 0 to 175 with a mean of roughly 70.  This feature most likely depicts the patients weight in kilograms."
   ]
  },
  {
   "cell_type": "markdown",
   "metadata": {},
   "source": [
    "**Looking at the charts and distribution for each feature, the first 4 features are most likely Age, Sex, Weight, and Height.**"
   ]
  },
  {
   "cell_type": "markdown",
   "metadata": {},
   "source": [
    "# Are there missing values? Replace them with the average of the corresponding feature column\n"
   ]
  },
  {
   "cell_type": "code",
   "execution_count": 121,
   "metadata": {},
   "outputs": [
    {
     "name": "stdout",
     "output_type": "stream",
     "text": [
      "0      -13.592105\n",
      "1       23.000000\n",
      "2      -13.592105\n",
      "3      -13.592105\n",
      "4      -13.592105\n",
      "          ...    \n",
      "446    -13.592105\n",
      "447    -13.592105\n",
      "448     84.000000\n",
      "449    103.000000\n",
      "450    -13.592105\n",
      "Name: ?, Length: 451, dtype: float64\n",
      "\n",
      "\n",
      "0      53.000000\n",
      "1      75.000000\n",
      "2      71.000000\n",
      "3      74.488889\n",
      "4      84.000000\n",
      "         ...    \n",
      "446    63.000000\n",
      "447    73.000000\n",
      "448    84.000000\n",
      "449    80.000000\n",
      "450    75.000000\n",
      "Name: 63, Length: 451, dtype: float64\n"
     ]
    }
   ],
   "source": [
    "data.iloc[:,[13,14]] = data.iloc[:,[13,14]].apply(pd.to_numeric,errors='coerce') #Change dtype from object to float in order to use mean()\n",
    "data.iloc[:,13].replace(np.NaN, data.iloc[:,13].mean() ,inplace=True)  #Replace all NaN (Not a number) with mean\n",
    "data.iloc[:,14].replace(np.NaN, data.iloc[:,14].mean() ,inplace=True)\n",
    "print(data.iloc[:,13])\n",
    "print(\"\\n\")\n",
    "print(data.iloc[:,14])\n"
   ]
  },
  {
   "cell_type": "markdown",
   "metadata": {},
   "source": [
    "# How could you test which features strongly influence the patient condition and which do not?\n"
   ]
  },
  {
   "cell_type": "markdown",
   "metadata": {},
   "source": [
    "We can plot each feature and see which have a strong correlation to each other. Any feature that has little to no correlation to any other features can be discarded in our training set."
   ]
  },
  {
   "cell_type": "code",
   "execution_count": 122,
   "metadata": {},
   "outputs": [
    {
     "data": {
      "text/plain": [
       "<AxesSubplot:xlabel='75', ylabel='80'>"
      ]
     },
     "execution_count": 122,
     "metadata": {},
     "output_type": "execute_result"
    },
    {
     "data": {
      "image/png": "[encoded data removed]",
      "text/plain": [
       "<Figure size 432x288 with 1 Axes>"
      ]
     },
     "metadata": {
      "needs_background": "light"
     },
     "output_type": "display_data"
    }
   ],
   "source": [
    "sns.regplot(x=data.iloc[:,0], y=data.iloc[:,3])"
   ]
  },
  {
   "cell_type": "markdown",
   "metadata": {},
   "source": [
    "For example after plotting the 1st and 4th feature, we can see there is a positive correlation between age and height.  Therefore we should keep these features."
   ]
  },
  {
   "cell_type": "markdown",
   "metadata": {},
   "source": [
    "The 3 most important features I belive are Age, Weight, and Height"
   ]
  }
 ],
 "metadata": {
  "interpreter": {
   "hash": "ab57668af617cb862e77fdefb60d0b266bcf3c44d92a6ff47fdb74d1de378ead"
  },
  "kernelspec": {
   "display_name": "Python 3.10.5 64-bit",
   "language": "python",
   "name": "python3"
  },
  "language_info": {
   "codemirror_mode": {
    "name": "ipython",
    "version": 3
   },
   "file_extension": ".py",
   "mimetype": "text/x-python",
   "name": "python",
   "nbconvert_exporter": "python",
   "pygments_lexer": "ipython3",
   "version": "3.10.5"
  },
  "orig_nbformat": 4
 },
 "nbformat": 4,
 "nbformat_minor": 2
}
