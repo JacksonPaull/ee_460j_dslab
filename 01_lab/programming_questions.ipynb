{
 "cells": [
  {
   "cell_type": "markdown",
   "metadata": {
    "pycharm": {
     "name": "#%% md\n"
    }
   },
   "source": [
    "# Names\n",
    "- Jackson Paull\n",
    "- Josh\n",
    "- Jhanvi Girish"
   ]
  },
  {
   "cell_type": "markdown",
   "metadata": {
    "pycharm": {
     "name": "#%% md\n"
    }
   },
   "source": [
    "# Problem 1 - Jhanvi\n",
    "\n",
    "Create 1000 samples from a Gaussian distribution with mean -10 and standard deviation 5.\n",
    "Create another 1000 samples from another independant Gaussian with mean 10 and standard deviation 5.\n",
    "\n",
    "(a) Take the sum of these two Gaussians by adding the two sets of 1000 points, point by point, and plot the histogram of the resulting 1000 points. What do you observe?\n",
    "(b) Estimate the mean and the variance of the sum."
   ]
  },
  {
   "cell_type": "code",
   "execution_count": 83,
   "metadata": {
    "pycharm": {
     "name": "#%%\n"
    }
   },
   "outputs": [
    {
     "name": "stdout",
     "output_type": "stream",
     "text": [
      "Part a: The resulting histogram also seems to be normal centered around 0. This is not surprising as the intial two Gaussians were centered around 10 and -10, respectively; their sum would average to the middle (0).\n",
      "\n",
      "Part b:\n",
      "Estimated mean is 0.10. \n",
      "Estimated variance is 48.03.\n"
     ]
    },
    {
     "data": {
      "text/plain": "<Figure size 640x480 with 1 Axes>",
      "image/png": "[encoded data removed]"
     },
     "metadata": {},
     "output_type": "display_data"
    }
   ],
   "source": [
    "import numpy as np\n",
    "import matplotlib.pyplot as plt\n",
    "import decimal as d\n",
    "\n",
    "def plot_sum (normal1, normal2):\n",
    "    sum = np.add(normal1, normal2)\n",
    "    plt.hist(sum, bins = 25)\n",
    "    plt.title(\"Histogram of ~N(10, 5) + ~N(-10, 5)\")\n",
    "    plt.ylabel(\"Frequency\")\n",
    "    plt.xlabel(\"Value\")\n",
    "    return sum\n",
    "\n",
    "def variance (sum_data, mean):\n",
    "    n = len(sum_data) - 1\n",
    "    sum_dev = 0\n",
    "    for x in sum_data:\n",
    "        sum_dev += ((x - mean) ** 2)\n",
    "    ans = sum_dev / n\n",
    "    return ans\n",
    "\n",
    "gaussian_1 = np.random.normal(loc = -10, scale = 5, size = 1000)\n",
    "gaussian_2 = np.random.normal(loc = 10, scale = 5, size = 1000)\n",
    "\n",
    "# Part a: Plot sum of two Gaussians\n",
    "joint_distribution = plot_sum(gaussian_1, gaussian_2)\n",
    "\n",
    "print(\"Part a: The resulting histogram also seems to be normal centered around 0. This is not surprising as the intial two Gaussians were centered around 10 and -10, respectively; their sum would average to the middle (0).\")\n",
    "\n",
    "# Part b: Estimate the mean and variance of the sum.\n",
    "mean = np.sum(joint_distribution)/ len(joint_distribution)\n",
    "data_var = variance(joint_distribution, mean)\n",
    "\n",
    "print(\"\\nPart b:\\nEstimated mean is {first}. \\nEstimated variance is {second}.\".format(first=d.Decimal(mean).quantize(d.Decimal('.01'), rounding=d.ROUND_DOWN), second=d.Decimal(data_var).quantize(d.Decimal('.01'), rounding=d.ROUND_DOWN)))"
   ]
  },
  {
   "cell_type": "markdown",
   "metadata": {
    "pycharm": {
     "name": "#%% md\n"
    }
   },
   "source": [
    "# Problem 2"
   ]
  },
  {
   "cell_type": "markdown",
   "metadata": {
    "pycharm": {
     "name": "#%% md\n"
    }
   },
   "source": [
    "# Problem 3"
   ]
  },
  {
   "cell_type": "markdown",
   "metadata": {
    "pycharm": {
     "name": "#%% md\n"
    }
   },
   "source": [
    "# Problem 4 - Jhanvi\n",
    "Estimate the mean and covariance matrix for multi-dimensional data: generate 10,000 samples of 2 dimensional data from the Gaussian distribution\n",
    "                       | Xi |  ~ N ( | -5 |   | 20   0.8 |\n",
    "                       | Yi |        |  5 | , | 0.8  30  | )\n",
    "Then, estimate the mean and covariance matrix for this multi-dimensional data using elementary numpy commands, i.e., addition, multiplication, division (do not use a command that takes data and returns the mean or standard deviation).\n"
   ]
  },
  {
   "cell_type": "code",
   "execution_count": 89,
   "outputs": [
    {
     "name": "stdout",
     "output_type": "stream",
     "text": [
      "The estimated mean is [-5.058022776683509, 5.052036112564917]\n",
      "The estimated covariance matrix is [[19.99725712  0.91625404]\n",
      " [ 0.91625404 29.81989724]]\n"
     ]
    }
   ],
   "source": [
    "import numpy as np\n",
    "import matplotlib.pyplot as plt\n",
    "\n",
    "def covariance_estimator(x, y, mean_x, mean_y):\n",
    "    x_cent = [0 for x in range(len(x))]\n",
    "    y_cent = [0 for y in range(len(y))]\n",
    "    i = 0\n",
    "    for pt in x:\n",
    "        x_cent[i] = (pt - mean_x)\n",
    "        i += 1\n",
    "    i = 0\n",
    "    for pt in y:\n",
    "        y_cent[i] = (pt - mean_y)\n",
    "        i += 1\n",
    "\n",
    "    d_cent = np.column_stack((x_cent, y_cent))\n",
    "    d_cent_t = np.transpose(d_cent)\n",
    "    inverse_n = 1 / (len(d_cent) - 1)\n",
    "    return (np.matmul(d_cent_t, d_cent)) * inverse_n\n",
    "\n",
    "mean = [-5, 5]\n",
    "cov = [[20, 0.8], [0.8, 30]]\n",
    "\n",
    "x, y = np.random.multivariate_normal(mean, cov, 10000).T\n",
    "\n",
    "#plt.plot(x, y, '.')\n",
    "\n",
    "# Estimate the mean\n",
    "mean_x = np.sum(x) / len(x)\n",
    "mean_y = np.sum(y) / len(y)\n",
    "\n",
    "mean_est = [mean_x, mean_y]\n",
    "print(\"The estimated mean is\", mean_est)\n",
    "\n",
    "# Estimate the covariance\n",
    "covariance_est = covariance_estimator(x, y, mean_x, mean_y)\n",
    "print(\"The estimated covariance matrix is\", covariance_est)"
   ],
   "metadata": {
    "collapsed": false,
    "pycharm": {
     "name": "#%%\n"
    }
   }
  },
  {
   "cell_type": "markdown",
   "metadata": {
    "pycharm": {
     "name": "#%% md\n"
    }
   },
   "source": [
    "# Problem 5"
   ]
  },
  {
   "cell_type": "markdown",
   "metadata": {
    "pycharm": {
     "name": "#%% md\n"
    }
   },
   "source": []
  }
 ],
 "metadata": {
  "kernelspec": {
   "display_name": "Python 3 (ipykernel)",
   "language": "python",
   "name": "python3"
  },
  "language_info": {
   "codemirror_mode": {
    "name": "ipython",
    "version": 3
   },
   "file_extension": ".py",
   "mimetype": "text/x-python",
   "name": "python",
   "nbconvert_exporter": "python",
   "pygments_lexer": "ipython3",
   "version": "3.8.9"
  }
 },
 "nbformat": 4,
 "nbformat_minor": 2
}